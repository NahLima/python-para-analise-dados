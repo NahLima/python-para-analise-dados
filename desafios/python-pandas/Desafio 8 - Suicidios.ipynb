{
 "cells": [
  {
   "cell_type": "markdown",
   "metadata": {},
   "source": [
    "### Desafio: Suicidios (Probabilidade Condicional)\n",
    "\n",
    "---\n",
    "**Descrição do Problema:** Dado que você é uma investigadora da polícia e tem em mãos uma base de dados sobre o histórico de suícidios de seu país. \n",
    "\n",
    "<ol>\n",
    "    <li> Crie uma função que ao informar o sexo e a faixa etária de um suícidio é retornado as probilidades do método utilizado.\n",
    "    <li> Com auxílio da função input() faça a chamada da função do item 1. (a ideia é simular uma interface amigável)\n",
    "</ol>\n",
    "\n",
    "**Código do dataset:** Suicide\n",
    "\n",
    "**Dicas:**\n",
    "\n",
    "<ul>\n",
    "    <li> Utilizar o método groupby\n",
    "</ul>\n",
    "\n",
    "---"
   ]
  },
  {
   "cell_type": "markdown",
   "metadata": {},
   "source": [
    "**Passo 1:** Importar as bibliotecas"
   ]
  },
  {
   "cell_type": "code",
   "execution_count": 1,
   "metadata": {},
   "outputs": [],
   "source": [
    "from pydataset import data\n",
    "import pandas as pd"
   ]
  },
  {
   "cell_type": "markdown",
   "metadata": {},
   "source": [
    "**Passo 2:** Importar o dataset e verificar sua estrutura"
   ]
  },
  {
   "cell_type": "code",
   "execution_count": 2,
   "metadata": {},
   "outputs": [
    {
     "data": {
      "text/html": [
       "<div>\n",
       "<style scoped>\n",
       "    .dataframe tbody tr th:only-of-type {\n",
       "        vertical-align: middle;\n",
       "    }\n",
       "\n",
       "    .dataframe tbody tr th {\n",
       "        vertical-align: top;\n",
       "    }\n",
       "\n",
       "    .dataframe thead th {\n",
       "        text-align: right;\n",
       "    }\n",
       "</style>\n",
       "<table border=\"1\" class=\"dataframe\">\n",
       "  <thead>\n",
       "    <tr style=\"text-align: right;\">\n",
       "      <th></th>\n",
       "      <th>Freq</th>\n",
       "      <th>sex</th>\n",
       "      <th>method</th>\n",
       "      <th>age</th>\n",
       "      <th>age.group</th>\n",
       "      <th>method2</th>\n",
       "    </tr>\n",
       "  </thead>\n",
       "  <tbody>\n",
       "    <tr>\n",
       "      <th>1</th>\n",
       "      <td>4</td>\n",
       "      <td>male</td>\n",
       "      <td>poison</td>\n",
       "      <td>10</td>\n",
       "      <td>10-20</td>\n",
       "      <td>poison</td>\n",
       "    </tr>\n",
       "    <tr>\n",
       "      <th>2</th>\n",
       "      <td>0</td>\n",
       "      <td>male</td>\n",
       "      <td>cookgas</td>\n",
       "      <td>10</td>\n",
       "      <td>10-20</td>\n",
       "      <td>gas</td>\n",
       "    </tr>\n",
       "    <tr>\n",
       "      <th>3</th>\n",
       "      <td>0</td>\n",
       "      <td>male</td>\n",
       "      <td>toxicgas</td>\n",
       "      <td>10</td>\n",
       "      <td>10-20</td>\n",
       "      <td>gas</td>\n",
       "    </tr>\n",
       "    <tr>\n",
       "      <th>4</th>\n",
       "      <td>247</td>\n",
       "      <td>male</td>\n",
       "      <td>hang</td>\n",
       "      <td>10</td>\n",
       "      <td>10-20</td>\n",
       "      <td>hang</td>\n",
       "    </tr>\n",
       "    <tr>\n",
       "      <th>5</th>\n",
       "      <td>1</td>\n",
       "      <td>male</td>\n",
       "      <td>drown</td>\n",
       "      <td>10</td>\n",
       "      <td>10-20</td>\n",
       "      <td>drown</td>\n",
       "    </tr>\n",
       "  </tbody>\n",
       "</table>\n",
       "</div>"
      ],
      "text/plain": [
       "   Freq   sex    method  age age.group method2\n",
       "1     4  male    poison   10     10-20  poison\n",
       "2     0  male   cookgas   10     10-20     gas\n",
       "3     0  male  toxicgas   10     10-20     gas\n",
       "4   247  male      hang   10     10-20    hang\n",
       "5     1  male     drown   10     10-20   drown"
      ]
     },
     "execution_count": 2,
     "metadata": {},
     "output_type": "execute_result"
    }
   ],
   "source": [
    "df = data('Suicide')\n",
    "df.head()"
   ]
  },
  {
   "cell_type": "markdown",
   "metadata": {},
   "source": [
    "**Passo 3:** Elimina colunas com informações que não serão utilizadas "
   ]
  },
  {
   "cell_type": "code",
   "execution_count": 3,
   "metadata": {},
   "outputs": [
    {
     "data": {
      "text/html": [
       "<div>\n",
       "<style scoped>\n",
       "    .dataframe tbody tr th:only-of-type {\n",
       "        vertical-align: middle;\n",
       "    }\n",
       "\n",
       "    .dataframe tbody tr th {\n",
       "        vertical-align: top;\n",
       "    }\n",
       "\n",
       "    .dataframe thead th {\n",
       "        text-align: right;\n",
       "    }\n",
       "</style>\n",
       "<table border=\"1\" class=\"dataframe\">\n",
       "  <thead>\n",
       "    <tr style=\"text-align: right;\">\n",
       "      <th></th>\n",
       "      <th>Freq</th>\n",
       "      <th>sex</th>\n",
       "      <th>age.group</th>\n",
       "      <th>method2</th>\n",
       "    </tr>\n",
       "  </thead>\n",
       "  <tbody>\n",
       "    <tr>\n",
       "      <th>1</th>\n",
       "      <td>4</td>\n",
       "      <td>male</td>\n",
       "      <td>10-20</td>\n",
       "      <td>poison</td>\n",
       "    </tr>\n",
       "    <tr>\n",
       "      <th>2</th>\n",
       "      <td>0</td>\n",
       "      <td>male</td>\n",
       "      <td>10-20</td>\n",
       "      <td>gas</td>\n",
       "    </tr>\n",
       "    <tr>\n",
       "      <th>3</th>\n",
       "      <td>0</td>\n",
       "      <td>male</td>\n",
       "      <td>10-20</td>\n",
       "      <td>gas</td>\n",
       "    </tr>\n",
       "    <tr>\n",
       "      <th>4</th>\n",
       "      <td>247</td>\n",
       "      <td>male</td>\n",
       "      <td>10-20</td>\n",
       "      <td>hang</td>\n",
       "    </tr>\n",
       "    <tr>\n",
       "      <th>5</th>\n",
       "      <td>1</td>\n",
       "      <td>male</td>\n",
       "      <td>10-20</td>\n",
       "      <td>drown</td>\n",
       "    </tr>\n",
       "  </tbody>\n",
       "</table>\n",
       "</div>"
      ],
      "text/plain": [
       "   Freq   sex age.group method2\n",
       "1     4  male     10-20  poison\n",
       "2     0  male     10-20     gas\n",
       "3     0  male     10-20     gas\n",
       "4   247  male     10-20    hang\n",
       "5     1  male     10-20   drown"
      ]
     },
     "execution_count": 3,
     "metadata": {},
     "output_type": "execute_result"
    }
   ],
   "source": [
    "df = df.drop(['age', 'method'], axis=1)\n",
    "df.head()"
   ]
  },
  {
   "cell_type": "markdown",
   "metadata": {},
   "source": [
    "**Passo 4:** Traduz as informações"
   ]
  },
  {
   "cell_type": "code",
   "execution_count": 4,
   "metadata": {},
   "outputs": [
    {
     "data": {
      "text/html": [
       "<div>\n",
       "<style scoped>\n",
       "    .dataframe tbody tr th:only-of-type {\n",
       "        vertical-align: middle;\n",
       "    }\n",
       "\n",
       "    .dataframe tbody tr th {\n",
       "        vertical-align: top;\n",
       "    }\n",
       "\n",
       "    .dataframe thead th {\n",
       "        text-align: right;\n",
       "    }\n",
       "</style>\n",
       "<table border=\"1\" class=\"dataframe\">\n",
       "  <thead>\n",
       "    <tr style=\"text-align: right;\">\n",
       "      <th></th>\n",
       "      <th>Freq</th>\n",
       "      <th>Sexo</th>\n",
       "      <th>FaixaEtaria</th>\n",
       "      <th>Metodo</th>\n",
       "    </tr>\n",
       "  </thead>\n",
       "  <tbody>\n",
       "    <tr>\n",
       "      <th>1</th>\n",
       "      <td>4</td>\n",
       "      <td>masculino</td>\n",
       "      <td>10-20</td>\n",
       "      <td>veneno</td>\n",
       "    </tr>\n",
       "    <tr>\n",
       "      <th>2</th>\n",
       "      <td>0</td>\n",
       "      <td>masculino</td>\n",
       "      <td>10-20</td>\n",
       "      <td>gas</td>\n",
       "    </tr>\n",
       "    <tr>\n",
       "      <th>3</th>\n",
       "      <td>0</td>\n",
       "      <td>masculino</td>\n",
       "      <td>10-20</td>\n",
       "      <td>gas</td>\n",
       "    </tr>\n",
       "    <tr>\n",
       "      <th>4</th>\n",
       "      <td>247</td>\n",
       "      <td>masculino</td>\n",
       "      <td>10-20</td>\n",
       "      <td>enforcamento</td>\n",
       "    </tr>\n",
       "    <tr>\n",
       "      <th>5</th>\n",
       "      <td>1</td>\n",
       "      <td>masculino</td>\n",
       "      <td>10-20</td>\n",
       "      <td>afogamento</td>\n",
       "    </tr>\n",
       "  </tbody>\n",
       "</table>\n",
       "</div>"
      ],
      "text/plain": [
       "   Freq       Sexo FaixaEtaria        Metodo\n",
       "1     4  masculino       10-20        veneno\n",
       "2     0  masculino       10-20           gas\n",
       "3     0  masculino       10-20           gas\n",
       "4   247  masculino       10-20  enforcamento\n",
       "5     1  masculino       10-20    afogamento"
      ]
     },
     "execution_count": 4,
     "metadata": {},
     "output_type": "execute_result"
    }
   ],
   "source": [
    "# dict com a tradução dos valores da coluna method2\n",
    "translated_methods = {\n",
    "    'drown' : 'afogamento',\n",
    "    'gas' : 'gas',\n",
    "    'gun' : 'arma de fogo',\n",
    "    'hang' : 'enforcamento',\n",
    "    'jump' : 'queda livre',\n",
    "    'knife' : 'faca',\n",
    "    'other' : 'outro', \n",
    "    'poison' : 'veneno',   \n",
    "}\n",
    "\n",
    "# dict com a tradução da coluna sex\n",
    "translated_sex = {\n",
    "    'female' : 'feminino',\n",
    "    'male' : 'masculino'\n",
    "}\n",
    "\n",
    "# renomeia as colunas\n",
    "df.columns = ['Freq', 'Sexo', 'FaixaEtaria', 'Metodo']\n",
    "# traduz os valores da coluna Metodo e Sexo\n",
    "df.replace({'Metodo' : translated_methods, 'Sexo' : translated_sex}, inplace=True)\n",
    "# visualiza a tabela\n",
    "df.head()"
   ]
  },
  {
   "cell_type": "markdown",
   "metadata": {},
   "source": [
    "**Passo 5:** Cria a função descrita no item 1"
   ]
  },
  {
   "cell_type": "code",
   "execution_count": 5,
   "metadata": {},
   "outputs": [],
   "source": [
    "''' Solução 1\n",
    "'''\n",
    "def create_report1(df, sexo, f_etaria):\n",
    "    # retorna o sub-conjunto de dados com o sexo e faixa etária informado\n",
    "    new_df = df.query(\"Sexo == @sexo and FaixaEtaria == @f_etaria\")\n",
    "    # como agora o sexo e faixa etaria tem os mesmos valores, elimina essas colunas \n",
    "    new_df = new_df.drop(['Sexo', 'FaixaEtaria'], axis=1)\n",
    "    # agrupa por método e soma os valores (existe mais de 1 exemplo para cada combinação sexo, metodo e etaria)\n",
    "    new_df = new_df.groupby(by=['Metodo']).sum()\n",
    "    # ordena a tabela de acorda com os valores da coluna Freq (do maior valor para o menor valor)\n",
    "    new_df = new_df.sort_values(by='Freq', ascending=False)\n",
    "    # cria uma coluna Probabilidade que indica a probabilidade do evento ocorrer dado as informações\n",
    "    # dos atributos das informações Prob = Freq/(Soma de todas as frequências)\n",
    "    new_df['Probabilidade'] = new_df['Freq']/new_df['Freq'].sum()\n",
    "    # retorna o resultado\n",
    "    return new_df\n"
   ]
  },
  {
   "cell_type": "code",
   "execution_count": 10,
   "metadata": {},
   "outputs": [],
   "source": [
    "\n",
    "''' Solução 2\n",
    "'''\n",
    "def create_report2(df, sexo, f_etaria):\n",
    "    # agrupa os resultados (somando as ocorrências iguais) em Sexo, FaixaEtaria e Metodo\n",
    "    new_df = df.groupby(by=['Sexo', 'FaixaEtaria', 'Metodo']).sum()\n",
    "    # recupera as informações do Sexo e Faixa Etaria desejada\n",
    "    new_df = new_df.loc[(sexo, f_etaria)]\n",
    "    # ordena a tabela de acorda com os valores da coluna Freq (do maior valor para o menor valor)\n",
    "    new_df = new_df.sort_values(by='Freq', ascending=False)\n",
    "    # cria uma coluna Probabilidade que indica a probabilidade do evento ocorrer dado as informações\n",
    "    # dos atributos das informações Prob = Freq/(Soma de todas as frequências)\n",
    "    new_df['Probabilidade'] = new_df['Freq']/new_df['Freq'].sum()\n",
    "    # retorna o resultado\n",
    "    return new_df"
   ]
  },
  {
   "cell_type": "markdown",
   "metadata": {},
   "source": [
    "**Passo 6:** Testar a função"
   ]
  },
  {
   "cell_type": "code",
   "execution_count": 6,
   "metadata": {},
   "outputs": [
    {
     "data": {
      "text/plain": [
       "array(['10-20', '25-35', '40-50', '55-65', '70-90'], dtype=object)"
      ]
     },
     "execution_count": 6,
     "metadata": {},
     "output_type": "execute_result"
    }
   ],
   "source": [
    "# para facilitar, verificar os grupos de faixa etária contido no dataset\n",
    "df['FaixaEtaria'].unique()"
   ]
  },
  {
   "cell_type": "code",
   "execution_count": 7,
   "metadata": {},
   "outputs": [
    {
     "data": {
      "text/html": [
       "<style  type=\"text/css\" >\n",
       "</style><table id=\"T_6722ea90_8cd8_11ec_9f84_8cc84bffebdc\" ><thead>    <tr>        <th class=\"blank level0\" ></th>        <th class=\"col_heading level0 col0\" >Freq</th>        <th class=\"col_heading level0 col1\" >Probabilidade</th>    </tr>    <tr>        <th class=\"index_name level0\" >Metodo</th>        <th class=\"blank\" ></th>        <th class=\"blank\" ></th>    </tr></thead><tbody>\n",
       "                <tr>\n",
       "                        <th id=\"T_6722ea90_8cd8_11ec_9f84_8cc84bffebdclevel0_row0\" class=\"row_heading level0 row0\" >veneno</th>\n",
       "                        <td id=\"T_6722ea90_8cd8_11ec_9f84_8cc84bffebdcrow0_col0\" class=\"data row0 col0\" >921</td>\n",
       "                        <td id=\"T_6722ea90_8cd8_11ec_9f84_8cc84bffebdcrow0_col1\" class=\"data row0 col1\" >62.65%</td>\n",
       "            </tr>\n",
       "            <tr>\n",
       "                        <th id=\"T_6722ea90_8cd8_11ec_9f84_8cc84bffebdclevel0_row1\" class=\"row_heading level0 row1\" >enforcamento</th>\n",
       "                        <td id=\"T_6722ea90_8cd8_11ec_9f84_8cc84bffebdcrow1_col0\" class=\"data row1 col0\" >212</td>\n",
       "                        <td id=\"T_6722ea90_8cd8_11ec_9f84_8cc84bffebdcrow1_col1\" class=\"data row1 col1\" >14.42%</td>\n",
       "            </tr>\n",
       "            <tr>\n",
       "                        <th id=\"T_6722ea90_8cd8_11ec_9f84_8cc84bffebdclevel0_row2\" class=\"row_heading level0 row2\" >queda livre</th>\n",
       "                        <td id=\"T_6722ea90_8cd8_11ec_9f84_8cc84bffebdcrow2_col0\" class=\"data row2 col0\" >131</td>\n",
       "                        <td id=\"T_6722ea90_8cd8_11ec_9f84_8cc84bffebdcrow2_col1\" class=\"data row2 col1\" >8.91%</td>\n",
       "            </tr>\n",
       "            <tr>\n",
       "                        <th id=\"T_6722ea90_8cd8_11ec_9f84_8cc84bffebdclevel0_row3\" class=\"row_heading level0 row3\" >outro</th>\n",
       "                        <td id=\"T_6722ea90_8cd8_11ec_9f84_8cc84bffebdcrow3_col0\" class=\"data row3 col0\" >100</td>\n",
       "                        <td id=\"T_6722ea90_8cd8_11ec_9f84_8cc84bffebdcrow3_col1\" class=\"data row3 col1\" >6.80%</td>\n",
       "            </tr>\n",
       "            <tr>\n",
       "                        <th id=\"T_6722ea90_8cd8_11ec_9f84_8cc84bffebdclevel0_row4\" class=\"row_heading level0 row4\" >gas</th>\n",
       "                        <td id=\"T_6722ea90_8cd8_11ec_9f84_8cc84bffebdcrow4_col0\" class=\"data row4 col0\" >40</td>\n",
       "                        <td id=\"T_6722ea90_8cd8_11ec_9f84_8cc84bffebdcrow4_col1\" class=\"data row4 col1\" >2.72%</td>\n",
       "            </tr>\n",
       "            <tr>\n",
       "                        <th id=\"T_6722ea90_8cd8_11ec_9f84_8cc84bffebdclevel0_row5\" class=\"row_heading level0 row5\" >afogamento</th>\n",
       "                        <td id=\"T_6722ea90_8cd8_11ec_9f84_8cc84bffebdcrow5_col0\" class=\"data row5 col0\" >30</td>\n",
       "                        <td id=\"T_6722ea90_8cd8_11ec_9f84_8cc84bffebdcrow5_col1\" class=\"data row5 col1\" >2.04%</td>\n",
       "            </tr>\n",
       "            <tr>\n",
       "                        <th id=\"T_6722ea90_8cd8_11ec_9f84_8cc84bffebdclevel0_row6\" class=\"row_heading level0 row6\" >arma de fogo</th>\n",
       "                        <td id=\"T_6722ea90_8cd8_11ec_9f84_8cc84bffebdcrow6_col0\" class=\"data row6 col0\" >25</td>\n",
       "                        <td id=\"T_6722ea90_8cd8_11ec_9f84_8cc84bffebdcrow6_col1\" class=\"data row6 col1\" >1.70%</td>\n",
       "            </tr>\n",
       "            <tr>\n",
       "                        <th id=\"T_6722ea90_8cd8_11ec_9f84_8cc84bffebdclevel0_row7\" class=\"row_heading level0 row7\" >faca</th>\n",
       "                        <td id=\"T_6722ea90_8cd8_11ec_9f84_8cc84bffebdcrow7_col0\" class=\"data row7 col0\" >11</td>\n",
       "                        <td id=\"T_6722ea90_8cd8_11ec_9f84_8cc84bffebdcrow7_col1\" class=\"data row7 col1\" >0.75%</td>\n",
       "            </tr>\n",
       "    </tbody></table>"
      ],
      "text/plain": [
       "<pandas.io.formats.style.Styler at 0x190965861f0>"
      ]
     },
     "execution_count": 7,
     "metadata": {},
     "output_type": "execute_result"
    }
   ],
   "source": [
    "# testa a função create report 1\n",
    "r = create_report1(df, 'feminino', '10-20')\n",
    "# mostra o resultado da coluna Probabilidade em porcentagem\n",
    "r.style.format({'Probabilidade' : '{:.2%}'})"
   ]
  },
  {
   "cell_type": "code",
   "execution_count": 8,
   "metadata": {},
   "outputs": [
    {
     "data": {
      "text/html": [
       "<style  type=\"text/css\" >\n",
       "</style><table id=\"T_672f1f95_8cd8_11ec_b49a_8cc84bffebdc\" ><thead>    <tr>        <th class=\"blank level0\" ></th>        <th class=\"col_heading level0 col0\" >Freq</th>        <th class=\"col_heading level0 col1\" >Probabilidade</th>    </tr>    <tr>        <th class=\"index_name level0\" >Metodo</th>        <th class=\"blank\" ></th>        <th class=\"blank\" ></th>    </tr></thead><tbody>\n",
       "                <tr>\n",
       "                        <th id=\"T_672f1f95_8cd8_11ec_b49a_8cc84bffebdclevel0_row0\" class=\"row_heading level0 row0\" >veneno</th>\n",
       "                        <td id=\"T_672f1f95_8cd8_11ec_b49a_8cc84bffebdcrow0_col0\" class=\"data row0 col0\" >921</td>\n",
       "                        <td id=\"T_672f1f95_8cd8_11ec_b49a_8cc84bffebdcrow0_col1\" class=\"data row0 col1\" >62.65%</td>\n",
       "            </tr>\n",
       "            <tr>\n",
       "                        <th id=\"T_672f1f95_8cd8_11ec_b49a_8cc84bffebdclevel0_row1\" class=\"row_heading level0 row1\" >enforcamento</th>\n",
       "                        <td id=\"T_672f1f95_8cd8_11ec_b49a_8cc84bffebdcrow1_col0\" class=\"data row1 col0\" >212</td>\n",
       "                        <td id=\"T_672f1f95_8cd8_11ec_b49a_8cc84bffebdcrow1_col1\" class=\"data row1 col1\" >14.42%</td>\n",
       "            </tr>\n",
       "            <tr>\n",
       "                        <th id=\"T_672f1f95_8cd8_11ec_b49a_8cc84bffebdclevel0_row2\" class=\"row_heading level0 row2\" >queda livre</th>\n",
       "                        <td id=\"T_672f1f95_8cd8_11ec_b49a_8cc84bffebdcrow2_col0\" class=\"data row2 col0\" >131</td>\n",
       "                        <td id=\"T_672f1f95_8cd8_11ec_b49a_8cc84bffebdcrow2_col1\" class=\"data row2 col1\" >8.91%</td>\n",
       "            </tr>\n",
       "            <tr>\n",
       "                        <th id=\"T_672f1f95_8cd8_11ec_b49a_8cc84bffebdclevel0_row3\" class=\"row_heading level0 row3\" >outro</th>\n",
       "                        <td id=\"T_672f1f95_8cd8_11ec_b49a_8cc84bffebdcrow3_col0\" class=\"data row3 col0\" >100</td>\n",
       "                        <td id=\"T_672f1f95_8cd8_11ec_b49a_8cc84bffebdcrow3_col1\" class=\"data row3 col1\" >6.80%</td>\n",
       "            </tr>\n",
       "            <tr>\n",
       "                        <th id=\"T_672f1f95_8cd8_11ec_b49a_8cc84bffebdclevel0_row4\" class=\"row_heading level0 row4\" >gas</th>\n",
       "                        <td id=\"T_672f1f95_8cd8_11ec_b49a_8cc84bffebdcrow4_col0\" class=\"data row4 col0\" >40</td>\n",
       "                        <td id=\"T_672f1f95_8cd8_11ec_b49a_8cc84bffebdcrow4_col1\" class=\"data row4 col1\" >2.72%</td>\n",
       "            </tr>\n",
       "            <tr>\n",
       "                        <th id=\"T_672f1f95_8cd8_11ec_b49a_8cc84bffebdclevel0_row5\" class=\"row_heading level0 row5\" >afogamento</th>\n",
       "                        <td id=\"T_672f1f95_8cd8_11ec_b49a_8cc84bffebdcrow5_col0\" class=\"data row5 col0\" >30</td>\n",
       "                        <td id=\"T_672f1f95_8cd8_11ec_b49a_8cc84bffebdcrow5_col1\" class=\"data row5 col1\" >2.04%</td>\n",
       "            </tr>\n",
       "            <tr>\n",
       "                        <th id=\"T_672f1f95_8cd8_11ec_b49a_8cc84bffebdclevel0_row6\" class=\"row_heading level0 row6\" >arma de fogo</th>\n",
       "                        <td id=\"T_672f1f95_8cd8_11ec_b49a_8cc84bffebdcrow6_col0\" class=\"data row6 col0\" >25</td>\n",
       "                        <td id=\"T_672f1f95_8cd8_11ec_b49a_8cc84bffebdcrow6_col1\" class=\"data row6 col1\" >1.70%</td>\n",
       "            </tr>\n",
       "            <tr>\n",
       "                        <th id=\"T_672f1f95_8cd8_11ec_b49a_8cc84bffebdclevel0_row7\" class=\"row_heading level0 row7\" >faca</th>\n",
       "                        <td id=\"T_672f1f95_8cd8_11ec_b49a_8cc84bffebdcrow7_col0\" class=\"data row7 col0\" >11</td>\n",
       "                        <td id=\"T_672f1f95_8cd8_11ec_b49a_8cc84bffebdcrow7_col1\" class=\"data row7 col1\" >0.75%</td>\n",
       "            </tr>\n",
       "    </tbody></table>"
      ],
      "text/plain": [
       "<pandas.io.formats.style.Styler at 0x19098d96e20>"
      ]
     },
     "execution_count": 8,
     "metadata": {},
     "output_type": "execute_result"
    }
   ],
   "source": [
    "# testa a função create report 2\n",
    "r = create_report1(df, 'feminino', '10-20')\n",
    "# mostra o resultado da coluna Probabilidade em porcentagem\n",
    "r.style.format({'Probabilidade' : '{:.2%}'})"
   ]
  },
  {
   "cell_type": "markdown",
   "metadata": {},
   "source": [
    "**Passo 7:** Cria um buscador (Item 2) com uma interface \"amigável\" para \"leigos\""
   ]
  },
  {
   "cell_type": "code",
   "execution_count": 11,
   "metadata": {},
   "outputs": [
    {
     "data": {
      "text/html": [
       "<style  type=\"text/css\" >\n",
       "</style><table id=\"T_a141938c_8cda_11ec_967f_8cc84bffebdc\" ><thead>    <tr>        <th class=\"blank level0\" ></th>        <th class=\"col_heading level0 col0\" >Freq</th>        <th class=\"col_heading level0 col1\" >Probabilidade</th>    </tr>    <tr>        <th class=\"index_name level0\" >Metodo</th>        <th class=\"blank\" ></th>        <th class=\"blank\" ></th>    </tr></thead><tbody>\n",
       "        </tbody></table>"
      ],
      "text/plain": [
       "<pandas.io.formats.style.Styler at 0x19096586490>"
      ]
     },
     "execution_count": 11,
     "metadata": {},
     "output_type": "execute_result"
    }
   ],
   "source": [
    "''' Sistema de Informações sobre Suicídio (Interface mais amigável)\n",
    "'''\n",
    "sexo = input('Informe o sexo: ')\n",
    "f_etaria = input('Informe a faixa etária: ')\n",
    "relatorio = create_report1(df, sexo, f_etaria)\n",
    "relatorio.style.format({'Probabilidade' : '{:.2%}'})"
   ]
  }
 ],
 "metadata": {
  "kernelspec": {
   "display_name": "Python 3",
   "language": "python",
   "name": "python3"
  },
  "language_info": {
   "codemirror_mode": {
    "name": "ipython",
    "version": 3
   },
   "file_extension": ".py",
   "mimetype": "text/x-python",
   "name": "python",
   "nbconvert_exporter": "python",
   "pygments_lexer": "ipython3",
   "version": "3.8.5"
  }
 },
 "nbformat": 4,
 "nbformat_minor": 4
}
