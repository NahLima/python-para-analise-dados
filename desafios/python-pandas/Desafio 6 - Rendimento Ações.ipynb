{
 "cells": [
  {
   "cell_type": "markdown",
   "metadata": {},
   "source": [
    "### Desafio: Rendimento Ações\n",
    "\n",
    "---\n",
    "\n",
    "**Definição do problema:** Você está trabalhando num banco e preciso informar ao seu cliente que ano foi a maior rentabilidade de dividendo pago por ação da empresa Johnson&Jonson\n",
    "\n",
    "<ol>\n",
    "    <li> Agregar os rendimentos de um mesmo ano </li>\n",
    "    <li> Calcular a valorização do rendimento de um ano para outro </li>\n",
    "    <li> Informar o ano de maior rentabilidade </li>\n",
    "</ol>\n",
    "\n",
    "**Código do dataset:** JohnsonJohnson\n",
    "\n",
    "**Dicas:**\n",
    "<ul>\n",
    "    <li> Criar uma nova representação dos dados, onde a informação é anual  </li>\n",
    "    <li> Criar uma nova coluna informando a valorização anual </li>\n",
    "    <li> numpy.trunc() </li>\n",
    "    <li> método .shift() </li>\n",
    "    <li> método .idxmax() </li>\n",
    "</ul>\n",
    "\n",
    "---"
   ]
  },
  {
   "cell_type": "markdown",
   "metadata": {},
   "source": [
    "**Passo 1:** Importar as bibliotecas"
   ]
  },
  {
   "cell_type": "code",
   "execution_count": 1,
   "metadata": {},
   "outputs": [],
   "source": [
    "import pandas as pd\n",
    "import numpy as np\n",
    "from pydataset import data"
   ]
  },
  {
   "cell_type": "markdown",
   "metadata": {},
   "source": [
    "**Passo 2:** Importar o dataset e verificar sua estrutura "
   ]
  },
  {
   "cell_type": "code",
   "execution_count": 2,
   "metadata": {},
   "outputs": [
    {
     "data": {
      "text/html": [
       "<div>\n",
       "<style scoped>\n",
       "    .dataframe tbody tr th:only-of-type {\n",
       "        vertical-align: middle;\n",
       "    }\n",
       "\n",
       "    .dataframe tbody tr th {\n",
       "        vertical-align: top;\n",
       "    }\n",
       "\n",
       "    .dataframe thead th {\n",
       "        text-align: right;\n",
       "    }\n",
       "</style>\n",
       "<table border=\"1\" class=\"dataframe\">\n",
       "  <thead>\n",
       "    <tr style=\"text-align: right;\">\n",
       "      <th></th>\n",
       "      <th>time</th>\n",
       "      <th>JohnsonJohnson</th>\n",
       "    </tr>\n",
       "  </thead>\n",
       "  <tbody>\n",
       "    <tr>\n",
       "      <th>1</th>\n",
       "      <td>1960.00</td>\n",
       "      <td>0.71</td>\n",
       "    </tr>\n",
       "    <tr>\n",
       "      <th>2</th>\n",
       "      <td>1960.25</td>\n",
       "      <td>0.63</td>\n",
       "    </tr>\n",
       "    <tr>\n",
       "      <th>3</th>\n",
       "      <td>1960.50</td>\n",
       "      <td>0.85</td>\n",
       "    </tr>\n",
       "    <tr>\n",
       "      <th>4</th>\n",
       "      <td>1960.75</td>\n",
       "      <td>0.44</td>\n",
       "    </tr>\n",
       "    <tr>\n",
       "      <th>5</th>\n",
       "      <td>1961.00</td>\n",
       "      <td>0.61</td>\n",
       "    </tr>\n",
       "  </tbody>\n",
       "</table>\n",
       "</div>"
      ],
      "text/plain": [
       "      time  JohnsonJohnson\n",
       "1  1960.00            0.71\n",
       "2  1960.25            0.63\n",
       "3  1960.50            0.85\n",
       "4  1960.75            0.44\n",
       "5  1961.00            0.61"
      ]
     },
     "execution_count": 2,
     "metadata": {},
     "output_type": "execute_result"
    }
   ],
   "source": [
    "df = data('JohnsonJohnson') # dividendo por ação\n",
    "df.head()"
   ]
  },
  {
   "cell_type": "markdown",
   "metadata": {},
   "source": [
    "**Passo 3:** Renomeia as colunas "
   ]
  },
  {
   "cell_type": "code",
   "execution_count": 11,
   "metadata": {},
   "outputs": [
    {
     "data": {
      "text/html": [
       "<div>\n",
       "<style scoped>\n",
       "    .dataframe tbody tr th:only-of-type {\n",
       "        vertical-align: middle;\n",
       "    }\n",
       "\n",
       "    .dataframe tbody tr th {\n",
       "        vertical-align: top;\n",
       "    }\n",
       "\n",
       "    .dataframe thead th {\n",
       "        text-align: right;\n",
       "    }\n",
       "</style>\n",
       "<table border=\"1\" class=\"dataframe\">\n",
       "  <thead>\n",
       "    <tr style=\"text-align: right;\">\n",
       "      <th></th>\n",
       "      <th>Trimestre</th>\n",
       "      <th>Dividendo</th>\n",
       "    </tr>\n",
       "    <tr>\n",
       "      <th>Ano</th>\n",
       "      <th></th>\n",
       "      <th></th>\n",
       "    </tr>\n",
       "  </thead>\n",
       "  <tbody>\n",
       "    <tr>\n",
       "      <th>1960</th>\n",
       "      <td>2.63</td>\n",
       "      <td>0.000000</td>\n",
       "    </tr>\n",
       "    <tr>\n",
       "      <th>1961</th>\n",
       "      <td>2.77</td>\n",
       "      <td>0.053232</td>\n",
       "    </tr>\n",
       "    <tr>\n",
       "      <th>1962</th>\n",
       "      <td>3.01</td>\n",
       "      <td>0.086643</td>\n",
       "    </tr>\n",
       "    <tr>\n",
       "      <th>1963</th>\n",
       "      <td>3.40</td>\n",
       "      <td>0.129568</td>\n",
       "    </tr>\n",
       "    <tr>\n",
       "      <th>1964</th>\n",
       "      <td>4.16</td>\n",
       "      <td>0.223529</td>\n",
       "    </tr>\n",
       "  </tbody>\n",
       "</table>\n",
       "</div>"
      ],
      "text/plain": [
       "      Trimestre  Dividendo\n",
       "Ano                       \n",
       "1960       2.63   0.000000\n",
       "1961       2.77   0.053232\n",
       "1962       3.01   0.086643\n",
       "1963       3.40   0.129568\n",
       "1964       4.16   0.223529"
      ]
     },
     "execution_count": 11,
     "metadata": {},
     "output_type": "execute_result"
    }
   ],
   "source": [
    "df.columns = ['Trimestre', 'Dividendo'] # dividendo por ação\n",
    "df.head()"
   ]
  },
  {
   "cell_type": "markdown",
   "metadata": {},
   "source": [
    "**Passo 4:** Agrupa os rendimentos trimestrais por ano."
   ]
  },
  {
   "cell_type": "code",
   "execution_count": 4,
   "metadata": {
    "scrolled": true
   },
   "outputs": [
    {
     "data": {
      "text/html": [
       "<div>\n",
       "<style scoped>\n",
       "    .dataframe tbody tr th:only-of-type {\n",
       "        vertical-align: middle;\n",
       "    }\n",
       "\n",
       "    .dataframe tbody tr th {\n",
       "        vertical-align: top;\n",
       "    }\n",
       "\n",
       "    .dataframe thead th {\n",
       "        text-align: right;\n",
       "    }\n",
       "</style>\n",
       "<table border=\"1\" class=\"dataframe\">\n",
       "  <thead>\n",
       "    <tr style=\"text-align: right;\">\n",
       "      <th></th>\n",
       "      <th>Dividendo</th>\n",
       "      <th>Ano</th>\n",
       "    </tr>\n",
       "  </thead>\n",
       "  <tbody>\n",
       "    <tr>\n",
       "      <th>1</th>\n",
       "      <td>0.71</td>\n",
       "      <td>1960</td>\n",
       "    </tr>\n",
       "    <tr>\n",
       "      <th>2</th>\n",
       "      <td>0.63</td>\n",
       "      <td>1960</td>\n",
       "    </tr>\n",
       "    <tr>\n",
       "      <th>3</th>\n",
       "      <td>0.85</td>\n",
       "      <td>1960</td>\n",
       "    </tr>\n",
       "    <tr>\n",
       "      <th>4</th>\n",
       "      <td>0.44</td>\n",
       "      <td>1960</td>\n",
       "    </tr>\n",
       "    <tr>\n",
       "      <th>5</th>\n",
       "      <td>0.61</td>\n",
       "      <td>1961</td>\n",
       "    </tr>\n",
       "  </tbody>\n",
       "</table>\n",
       "</div>"
      ],
      "text/plain": [
       "   Dividendo   Ano\n",
       "1       0.71  1960\n",
       "2       0.63  1960\n",
       "3       0.85  1960\n",
       "4       0.44  1960\n",
       "5       0.61  1961"
      ]
     },
     "execution_count": 4,
     "metadata": {},
     "output_type": "execute_result"
    }
   ],
   "source": [
    "''' Cria a nova coluna ano, como os valores da coluna trimestre são float, podemos utilizar a função trunc\n",
    "que retira a parte fracionária do valor '''\n",
    "\n",
    "df['Ano'] = np.trunc(df['Trimestre']).astype('int')\n",
    "\n",
    "'''Como não utilizaremos mais a coluna trimeste, vamos deletar '''\n",
    "df = df.drop('Trimestre', axis=1)\n",
    "df.head()"
   ]
  },
  {
   "cell_type": "code",
   "execution_count": 5,
   "metadata": {},
   "outputs": [
    {
     "data": {
      "text/html": [
       "<div>\n",
       "<style scoped>\n",
       "    .dataframe tbody tr th:only-of-type {\n",
       "        vertical-align: middle;\n",
       "    }\n",
       "\n",
       "    .dataframe tbody tr th {\n",
       "        vertical-align: top;\n",
       "    }\n",
       "\n",
       "    .dataframe thead th {\n",
       "        text-align: right;\n",
       "    }\n",
       "</style>\n",
       "<table border=\"1\" class=\"dataframe\">\n",
       "  <thead>\n",
       "    <tr style=\"text-align: right;\">\n",
       "      <th></th>\n",
       "      <th>Dividendo</th>\n",
       "    </tr>\n",
       "    <tr>\n",
       "      <th>Ano</th>\n",
       "      <th></th>\n",
       "    </tr>\n",
       "  </thead>\n",
       "  <tbody>\n",
       "    <tr>\n",
       "      <th>1960</th>\n",
       "      <td>2.63</td>\n",
       "    </tr>\n",
       "    <tr>\n",
       "      <th>1961</th>\n",
       "      <td>2.77</td>\n",
       "    </tr>\n",
       "    <tr>\n",
       "      <th>1962</th>\n",
       "      <td>3.01</td>\n",
       "    </tr>\n",
       "    <tr>\n",
       "      <th>1963</th>\n",
       "      <td>3.40</td>\n",
       "    </tr>\n",
       "    <tr>\n",
       "      <th>1964</th>\n",
       "      <td>4.16</td>\n",
       "    </tr>\n",
       "  </tbody>\n",
       "</table>\n",
       "</div>"
      ],
      "text/plain": [
       "      Dividendo\n",
       "Ano            \n",
       "1960       2.63\n",
       "1961       2.77\n",
       "1962       3.01\n",
       "1963       3.40\n",
       "1964       4.16"
      ]
     },
     "execution_count": 5,
     "metadata": {},
     "output_type": "execute_result"
    }
   ],
   "source": [
    "''' Agrupa por ano e soma os valores agrupados ''' \n",
    "df = df.groupby(by = 'Ano').sum()\n",
    "df.head()"
   ]
  },
  {
   "cell_type": "markdown",
   "metadata": {},
   "source": [
    "**Passo 5:** Cria a nova coluna com a valorização"
   ]
  },
  {
   "cell_type": "code",
   "execution_count": 6,
   "metadata": {},
   "outputs": [
    {
     "data": {
      "text/html": [
       "<style  type=\"text/css\" >\n",
       "</style><table id=\"T_9645b9c3_8cd7_11ec_b575_8cc84bffebdc\" ><thead>    <tr>        <th class=\"blank level0\" ></th>        <th class=\"col_heading level0 col0\" >Dividendo</th>        <th class=\"col_heading level0 col1\" >Valorização</th>    </tr>    <tr>        <th class=\"index_name level0\" >Ano</th>        <th class=\"blank\" ></th>        <th class=\"blank\" ></th>    </tr></thead><tbody>\n",
       "                <tr>\n",
       "                        <th id=\"T_9645b9c3_8cd7_11ec_b575_8cc84bffebdclevel0_row0\" class=\"row_heading level0 row0\" >1960</th>\n",
       "                        <td id=\"T_9645b9c3_8cd7_11ec_b575_8cc84bffebdcrow0_col0\" class=\"data row0 col0\" >2.63</td>\n",
       "                        <td id=\"T_9645b9c3_8cd7_11ec_b575_8cc84bffebdcrow0_col1\" class=\"data row0 col1\" >0.00%</td>\n",
       "            </tr>\n",
       "            <tr>\n",
       "                        <th id=\"T_9645b9c3_8cd7_11ec_b575_8cc84bffebdclevel0_row1\" class=\"row_heading level0 row1\" >1961</th>\n",
       "                        <td id=\"T_9645b9c3_8cd7_11ec_b575_8cc84bffebdcrow1_col0\" class=\"data row1 col0\" >2.77</td>\n",
       "                        <td id=\"T_9645b9c3_8cd7_11ec_b575_8cc84bffebdcrow1_col1\" class=\"data row1 col1\" >5.32%</td>\n",
       "            </tr>\n",
       "            <tr>\n",
       "                        <th id=\"T_9645b9c3_8cd7_11ec_b575_8cc84bffebdclevel0_row2\" class=\"row_heading level0 row2\" >1962</th>\n",
       "                        <td id=\"T_9645b9c3_8cd7_11ec_b575_8cc84bffebdcrow2_col0\" class=\"data row2 col0\" >3.01</td>\n",
       "                        <td id=\"T_9645b9c3_8cd7_11ec_b575_8cc84bffebdcrow2_col1\" class=\"data row2 col1\" >8.66%</td>\n",
       "            </tr>\n",
       "            <tr>\n",
       "                        <th id=\"T_9645b9c3_8cd7_11ec_b575_8cc84bffebdclevel0_row3\" class=\"row_heading level0 row3\" >1963</th>\n",
       "                        <td id=\"T_9645b9c3_8cd7_11ec_b575_8cc84bffebdcrow3_col0\" class=\"data row3 col0\" >3.40</td>\n",
       "                        <td id=\"T_9645b9c3_8cd7_11ec_b575_8cc84bffebdcrow3_col1\" class=\"data row3 col1\" >12.96%</td>\n",
       "            </tr>\n",
       "            <tr>\n",
       "                        <th id=\"T_9645b9c3_8cd7_11ec_b575_8cc84bffebdclevel0_row4\" class=\"row_heading level0 row4\" >1964</th>\n",
       "                        <td id=\"T_9645b9c3_8cd7_11ec_b575_8cc84bffebdcrow4_col0\" class=\"data row4 col0\" >4.16</td>\n",
       "                        <td id=\"T_9645b9c3_8cd7_11ec_b575_8cc84bffebdcrow4_col1\" class=\"data row4 col1\" >22.35%</td>\n",
       "            </tr>\n",
       "            <tr>\n",
       "                        <th id=\"T_9645b9c3_8cd7_11ec_b575_8cc84bffebdclevel0_row5\" class=\"row_heading level0 row5\" >1965</th>\n",
       "                        <td id=\"T_9645b9c3_8cd7_11ec_b575_8cc84bffebdcrow5_col0\" class=\"data row5 col0\" >5.16</td>\n",
       "                        <td id=\"T_9645b9c3_8cd7_11ec_b575_8cc84bffebdcrow5_col1\" class=\"data row5 col1\" >24.04%</td>\n",
       "            </tr>\n",
       "            <tr>\n",
       "                        <th id=\"T_9645b9c3_8cd7_11ec_b575_8cc84bffebdclevel0_row6\" class=\"row_heading level0 row6\" >1966</th>\n",
       "                        <td id=\"T_9645b9c3_8cd7_11ec_b575_8cc84bffebdcrow6_col0\" class=\"data row6 col0\" >6.06</td>\n",
       "                        <td id=\"T_9645b9c3_8cd7_11ec_b575_8cc84bffebdcrow6_col1\" class=\"data row6 col1\" >17.44%</td>\n",
       "            </tr>\n",
       "            <tr>\n",
       "                        <th id=\"T_9645b9c3_8cd7_11ec_b575_8cc84bffebdclevel0_row7\" class=\"row_heading level0 row7\" >1967</th>\n",
       "                        <td id=\"T_9645b9c3_8cd7_11ec_b575_8cc84bffebdcrow7_col0\" class=\"data row7 col0\" >6.81</td>\n",
       "                        <td id=\"T_9645b9c3_8cd7_11ec_b575_8cc84bffebdcrow7_col1\" class=\"data row7 col1\" >12.38%</td>\n",
       "            </tr>\n",
       "            <tr>\n",
       "                        <th id=\"T_9645b9c3_8cd7_11ec_b575_8cc84bffebdclevel0_row8\" class=\"row_heading level0 row8\" >1968</th>\n",
       "                        <td id=\"T_9645b9c3_8cd7_11ec_b575_8cc84bffebdcrow8_col0\" class=\"data row8 col0\" >8.19</td>\n",
       "                        <td id=\"T_9645b9c3_8cd7_11ec_b575_8cc84bffebdcrow8_col1\" class=\"data row8 col1\" >20.26%</td>\n",
       "            </tr>\n",
       "            <tr>\n",
       "                        <th id=\"T_9645b9c3_8cd7_11ec_b575_8cc84bffebdclevel0_row9\" class=\"row_heading level0 row9\" >1969</th>\n",
       "                        <td id=\"T_9645b9c3_8cd7_11ec_b575_8cc84bffebdcrow9_col0\" class=\"data row9 col0\" >9.54</td>\n",
       "                        <td id=\"T_9645b9c3_8cd7_11ec_b575_8cc84bffebdcrow9_col1\" class=\"data row9 col1\" >16.48%</td>\n",
       "            </tr>\n",
       "            <tr>\n",
       "                        <th id=\"T_9645b9c3_8cd7_11ec_b575_8cc84bffebdclevel0_row10\" class=\"row_heading level0 row10\" >1970</th>\n",
       "                        <td id=\"T_9645b9c3_8cd7_11ec_b575_8cc84bffebdcrow10_col0\" class=\"data row10 col0\" >13.50</td>\n",
       "                        <td id=\"T_9645b9c3_8cd7_11ec_b575_8cc84bffebdcrow10_col1\" class=\"data row10 col1\" >41.51%</td>\n",
       "            </tr>\n",
       "            <tr>\n",
       "                        <th id=\"T_9645b9c3_8cd7_11ec_b575_8cc84bffebdclevel0_row11\" class=\"row_heading level0 row11\" >1971</th>\n",
       "                        <td id=\"T_9645b9c3_8cd7_11ec_b575_8cc84bffebdcrow11_col0\" class=\"data row11 col0\" >16.29</td>\n",
       "                        <td id=\"T_9645b9c3_8cd7_11ec_b575_8cc84bffebdcrow11_col1\" class=\"data row11 col1\" >20.67%</td>\n",
       "            </tr>\n",
       "            <tr>\n",
       "                        <th id=\"T_9645b9c3_8cd7_11ec_b575_8cc84bffebdclevel0_row12\" class=\"row_heading level0 row12\" >1972</th>\n",
       "                        <td id=\"T_9645b9c3_8cd7_11ec_b575_8cc84bffebdcrow12_col0\" class=\"data row12 col0\" >19.35</td>\n",
       "                        <td id=\"T_9645b9c3_8cd7_11ec_b575_8cc84bffebdcrow12_col1\" class=\"data row12 col1\" >18.78%</td>\n",
       "            </tr>\n",
       "            <tr>\n",
       "                        <th id=\"T_9645b9c3_8cd7_11ec_b575_8cc84bffebdclevel0_row13\" class=\"row_heading level0 row13\" >1973</th>\n",
       "                        <td id=\"T_9645b9c3_8cd7_11ec_b575_8cc84bffebdcrow13_col0\" class=\"data row13 col0\" >23.31</td>\n",
       "                        <td id=\"T_9645b9c3_8cd7_11ec_b575_8cc84bffebdcrow13_col1\" class=\"data row13 col1\" >20.47%</td>\n",
       "            </tr>\n",
       "            <tr>\n",
       "                        <th id=\"T_9645b9c3_8cd7_11ec_b575_8cc84bffebdclevel0_row14\" class=\"row_heading level0 row14\" >1974</th>\n",
       "                        <td id=\"T_9645b9c3_8cd7_11ec_b575_8cc84bffebdcrow14_col0\" class=\"data row14 col0\" >25.20</td>\n",
       "                        <td id=\"T_9645b9c3_8cd7_11ec_b575_8cc84bffebdcrow14_col1\" class=\"data row14 col1\" >8.11%</td>\n",
       "            </tr>\n",
       "            <tr>\n",
       "                        <th id=\"T_9645b9c3_8cd7_11ec_b575_8cc84bffebdclevel0_row15\" class=\"row_heading level0 row15\" >1975</th>\n",
       "                        <td id=\"T_9645b9c3_8cd7_11ec_b575_8cc84bffebdcrow15_col0\" class=\"data row15 col0\" >28.62</td>\n",
       "                        <td id=\"T_9645b9c3_8cd7_11ec_b575_8cc84bffebdcrow15_col1\" class=\"data row15 col1\" >13.57%</td>\n",
       "            </tr>\n",
       "            <tr>\n",
       "                        <th id=\"T_9645b9c3_8cd7_11ec_b575_8cc84bffebdclevel0_row16\" class=\"row_heading level0 row16\" >1976</th>\n",
       "                        <td id=\"T_9645b9c3_8cd7_11ec_b575_8cc84bffebdcrow16_col0\" class=\"data row16 col0\" >31.77</td>\n",
       "                        <td id=\"T_9645b9c3_8cd7_11ec_b575_8cc84bffebdcrow16_col1\" class=\"data row16 col1\" >11.01%</td>\n",
       "            </tr>\n",
       "            <tr>\n",
       "                        <th id=\"T_9645b9c3_8cd7_11ec_b575_8cc84bffebdclevel0_row17\" class=\"row_heading level0 row17\" >1977</th>\n",
       "                        <td id=\"T_9645b9c3_8cd7_11ec_b575_8cc84bffebdcrow17_col0\" class=\"data row17 col0\" >38.07</td>\n",
       "                        <td id=\"T_9645b9c3_8cd7_11ec_b575_8cc84bffebdcrow17_col1\" class=\"data row17 col1\" >19.83%</td>\n",
       "            </tr>\n",
       "            <tr>\n",
       "                        <th id=\"T_9645b9c3_8cd7_11ec_b575_8cc84bffebdclevel0_row18\" class=\"row_heading level0 row18\" >1978</th>\n",
       "                        <td id=\"T_9645b9c3_8cd7_11ec_b575_8cc84bffebdcrow18_col0\" class=\"data row18 col0\" >45.00</td>\n",
       "                        <td id=\"T_9645b9c3_8cd7_11ec_b575_8cc84bffebdcrow18_col1\" class=\"data row18 col1\" >18.20%</td>\n",
       "            </tr>\n",
       "            <tr>\n",
       "                        <th id=\"T_9645b9c3_8cd7_11ec_b575_8cc84bffebdclevel0_row19\" class=\"row_heading level0 row19\" >1979</th>\n",
       "                        <td id=\"T_9645b9c3_8cd7_11ec_b575_8cc84bffebdcrow19_col0\" class=\"data row19 col0\" >51.84</td>\n",
       "                        <td id=\"T_9645b9c3_8cd7_11ec_b575_8cc84bffebdcrow19_col1\" class=\"data row19 col1\" >15.20%</td>\n",
       "            </tr>\n",
       "            <tr>\n",
       "                        <th id=\"T_9645b9c3_8cd7_11ec_b575_8cc84bffebdclevel0_row20\" class=\"row_heading level0 row20\" >1980</th>\n",
       "                        <td id=\"T_9645b9c3_8cd7_11ec_b575_8cc84bffebdcrow20_col0\" class=\"data row20 col0\" >58.50</td>\n",
       "                        <td id=\"T_9645b9c3_8cd7_11ec_b575_8cc84bffebdcrow20_col1\" class=\"data row20 col1\" >12.85%</td>\n",
       "            </tr>\n",
       "    </tbody></table>"
      ],
      "text/plain": [
       "<pandas.io.formats.style.Styler at 0x20f7849b550>"
      ]
     },
     "execution_count": 6,
     "metadata": {},
     "output_type": "execute_result"
    }
   ],
   "source": [
    "''' cria a coluna com o valor da valorização do rendimento por ação\n",
    "a função shift desloca uma posição os valores, com isso é possível dividir diretamente o valor do ano atual, \n",
    "pelo ano anterior. '''\n",
    "\n",
    "df['Valorização'] = df['Dividendo'].div(df['Dividendo'].shift()).fillna(1) - 1\n",
    "df.style.format({'Dividendo' : '{:.2f}', 'Valorização' : '{:.2%}'})"
   ]
  },
  {
   "cell_type": "code",
   "execution_count": 7,
   "metadata": {},
   "outputs": [
    {
     "data": {
      "text/plain": [
       "Ano\n",
       "1960      NaN\n",
       "1961     2.63\n",
       "1962     2.77\n",
       "1963     3.01\n",
       "1964     3.40\n",
       "1965     4.16\n",
       "1966     5.16\n",
       "1967     6.06\n",
       "1968     6.81\n",
       "1969     8.19\n",
       "1970     9.54\n",
       "1971    13.50\n",
       "1972    16.29\n",
       "1973    19.35\n",
       "1974    23.31\n",
       "1975    25.20\n",
       "1976    28.62\n",
       "1977    31.77\n",
       "1978    38.07\n",
       "1979    45.00\n",
       "1980    51.84\n",
       "Name: Dividendo, dtype: float64"
      ]
     },
     "execution_count": 7,
     "metadata": {},
     "output_type": "execute_result"
    }
   ],
   "source": [
    "''' Somente para visualizar o que ocorre após o uso função shift '''\n",
    "\n",
    "df['Dividendo'].shift(periods=1)"
   ]
  },
  {
   "cell_type": "code",
   "execution_count": 8,
   "metadata": {},
   "outputs": [
    {
     "data": {
      "text/plain": [
       "Ano\n",
       "1960      NaN\n",
       "1961      NaN\n",
       "1962     2.63\n",
       "1963     2.77\n",
       "1964     3.01\n",
       "1965     3.40\n",
       "1966     4.16\n",
       "1967     5.16\n",
       "1968     6.06\n",
       "1969     6.81\n",
       "1970     8.19\n",
       "1971     9.54\n",
       "1972    13.50\n",
       "1973    16.29\n",
       "1974    19.35\n",
       "1975    23.31\n",
       "1976    25.20\n",
       "1977    28.62\n",
       "1978    31.77\n",
       "1979    38.07\n",
       "1980    45.00\n",
       "Name: Dividendo, dtype: float64"
      ]
     },
     "execution_count": 8,
     "metadata": {},
     "output_type": "execute_result"
    }
   ],
   "source": [
    "df['Dividendo'].shift(periods=2)"
   ]
  },
  {
   "cell_type": "markdown",
   "metadata": {},
   "source": [
    "**Passo 6:** Informa o ano de maior valorização"
   ]
  },
  {
   "cell_type": "code",
   "execution_count": 9,
   "metadata": {},
   "outputs": [
    {
     "name": "stdout",
     "output_type": "stream",
     "text": [
      "O ano que teve a maior valorização no pagamento por ação da Johnson&Johnson foi: 1970\n"
     ]
    }
   ],
   "source": [
    "idx = df['Valorização'].idxmax()\n",
    "print(\"O ano que teve a maior valorização no pagamento por ação da Johnson&Johnson foi: %s\" % (idx))"
   ]
  },
  {
   "cell_type": "code",
   "execution_count": null,
   "metadata": {},
   "outputs": [],
   "source": []
  }
 ],
 "metadata": {
  "kernelspec": {
   "display_name": "Python 3",
   "language": "python",
   "name": "python3"
  },
  "language_info": {
   "codemirror_mode": {
    "name": "ipython",
    "version": 3
   },
   "file_extension": ".py",
   "mimetype": "text/x-python",
   "name": "python",
   "nbconvert_exporter": "python",
   "pygments_lexer": "ipython3",
   "version": "3.8.5"
  }
 },
 "nbformat": 4,
 "nbformat_minor": 4
}
