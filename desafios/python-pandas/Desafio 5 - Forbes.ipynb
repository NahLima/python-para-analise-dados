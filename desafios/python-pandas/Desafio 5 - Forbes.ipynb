{
 "cells": [
  {
   "cell_type": "markdown",
   "metadata": {
    "id": "2_Wzh7nXigQh"
   },
   "source": [
    "### Desafio: Forbes\n",
    "\n",
    "---\n",
    "\n",
    "**Definição do problema:** Você está trabalhando em um jornal e o editor quer que você responda as seguintes questões:  \n",
    "\n",
    "<ol>\n",
    "    <li> Qual a empresa mais valiosa da lista da Forbes 2000? </li>\n",
    "    <li> Construa uma tabela com as TOP 10 empresas mais lucrativas da lista. </li>\n",
    "    <li> Qual a média de valores de empresa das cinco categorias mais valiosas?  </li>\n",
    "</ol>\n",
    "\n",
    "**Código do dataset:** Forbes2000\n",
    "\n",
    "**Dicas:**\n",
    "<ul>\n",
    "    <li> Método .max() </li>\n",
    "    <li> Função nlargest() </li>\n",
    "    <li> Método .groupby() </li>\n",
    "</ul>\n",
    "\n",
    "---"
   ]
  },
  {
   "cell_type": "markdown",
   "metadata": {
    "id": "YC5nmrh2igQn"
   },
   "source": [
    "**Passo 1:** Importar as bibliotecas"
   ]
  },
  {
   "cell_type": "code",
   "execution_count": 1,
   "metadata": {
    "id": "oDqS6blgigQn"
   },
   "outputs": [],
   "source": [
    "import pandas as pd\n",
    "from pydataset import data"
   ]
  },
  {
   "cell_type": "markdown",
   "metadata": {
    "id": "R-VsnSF_igQp"
   },
   "source": [
    "**Passo 2:** Importar o dataset e verificar sua estrutura "
   ]
  },
  {
   "cell_type": "code",
   "execution_count": 2,
   "metadata": {
    "id": "Iwa3IPx7igQq",
    "outputId": "6672b977-2945-45c5-d589-a3b7c25fdca3"
   },
   "outputs": [
    {
     "name": "stdout",
     "output_type": "stream",
     "text": [
      "Forbes2000\n",
      "\n",
      "PyDataset Documentation (adopted from R Documentation. The displayed examples are in R)\n",
      "\n",
      "##  The Forbes 2000 Ranking of the World's Biggest Companies (Year 2004)\n",
      "\n",
      "### Description\n",
      "\n",
      "The Forbes 2000 list is a ranking of the world's biggest companies, measured\n",
      "by sales, profits, assets and market value.\n",
      "\n",
      "### Usage\n",
      "\n",
      "    data(\"Forbes2000\")\n",
      "\n",
      "### Format\n",
      "\n",
      "A data frame with 2000 observations on the following 8 variables.\n",
      "\n",
      "rank\n",
      "\n",
      "the ranking of the company.\n",
      "\n",
      "name\n",
      "\n",
      "the name of the company.\n",
      "\n",
      "country\n",
      "\n",
      "a factor giving the country the company is situated in.\n",
      "\n",
      "category\n",
      "\n",
      "a factor describing the products the company produces.\n",
      "\n",
      "sales\n",
      "\n",
      "the amount of sales of the company in billion USD.\n",
      "\n",
      "profits\n",
      "\n",
      "the profit of the company in billion USD.\n",
      "\n",
      "assets\n",
      "\n",
      "the assets of the company in billion USD.\n",
      "\n",
      "marketvalue\n",
      "\n",
      "the market value of the company in billion USD.\n",
      "\n",
      "### Source\n",
      "\n",
      "http://www.forbes.com, assessed on November 26th, 2004.\n",
      "\n",
      "### Examples\n",
      "\n",
      "    data(\"Forbes2000\", package = \"HSAUR\")\n",
      "    summary(Forbes2000)\n",
      "    ### number of countries\n",
      "    length(levels(Forbes2000$country))\n",
      "    ### number of industries\n",
      "    length(levels(Forbes2000$category))\n",
      "\n",
      "\n"
     ]
    }
   ],
   "source": [
    "''' Mostra a documentação para entender melhor cada coluna '''\n",
    "data('Forbes2000', show_doc=True)"
   ]
  },
  {
   "cell_type": "code",
   "execution_count": 3,
   "metadata": {},
   "outputs": [
    {
     "data": {
      "text/html": [
       "<div>\n",
       "<style scoped>\n",
       "    .dataframe tbody tr th:only-of-type {\n",
       "        vertical-align: middle;\n",
       "    }\n",
       "\n",
       "    .dataframe tbody tr th {\n",
       "        vertical-align: top;\n",
       "    }\n",
       "\n",
       "    .dataframe thead th {\n",
       "        text-align: right;\n",
       "    }\n",
       "</style>\n",
       "<table border=\"1\" class=\"dataframe\">\n",
       "  <thead>\n",
       "    <tr style=\"text-align: right;\">\n",
       "      <th></th>\n",
       "      <th>rank</th>\n",
       "      <th>name</th>\n",
       "      <th>country</th>\n",
       "      <th>category</th>\n",
       "      <th>sales</th>\n",
       "      <th>profits</th>\n",
       "      <th>assets</th>\n",
       "      <th>marketvalue</th>\n",
       "    </tr>\n",
       "  </thead>\n",
       "  <tbody>\n",
       "    <tr>\n",
       "      <th>1</th>\n",
       "      <td>1</td>\n",
       "      <td>Citigroup</td>\n",
       "      <td>United States</td>\n",
       "      <td>Banking</td>\n",
       "      <td>94.71</td>\n",
       "      <td>17.85</td>\n",
       "      <td>1264.03</td>\n",
       "      <td>255.30</td>\n",
       "    </tr>\n",
       "    <tr>\n",
       "      <th>2</th>\n",
       "      <td>2</td>\n",
       "      <td>General Electric</td>\n",
       "      <td>United States</td>\n",
       "      <td>Conglomerates</td>\n",
       "      <td>134.19</td>\n",
       "      <td>15.59</td>\n",
       "      <td>626.93</td>\n",
       "      <td>328.54</td>\n",
       "    </tr>\n",
       "    <tr>\n",
       "      <th>3</th>\n",
       "      <td>3</td>\n",
       "      <td>American Intl Group</td>\n",
       "      <td>United States</td>\n",
       "      <td>Insurance</td>\n",
       "      <td>76.66</td>\n",
       "      <td>6.46</td>\n",
       "      <td>647.66</td>\n",
       "      <td>194.87</td>\n",
       "    </tr>\n",
       "    <tr>\n",
       "      <th>4</th>\n",
       "      <td>4</td>\n",
       "      <td>ExxonMobil</td>\n",
       "      <td>United States</td>\n",
       "      <td>Oil &amp; gas operations</td>\n",
       "      <td>222.88</td>\n",
       "      <td>20.96</td>\n",
       "      <td>166.99</td>\n",
       "      <td>277.02</td>\n",
       "    </tr>\n",
       "    <tr>\n",
       "      <th>5</th>\n",
       "      <td>5</td>\n",
       "      <td>BP</td>\n",
       "      <td>United Kingdom</td>\n",
       "      <td>Oil &amp; gas operations</td>\n",
       "      <td>232.57</td>\n",
       "      <td>10.27</td>\n",
       "      <td>177.57</td>\n",
       "      <td>173.54</td>\n",
       "    </tr>\n",
       "    <tr>\n",
       "      <th>6</th>\n",
       "      <td>6</td>\n",
       "      <td>Bank of America</td>\n",
       "      <td>United States</td>\n",
       "      <td>Banking</td>\n",
       "      <td>49.01</td>\n",
       "      <td>10.81</td>\n",
       "      <td>736.45</td>\n",
       "      <td>117.55</td>\n",
       "    </tr>\n",
       "    <tr>\n",
       "      <th>7</th>\n",
       "      <td>7</td>\n",
       "      <td>HSBC Group</td>\n",
       "      <td>United Kingdom</td>\n",
       "      <td>Banking</td>\n",
       "      <td>44.33</td>\n",
       "      <td>6.66</td>\n",
       "      <td>757.60</td>\n",
       "      <td>177.96</td>\n",
       "    </tr>\n",
       "    <tr>\n",
       "      <th>8</th>\n",
       "      <td>8</td>\n",
       "      <td>Toyota Motor</td>\n",
       "      <td>Japan</td>\n",
       "      <td>Consumer durables</td>\n",
       "      <td>135.82</td>\n",
       "      <td>7.99</td>\n",
       "      <td>171.71</td>\n",
       "      <td>115.40</td>\n",
       "    </tr>\n",
       "    <tr>\n",
       "      <th>9</th>\n",
       "      <td>9</td>\n",
       "      <td>Fannie Mae</td>\n",
       "      <td>United States</td>\n",
       "      <td>Diversified financials</td>\n",
       "      <td>53.13</td>\n",
       "      <td>6.48</td>\n",
       "      <td>1019.17</td>\n",
       "      <td>76.84</td>\n",
       "    </tr>\n",
       "    <tr>\n",
       "      <th>10</th>\n",
       "      <td>10</td>\n",
       "      <td>Wal-Mart Stores</td>\n",
       "      <td>United States</td>\n",
       "      <td>Retailing</td>\n",
       "      <td>256.33</td>\n",
       "      <td>9.05</td>\n",
       "      <td>104.91</td>\n",
       "      <td>243.74</td>\n",
       "    </tr>\n",
       "  </tbody>\n",
       "</table>\n",
       "</div>"
      ],
      "text/plain": [
       "    rank                 name         country                category   sales  \\\n",
       "1      1            Citigroup   United States                 Banking   94.71   \n",
       "2      2     General Electric   United States           Conglomerates  134.19   \n",
       "3      3  American Intl Group   United States               Insurance   76.66   \n",
       "4      4           ExxonMobil   United States    Oil & gas operations  222.88   \n",
       "5      5                   BP  United Kingdom    Oil & gas operations  232.57   \n",
       "6      6      Bank of America   United States                 Banking   49.01   \n",
       "7      7           HSBC Group  United Kingdom                 Banking   44.33   \n",
       "8      8         Toyota Motor           Japan       Consumer durables  135.82   \n",
       "9      9           Fannie Mae   United States  Diversified financials   53.13   \n",
       "10    10      Wal-Mart Stores   United States               Retailing  256.33   \n",
       "\n",
       "    profits   assets  marketvalue  \n",
       "1     17.85  1264.03       255.30  \n",
       "2     15.59   626.93       328.54  \n",
       "3      6.46   647.66       194.87  \n",
       "4     20.96   166.99       277.02  \n",
       "5     10.27   177.57       173.54  \n",
       "6     10.81   736.45       117.55  \n",
       "7      6.66   757.60       177.96  \n",
       "8      7.99   171.71       115.40  \n",
       "9      6.48  1019.17        76.84  \n",
       "10     9.05   104.91       243.74  "
      ]
     },
     "execution_count": 3,
     "metadata": {},
     "output_type": "execute_result"
    }
   ],
   "source": [
    "''' Salva o DataFrame na variável e imprime as 10 primeiras ocorrências '''\n",
    "df = data('Forbes2000')\n",
    "df.head(10)"
   ]
  },
  {
   "cell_type": "markdown",
   "metadata": {
    "id": "T3xEfSxyigQr"
   },
   "source": [
    "**Passo 3:** Qual a empresa mais valiosa da lista da Forbes 2000? "
   ]
  },
  {
   "cell_type": "code",
   "execution_count": 4,
   "metadata": {
    "id": "415pftesigQr",
    "outputId": "b7b203a4-88d0-4e73-d6a8-dbc4e865b602"
   },
   "outputs": [
    {
     "data": {
      "text/html": [
       "<div>\n",
       "<style scoped>\n",
       "    .dataframe tbody tr th:only-of-type {\n",
       "        vertical-align: middle;\n",
       "    }\n",
       "\n",
       "    .dataframe tbody tr th {\n",
       "        vertical-align: top;\n",
       "    }\n",
       "\n",
       "    .dataframe thead th {\n",
       "        text-align: right;\n",
       "    }\n",
       "</style>\n",
       "<table border=\"1\" class=\"dataframe\">\n",
       "  <thead>\n",
       "    <tr style=\"text-align: right;\">\n",
       "      <th></th>\n",
       "      <th>rank</th>\n",
       "      <th>name</th>\n",
       "      <th>country</th>\n",
       "      <th>category</th>\n",
       "      <th>sales</th>\n",
       "      <th>profits</th>\n",
       "      <th>assets</th>\n",
       "      <th>marketvalue</th>\n",
       "    </tr>\n",
       "  </thead>\n",
       "  <tbody>\n",
       "    <tr>\n",
       "      <th>2</th>\n",
       "      <td>2</td>\n",
       "      <td>General Electric</td>\n",
       "      <td>United States</td>\n",
       "      <td>Conglomerates</td>\n",
       "      <td>134.19</td>\n",
       "      <td>15.59</td>\n",
       "      <td>626.93</td>\n",
       "      <td>328.54</td>\n",
       "    </tr>\n",
       "  </tbody>\n",
       "</table>\n",
       "</div>"
      ],
      "text/plain": [
       "   rank              name        country       category   sales  profits  \\\n",
       "2     2  General Electric  United States  Conglomerates  134.19    15.59   \n",
       "\n",
       "   assets  marketvalue  \n",
       "2  626.93       328.54  "
      ]
     },
     "execution_count": 4,
     "metadata": {},
     "output_type": "execute_result"
    }
   ],
   "source": [
    "''' Retorna todas as empresas que tem como o valor máximo da coluna 'marketvalue' '''\n",
    "empresa_mais_valiosa = df[df['marketvalue'] == df['marketvalue'].max()]\n",
    "empresa_mais_valiosa"
   ]
  },
  {
   "cell_type": "markdown",
   "metadata": {
    "id": "6ZVGM_GLigQs"
   },
   "source": [
    "**Passo 4:** Construa uma tabela com o nome, país e lucro das TOP 10 empresas mais lucrativas da lista. "
   ]
  },
  {
   "cell_type": "code",
   "execution_count": 5,
   "metadata": {
    "id": "uiPzzGHSigQs",
    "outputId": "bd234df3-e03b-4ffd-fa73-9d511413bb22"
   },
   "outputs": [
    {
     "data": {
      "text/html": [
       "<div>\n",
       "<style scoped>\n",
       "    .dataframe tbody tr th:only-of-type {\n",
       "        vertical-align: middle;\n",
       "    }\n",
       "\n",
       "    .dataframe tbody tr th {\n",
       "        vertical-align: top;\n",
       "    }\n",
       "\n",
       "    .dataframe thead th {\n",
       "        text-align: right;\n",
       "    }\n",
       "</style>\n",
       "<table border=\"1\" class=\"dataframe\">\n",
       "  <thead>\n",
       "    <tr style=\"text-align: right;\">\n",
       "      <th></th>\n",
       "      <th>name</th>\n",
       "      <th>country</th>\n",
       "      <th>profits</th>\n",
       "    </tr>\n",
       "  </thead>\n",
       "  <tbody>\n",
       "    <tr>\n",
       "      <th>4</th>\n",
       "      <td>ExxonMobil</td>\n",
       "      <td>United States</td>\n",
       "      <td>20.96</td>\n",
       "    </tr>\n",
       "    <tr>\n",
       "      <th>1</th>\n",
       "      <td>Citigroup</td>\n",
       "      <td>United States</td>\n",
       "      <td>17.85</td>\n",
       "    </tr>\n",
       "    <tr>\n",
       "      <th>2</th>\n",
       "      <td>General Electric</td>\n",
       "      <td>United States</td>\n",
       "      <td>15.59</td>\n",
       "    </tr>\n",
       "    <tr>\n",
       "      <th>6</th>\n",
       "      <td>Bank of America</td>\n",
       "      <td>United States</td>\n",
       "      <td>10.81</td>\n",
       "    </tr>\n",
       "    <tr>\n",
       "      <th>5</th>\n",
       "      <td>BP</td>\n",
       "      <td>United Kingdom</td>\n",
       "      <td>10.27</td>\n",
       "    </tr>\n",
       "    <tr>\n",
       "      <th>20</th>\n",
       "      <td>Freddie Mac</td>\n",
       "      <td>United States</td>\n",
       "      <td>10.09</td>\n",
       "    </tr>\n",
       "    <tr>\n",
       "      <th>22</th>\n",
       "      <td>Altria Group</td>\n",
       "      <td>United States</td>\n",
       "      <td>9.20</td>\n",
       "    </tr>\n",
       "    <tr>\n",
       "      <th>10</th>\n",
       "      <td>Wal-Mart Stores</td>\n",
       "      <td>United States</td>\n",
       "      <td>9.05</td>\n",
       "    </tr>\n",
       "    <tr>\n",
       "      <th>31</th>\n",
       "      <td>Microsoft</td>\n",
       "      <td>United States</td>\n",
       "      <td>8.88</td>\n",
       "    </tr>\n",
       "    <tr>\n",
       "      <th>17</th>\n",
       "      <td>Total</td>\n",
       "      <td>France</td>\n",
       "      <td>8.84</td>\n",
       "    </tr>\n",
       "  </tbody>\n",
       "</table>\n",
       "</div>"
      ],
      "text/plain": [
       "                name         country  profits\n",
       "4         ExxonMobil   United States    20.96\n",
       "1          Citigroup   United States    17.85\n",
       "2   General Electric   United States    15.59\n",
       "6    Bank of America   United States    10.81\n",
       "5                 BP  United Kingdom    10.27\n",
       "20       Freddie Mac   United States    10.09\n",
       "22      Altria Group   United States     9.20\n",
       "10   Wal-Mart Stores   United States     9.05\n",
       "31         Microsoft   United States     8.88\n",
       "17             Total          France     8.84"
      ]
     },
     "execution_count": 5,
     "metadata": {},
     "output_type": "execute_result"
    }
   ],
   "source": [
    "df_mais_lucrativas = df.nlargest(10, columns=['profits'], keep='first')\n",
    "df_mais_lucrativas = df_mais_lucrativas[['name', 'country', 'profits']]\n",
    "df_mais_lucrativas"
   ]
  },
  {
   "cell_type": "markdown",
   "metadata": {
    "id": "Up5eRogoigQt"
   },
   "source": [
    "**Passo 5:** Qual a soma de valores de empresa das cinco categorias mais valiosas?"
   ]
  },
  {
   "cell_type": "code",
   "execution_count": 6,
   "metadata": {
    "id": "MSOIEYDUigQt",
    "outputId": "f4c9a4b6-b336-46b2-c73a-200c4d6361ce"
   },
   "outputs": [
    {
     "data": {
      "text/plain": [
       "category\n",
       "Banking                        3240.51\n",
       "Oil & gas operations           1854.36\n",
       "Drugs & biotechnology          1764.00\n",
       "Diversified financials         1478.97\n",
       "Telecommunications services    1464.42\n",
       "Name: marketvalue, dtype: float64"
      ]
     },
     "execution_count": 6,
     "metadata": {},
     "output_type": "execute_result"
    }
   ],
   "source": [
    "''' Cria uma lista somando os valores de mercado por categoria. ''' \n",
    "df_categorias = df.groupby('category')['marketvalue'].sum()\n",
    "''' Cria uma lista com as cinco categorias com maior valor somado. ''' \n",
    "df_categoria_top_5 = df_categorias.nlargest(5)\n",
    "df_categoria_top_5"
   ]
  }
 ],
 "metadata": {
  "colab": {
   "name": "Desafio - Empresas da Forbes.ipynb",
   "provenance": []
  },
  "kernelspec": {
   "display_name": "Python 3",
   "language": "python",
   "name": "python3"
  },
  "language_info": {
   "codemirror_mode": {
    "name": "ipython",
    "version": 3
   },
   "file_extension": ".py",
   "mimetype": "text/x-python",
   "name": "python",
   "nbconvert_exporter": "python",
   "pygments_lexer": "ipython3",
   "version": "3.8.5"
  },
  "toc": {
   "base_numbering": 1,
   "nav_menu": {},
   "number_sections": true,
   "sideBar": true,
   "skip_h1_title": false,
   "title_cell": "Table of Contents",
   "title_sidebar": "Contents",
   "toc_cell": false,
   "toc_position": {},
   "toc_section_display": true,
   "toc_window_display": false
  }
 },
 "nbformat": 4,
 "nbformat_minor": 1
}
