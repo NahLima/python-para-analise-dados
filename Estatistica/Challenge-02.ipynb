{
 "cells": [
  {
   "cell_type": "code",
   "execution_count": 27,
   "metadata": {},
   "outputs": [],
   "source": [
    "import pandas as pd\n",
    "import numpy as np\n",
    "from scipy.stats import binom\n",
    "from scipy.stats import norm\n",
    "from scipy.special import comb\n",
    "import numpy as np\n",
    "import seaborn as sns\n",
    "from matplotlib import pyplot as plt"
   ]
  },
  {
   "cell_type": "markdown",
   "metadata": {},
   "source": [
    "### Desafio 1: Entendendo o consumidor.\n",
    "-- Dificuldade: Média."
   ]
  },
  {
   "cell_type": "markdown",
   "metadata": {},
   "source": [
    "\n",
    "Suponha que você trabalha em uma empresa de produtos de beleza populares e, com\n",
    "a pandemia, você suspeita que o perfil de seus clientes mudou. O time de marketing,\n",
    "pediu a sua ajuda e gostaria de entender se : \n",
    "\n",
    "1. isso de fato aconteceu \n",
    "\n",
    "2. quais as diferenças do novo perfil de clientes para o antigo, pois assim poderiam personalizar\n",
    "melhor os seus anúncios. Para isso, eles te enviaram a base de dados\n",
    "(desafio_01_consumidor.csv). Como você poderia ajudá-los?\n",
    "Para responder esse desafio:\n",
    "A base de dados: desafio_01_consumidor.csv contém informações de seus clientes\n",
    "(anonimizados) no período pré e pós pandemia. A coluna \"pré-pandemia\" indica se o\n",
    "dado é pré-pandemia ou não, sendo 1, caso positivo ou 0 caso negativo.\n",
    "\n"
   ]
  },
  {
   "cell_type": "markdown",
   "metadata": {},
   "source": [
    "1. Entenda a distribuição de variáveis como de idade / renda / regiao /\n",
    "produtos mais comprados antes e depois da pandemia\n",
    "\n",
    "a. Identifique as distribuições\n",
    "\n",
    "b. Plote histogramas / boxplots\n"
   ]
  },
  {
   "cell_type": "code",
   "execution_count": 3,
   "metadata": {},
   "outputs": [],
   "source": [
    "dados_consumidor = pd.read_csv('../dados/desafio-01-consumidor.csv')"
   ]
  },
  {
   "cell_type": "code",
   "execution_count": 4,
   "metadata": {},
   "outputs": [
    {
     "data": {
      "text/html": [
       "<div>\n",
       "<style scoped>\n",
       "    .dataframe tbody tr th:only-of-type {\n",
       "        vertical-align: middle;\n",
       "    }\n",
       "\n",
       "    .dataframe tbody tr th {\n",
       "        vertical-align: top;\n",
       "    }\n",
       "\n",
       "    .dataframe thead th {\n",
       "        text-align: right;\n",
       "    }\n",
       "</style>\n",
       "<table border=\"1\" class=\"dataframe\">\n",
       "  <thead>\n",
       "    <tr style=\"text-align: right;\">\n",
       "      <th></th>\n",
       "      <th>id_cliente</th>\n",
       "      <th>idade</th>\n",
       "      <th>renda</th>\n",
       "      <th>produto</th>\n",
       "      <th>regiao-BR</th>\n",
       "      <th>pre-pandemia</th>\n",
       "    </tr>\n",
       "  </thead>\n",
       "  <tbody>\n",
       "    <tr>\n",
       "      <th>0</th>\n",
       "      <td>XXXXXXX72</td>\n",
       "      <td>30</td>\n",
       "      <td>7452</td>\n",
       "      <td>batom</td>\n",
       "      <td>Sudeste</td>\n",
       "      <td>1</td>\n",
       "    </tr>\n",
       "    <tr>\n",
       "      <th>1</th>\n",
       "      <td>XXXXXXX15</td>\n",
       "      <td>59</td>\n",
       "      <td>837</td>\n",
       "      <td>desodorante</td>\n",
       "      <td>Nordeste</td>\n",
       "      <td>1</td>\n",
       "    </tr>\n",
       "    <tr>\n",
       "      <th>2</th>\n",
       "      <td>XXXXXXX70</td>\n",
       "      <td>28</td>\n",
       "      <td>3231</td>\n",
       "      <td>sombra</td>\n",
       "      <td>Centro-Oeste</td>\n",
       "      <td>1</td>\n",
       "    </tr>\n",
       "    <tr>\n",
       "      <th>3</th>\n",
       "      <td>XXXXXXX99</td>\n",
       "      <td>27</td>\n",
       "      <td>5409</td>\n",
       "      <td>batom</td>\n",
       "      <td>Sul</td>\n",
       "      <td>1</td>\n",
       "    </tr>\n",
       "    <tr>\n",
       "      <th>4</th>\n",
       "      <td>XXXXXXX98</td>\n",
       "      <td>24</td>\n",
       "      <td>1142</td>\n",
       "      <td>batom</td>\n",
       "      <td>Sudeste</td>\n",
       "      <td>1</td>\n",
       "    </tr>\n",
       "    <tr>\n",
       "      <th>5</th>\n",
       "      <td>XXXXXXX60</td>\n",
       "      <td>29</td>\n",
       "      <td>8055</td>\n",
       "      <td>batom</td>\n",
       "      <td>Nordeste</td>\n",
       "      <td>1</td>\n",
       "    </tr>\n",
       "    <tr>\n",
       "      <th>6</th>\n",
       "      <td>XXXXXXX73</td>\n",
       "      <td>22</td>\n",
       "      <td>9343</td>\n",
       "      <td>batom</td>\n",
       "      <td>Nordeste</td>\n",
       "      <td>1</td>\n",
       "    </tr>\n",
       "    <tr>\n",
       "      <th>7</th>\n",
       "      <td>XXXXXXX31</td>\n",
       "      <td>31</td>\n",
       "      <td>3748</td>\n",
       "      <td>batom</td>\n",
       "      <td>Sudeste</td>\n",
       "      <td>1</td>\n",
       "    </tr>\n",
       "    <tr>\n",
       "      <th>8</th>\n",
       "      <td>XXXXXXX13</td>\n",
       "      <td>34</td>\n",
       "      <td>3118</td>\n",
       "      <td>desodorante</td>\n",
       "      <td>Nordeste</td>\n",
       "      <td>1</td>\n",
       "    </tr>\n",
       "    <tr>\n",
       "      <th>9</th>\n",
       "      <td>XXXXXXX65</td>\n",
       "      <td>47</td>\n",
       "      <td>7404</td>\n",
       "      <td>batom</td>\n",
       "      <td>Sul</td>\n",
       "      <td>1</td>\n",
       "    </tr>\n",
       "  </tbody>\n",
       "</table>\n",
       "</div>"
      ],
      "text/plain": [
       "  id_cliente  idade  renda      produto     regiao-BR  pre-pandemia\n",
       "0  XXXXXXX72     30   7452        batom       Sudeste             1\n",
       "1  XXXXXXX15     59    837  desodorante      Nordeste             1\n",
       "2  XXXXXXX70     28   3231       sombra  Centro-Oeste             1\n",
       "3  XXXXXXX99     27   5409        batom           Sul             1\n",
       "4  XXXXXXX98     24   1142        batom       Sudeste             1\n",
       "5  XXXXXXX60     29   8055        batom      Nordeste             1\n",
       "6  XXXXXXX73     22   9343        batom      Nordeste             1\n",
       "7  XXXXXXX31     31   3748        batom       Sudeste             1\n",
       "8  XXXXXXX13     34   3118  desodorante      Nordeste             1\n",
       "9  XXXXXXX65     47   7404        batom           Sul             1"
      ]
     },
     "execution_count": 4,
     "metadata": {},
     "output_type": "execute_result"
    }
   ],
   "source": [
    "dados_consumidor.head(10)"
   ]
  },
  {
   "cell_type": "code",
   "execution_count": 14,
   "metadata": {},
   "outputs": [
    {
     "data": {
      "text/plain": [
       "(203, 6)"
      ]
     },
     "execution_count": 14,
     "metadata": {},
     "output_type": "execute_result"
    }
   ],
   "source": [
    "#quantidade de dados e colunas\n",
    "dados_consumidor.shape\n"
   ]
  },
  {
   "cell_type": "code",
   "execution_count": 15,
   "metadata": {},
   "outputs": [
    {
     "name": "stdout",
     "output_type": "stream",
     "text": [
      "De 15 até 80 anos\n"
     ]
    }
   ],
   "source": [
    "#idade dos consumidores no geral\n",
    "print('De %s até %s anos' % (dados_consumidor.idade.min(), dados_consumidor.idade.max()))"
   ]
  },
  {
   "cell_type": "code",
   "execution_count": 52,
   "metadata": {},
   "outputs": [
    {
     "data": {
      "text/html": [
       "<div>\n",
       "<style scoped>\n",
       "    .dataframe tbody tr th:only-of-type {\n",
       "        vertical-align: middle;\n",
       "    }\n",
       "\n",
       "    .dataframe tbody tr th {\n",
       "        vertical-align: top;\n",
       "    }\n",
       "\n",
       "    .dataframe thead th {\n",
       "        text-align: right;\n",
       "    }\n",
       "</style>\n",
       "<table border=\"1\" class=\"dataframe\">\n",
       "  <thead>\n",
       "    <tr style=\"text-align: right;\">\n",
       "      <th>Idade dos Clientes</th>\n",
       "      <th>Pós-pandemia</th>\n",
       "      <th>Pré-pandemia</th>\n",
       "    </tr>\n",
       "    <tr>\n",
       "      <th>Categorias</th>\n",
       "      <th></th>\n",
       "      <th></th>\n",
       "    </tr>\n",
       "  </thead>\n",
       "  <tbody>\n",
       "    <tr>\n",
       "      <th>15</th>\n",
       "      <td>1</td>\n",
       "      <td>0</td>\n",
       "    </tr>\n",
       "    <tr>\n",
       "      <th>16</th>\n",
       "      <td>0</td>\n",
       "      <td>1</td>\n",
       "    </tr>\n",
       "    <tr>\n",
       "      <th>17</th>\n",
       "      <td>2</td>\n",
       "      <td>1</td>\n",
       "    </tr>\n",
       "    <tr>\n",
       "      <th>19</th>\n",
       "      <td>0</td>\n",
       "      <td>1</td>\n",
       "    </tr>\n",
       "    <tr>\n",
       "      <th>20</th>\n",
       "      <td>0</td>\n",
       "      <td>2</td>\n",
       "    </tr>\n",
       "  </tbody>\n",
       "</table>\n",
       "</div>"
      ],
      "text/plain": [
       "Idade dos Clientes  Pós-pandemia  Pré-pandemia\n",
       "Categorias                                    \n",
       "15                             1             0\n",
       "16                             0             1\n",
       "17                             2             1\n",
       "19                             0             1\n",
       "20                             0             2"
      ]
     },
     "execution_count": 52,
     "metadata": {},
     "output_type": "execute_result"
    }
   ],
   "source": [
    "#idade dos consumidores no pré e pós pandemia\n",
    "\n",
    "labels = { 1: 'Pré-pandemia', 0: 'Pós-pandemia'}\n",
    "\n",
    "idade = pd.crosstab(\n",
    "    dados_consumidor['idade'],\n",
    "    dados_consumidor['pre-pandemia'],\n",
    "    rownames = ['Categorias'],\n",
    "    colnames=['Idade dos Clientes']\n",
    ")\n",
    "\n",
    "idade.rename(columns= labels, inplace = True)\n",
    "\n",
    "idade[:5]\n"
   ]
  },
  {
   "cell_type": "code",
   "execution_count": 53,
   "metadata": {},
   "outputs": [
    {
     "name": "stdout",
     "output_type": "stream",
     "text": [
      "A idade média dos cliente pré-pandemia é de 40.\n"
     ]
    }
   ],
   "source": [
    "# idade média pré \n",
    "pre_pandemia = dados_consumidor[(dados_consumidor['pre-pandemia'] == 1)]\n",
    "idade_pre = pre_pandemia['idade'].mean()\n",
    "print(f'A idade média dos cliente pré-pandemia é de {round(idade_pre)}.')"
   ]
  },
  {
   "cell_type": "code",
   "execution_count": 55,
   "metadata": {},
   "outputs": [
    {
     "name": "stdout",
     "output_type": "stream",
     "text": [
      "A idade média dos cliente pós-pandemia é de 45.\n"
     ]
    }
   ],
   "source": [
    "# idade média pós pandemia\n",
    "pre_pandemia = dados_consumidor[(dados_consumidor['pre-pandemia'] == 0)]\n",
    "idade_pos = pre_pandemia['idade'].mean()\n",
    "print(f'A idade média dos cliente pós-pandemia é de {round(idade_pos)}.')"
   ]
  },
  {
   "cell_type": "code",
   "execution_count": 16,
   "metadata": {},
   "outputs": [
    {
     "data": {
      "text/plain": [
       "['Centro-Oeste', 'Nordeste', 'Norte', 'Sudeste', 'Sul']"
      ]
     },
     "execution_count": 16,
     "metadata": {},
     "output_type": "execute_result"
    }
   ],
   "source": [
    "#regiões \n",
    "qualitativaNominal1 = sorted(dados_consumidor['regiao-BR'].unique())\n",
    "qualitativaNominal1"
   ]
  },
  {
   "cell_type": "code",
   "execution_count": 17,
   "metadata": {},
   "outputs": [
    {
     "data": {
      "text/plain": [
       "['antissinais', 'base', 'batom', 'desodorante', 'perfume', 'sombra']"
      ]
     },
     "execution_count": 17,
     "metadata": {},
     "output_type": "execute_result"
    }
   ],
   "source": [
    "#produtos que foram vendidos\n",
    "qualitativaNominal2 = sorted(dados_consumidor['produto'].unique())\n",
    "qualitativaNominal2"
   ]
  },
  {
   "cell_type": "markdown",
   "metadata": {},
   "source": [
    "### Distribuição de frequências para variável renda"
   ]
  },
  {
   "cell_type": "code",
   "execution_count": null,
   "metadata": {},
   "outputs": [
    {
     "data": {
      "text/plain": [
       "110"
      ]
     },
     "execution_count": 36,
     "metadata": {},
     "output_type": "execute_result"
    }
   ],
   "source": [
    "dados_consumidor.renda.min()"
   ]
  },
  {
   "cell_type": "code",
   "execution_count": null,
   "metadata": {},
   "outputs": [
    {
     "data": {
      "text/plain": [
       "30000"
      ]
     },
     "execution_count": 37,
     "metadata": {},
     "output_type": "execute_result"
    }
   ],
   "source": [
    "dados_consumidor.renda.max()"
   ]
  },
  {
   "cell_type": "code",
   "execution_count": null,
   "metadata": {},
   "outputs": [],
   "source": [
    "# salario minimo hoje R$1212 --> 2,4,6,8,mais que oito\n",
    "\n",
    "classes = [110, 2424, 4848, 7272, 9696, 30000]\n",
    "labels = ['E', 'D', 'C', 'B', 'A']"
   ]
  },
  {
   "cell_type": "code",
   "execution_count": null,
   "metadata": {},
   "outputs": [
    {
     "data": {
      "text/html": [
       "<div>\n",
       "<style scoped>\n",
       "    .dataframe tbody tr th:only-of-type {\n",
       "        vertical-align: middle;\n",
       "    }\n",
       "\n",
       "    .dataframe tbody tr th {\n",
       "        vertical-align: top;\n",
       "    }\n",
       "\n",
       "    .dataframe thead th {\n",
       "        text-align: right;\n",
       "    }\n",
       "</style>\n",
       "<table border=\"1\" class=\"dataframe\">\n",
       "  <thead>\n",
       "    <tr style=\"text-align: right;\">\n",
       "      <th></th>\n",
       "      <th>Frequência</th>\n",
       "      <th>Porcentagem (%)</th>\n",
       "    </tr>\n",
       "  </thead>\n",
       "  <tbody>\n",
       "    <tr>\n",
       "      <th>A</th>\n",
       "      <td>122</td>\n",
       "      <td>0.600985</td>\n",
       "    </tr>\n",
       "    <tr>\n",
       "      <th>B</th>\n",
       "      <td>24</td>\n",
       "      <td>0.118227</td>\n",
       "    </tr>\n",
       "    <tr>\n",
       "      <th>C</th>\n",
       "      <td>29</td>\n",
       "      <td>0.142857</td>\n",
       "    </tr>\n",
       "    <tr>\n",
       "      <th>D</th>\n",
       "      <td>17</td>\n",
       "      <td>0.083744</td>\n",
       "    </tr>\n",
       "    <tr>\n",
       "      <th>E</th>\n",
       "      <td>11</td>\n",
       "      <td>0.054187</td>\n",
       "    </tr>\n",
       "  </tbody>\n",
       "</table>\n",
       "</div>"
      ],
      "text/plain": [
       "   Frequência  Porcentagem (%)\n",
       "A         122         0.600985\n",
       "B          24         0.118227\n",
       "C          29         0.142857\n",
       "D          17         0.083744\n",
       "E          11         0.054187"
      ]
     },
     "execution_count": 58,
     "metadata": {},
     "output_type": "execute_result"
    }
   ],
   "source": [
    "frequencia = pd.value_counts(\n",
    "    pd.cut(x = dados_consumidor.renda,\n",
    "               bins = classes,\n",
    "               labels = labels,\n",
    "               include_lowest = True)\n",
    ")\n",
    "percentual = pd.value_counts(\n",
    "    pd.cut(x = dados_consumidor.renda,\n",
    "               bins = classes,\n",
    "               labels = labels,\n",
    "               include_lowest = True),\n",
    "    normalize = True\n",
    ")\n",
    "\n",
    "#renomeando as colunas\n",
    "dist_freq_quantitativas_personalizadas = pd.DataFrame(\n",
    "    {'Frequência': frequencia, 'Porcentagem (%)': percentual}\n",
    ")\n",
    "# ordenando as \"categorias\"\n",
    "dist_freq_quantitativas_personalizadas.sort_index(ascending = False)"
   ]
  },
  {
   "cell_type": "code",
   "execution_count": null,
   "metadata": {},
   "outputs": [
    {
     "data": {
      "text/plain": [
       "<AxesSubplot:title={'center':'Distribuição de Frequências - Renda'}, xlabel='R$'>"
      ]
     },
     "execution_count": 64,
     "metadata": {},
     "output_type": "execute_result"
    },
    {
     "data": {
      "image/png": "[encoded data removed]",
      "text/plain": [
       "<Figure size 864x432 with 1 Axes>"
      ]
     },
     "metadata": {
      "needs_background": "light"
     },
     "output_type": "display_data"
    }
   ],
   "source": [
    "ax = sns.distplot(dados_consumidor.renda, kde = False)\n",
    "\n",
    "ax.figure.set_size_inches(12, 6)\n",
    "ax.set_title('Distribuição de Frequências - Renda', fontsize=18)\n",
    "ax.set_xlabel('R$', fontsize=14)\n",
    "ax\n"
   ]
  },
  {
   "cell_type": "markdown",
   "metadata": {},
   "source": [
    "### Distribuição produtos mais vendidos antes e depois da pandemia"
   ]
  },
  {
   "cell_type": "code",
   "execution_count": 11,
   "metadata": {},
   "outputs": [
    {
     "data": {
      "text/html": [
       "<div>\n",
       "<style scoped>\n",
       "    .dataframe tbody tr th:only-of-type {\n",
       "        vertical-align: middle;\n",
       "    }\n",
       "\n",
       "    .dataframe tbody tr th {\n",
       "        vertical-align: top;\n",
       "    }\n",
       "\n",
       "    .dataframe thead th {\n",
       "        text-align: right;\n",
       "    }\n",
       "</style>\n",
       "<table border=\"1\" class=\"dataframe\">\n",
       "  <thead>\n",
       "    <tr style=\"text-align: right;\">\n",
       "      <th></th>\n",
       "      <th>Frequencia</th>\n",
       "      <th>Porcentagem (%)</th>\n",
       "    </tr>\n",
       "  </thead>\n",
       "  <tbody>\n",
       "    <tr>\n",
       "      <th>batom</th>\n",
       "      <td>76</td>\n",
       "      <td>37.44</td>\n",
       "    </tr>\n",
       "    <tr>\n",
       "      <th>desodorante</th>\n",
       "      <td>66</td>\n",
       "      <td>32.51</td>\n",
       "    </tr>\n",
       "    <tr>\n",
       "      <th>antissinais</th>\n",
       "      <td>29</td>\n",
       "      <td>14.29</td>\n",
       "    </tr>\n",
       "    <tr>\n",
       "      <th>sombra</th>\n",
       "      <td>13</td>\n",
       "      <td>6.40</td>\n",
       "    </tr>\n",
       "    <tr>\n",
       "      <th>perfume</th>\n",
       "      <td>12</td>\n",
       "      <td>5.91</td>\n",
       "    </tr>\n",
       "    <tr>\n",
       "      <th>base</th>\n",
       "      <td>7</td>\n",
       "      <td>3.45</td>\n",
       "    </tr>\n",
       "  </tbody>\n",
       "</table>\n",
       "</div>"
      ],
      "text/plain": [
       "             Frequencia  Porcentagem (%)\n",
       "batom                76            37.44\n",
       "desodorante          66            32.51\n",
       "antissinais          29            14.29\n",
       "sombra               13             6.40\n",
       "perfume              12             5.91\n",
       "base                  7             3.45"
      ]
     },
     "execution_count": 11,
     "metadata": {},
     "output_type": "execute_result"
    }
   ],
   "source": [
    "# totais dos produtos mais comprados -- visão geral\n",
    "\n",
    "frequencia = dados_consumidor['produto'].value_counts() # contagem\n",
    "percentual = dados_consumidor['produto'].value_counts(normalize = True) * 100 # percentual\n",
    "\n",
    "dist_freq_qualitativas = pd.DataFrame({'Frequencia':frequencia,'Porcentagem (%)':round(percentual,2)})\n",
    "dist_freq_qualitativas"
   ]
  },
  {
   "cell_type": "code",
   "execution_count": 12,
   "metadata": {},
   "outputs": [
    {
     "data": {
      "text/html": [
       "<div>\n",
       "<style scoped>\n",
       "    .dataframe tbody tr th:only-of-type {\n",
       "        vertical-align: middle;\n",
       "    }\n",
       "\n",
       "    .dataframe tbody tr th {\n",
       "        vertical-align: top;\n",
       "    }\n",
       "\n",
       "    .dataframe thead th {\n",
       "        text-align: right;\n",
       "    }\n",
       "</style>\n",
       "<table border=\"1\" class=\"dataframe\">\n",
       "  <thead>\n",
       "    <tr style=\"text-align: right;\">\n",
       "      <th></th>\n",
       "      <th>Frequencia</th>\n",
       "      <th>Porcentagem (%)</th>\n",
       "    </tr>\n",
       "  </thead>\n",
       "  <tbody>\n",
       "    <tr>\n",
       "      <th>batom</th>\n",
       "      <td>61</td>\n",
       "      <td>60.40</td>\n",
       "    </tr>\n",
       "    <tr>\n",
       "      <th>desodorante</th>\n",
       "      <td>20</td>\n",
       "      <td>19.80</td>\n",
       "    </tr>\n",
       "    <tr>\n",
       "      <th>antissinais</th>\n",
       "      <td>9</td>\n",
       "      <td>8.91</td>\n",
       "    </tr>\n",
       "    <tr>\n",
       "      <th>perfume</th>\n",
       "      <td>4</td>\n",
       "      <td>3.96</td>\n",
       "    </tr>\n",
       "    <tr>\n",
       "      <th>sombra</th>\n",
       "      <td>4</td>\n",
       "      <td>3.96</td>\n",
       "    </tr>\n",
       "    <tr>\n",
       "      <th>base</th>\n",
       "      <td>3</td>\n",
       "      <td>2.97</td>\n",
       "    </tr>\n",
       "  </tbody>\n",
       "</table>\n",
       "</div>"
      ],
      "text/plain": [
       "             Frequencia  Porcentagem (%)\n",
       "batom                61            60.40\n",
       "desodorante          20            19.80\n",
       "antissinais           9             8.91\n",
       "perfume               4             3.96\n",
       "sombra                4             3.96\n",
       "base                  3             2.97"
      ]
     },
     "execution_count": 12,
     "metadata": {},
     "output_type": "execute_result"
    }
   ],
   "source": [
    "#produtos vendidos pré pandemia\n",
    "\n",
    "pre_pandemia = dados_consumidor[(dados_consumidor['pre-pandemia'] == 1)]\n",
    "frequencia_pre = pre_pandemia['produto'].value_counts()\n",
    "porcentagem_pre =  pre_pandemia['produto'].value_counts(normalize = True) * 100 # percentual\n",
    "\n",
    "dist_freq_qualitativas_pre = pd.DataFrame({'Frequencia':frequencia_pre,'Porcentagem (%)':round(porcentagem_pre,2)})\n",
    "dist_freq_qualitativas_pre"
   ]
  },
  {
   "cell_type": "code",
   "execution_count": 13,
   "metadata": {},
   "outputs": [
    {
     "data": {
      "text/html": [
       "<div>\n",
       "<style scoped>\n",
       "    .dataframe tbody tr th:only-of-type {\n",
       "        vertical-align: middle;\n",
       "    }\n",
       "\n",
       "    .dataframe tbody tr th {\n",
       "        vertical-align: top;\n",
       "    }\n",
       "\n",
       "    .dataframe thead th {\n",
       "        text-align: right;\n",
       "    }\n",
       "</style>\n",
       "<table border=\"1\" class=\"dataframe\">\n",
       "  <thead>\n",
       "    <tr style=\"text-align: right;\">\n",
       "      <th></th>\n",
       "      <th>Frequencia</th>\n",
       "      <th>Porcentagem (%)</th>\n",
       "    </tr>\n",
       "  </thead>\n",
       "  <tbody>\n",
       "    <tr>\n",
       "      <th>desodorante</th>\n",
       "      <td>46</td>\n",
       "      <td>45.10</td>\n",
       "    </tr>\n",
       "    <tr>\n",
       "      <th>antissinais</th>\n",
       "      <td>20</td>\n",
       "      <td>19.61</td>\n",
       "    </tr>\n",
       "    <tr>\n",
       "      <th>batom</th>\n",
       "      <td>15</td>\n",
       "      <td>14.71</td>\n",
       "    </tr>\n",
       "    <tr>\n",
       "      <th>sombra</th>\n",
       "      <td>9</td>\n",
       "      <td>8.82</td>\n",
       "    </tr>\n",
       "    <tr>\n",
       "      <th>perfume</th>\n",
       "      <td>8</td>\n",
       "      <td>7.84</td>\n",
       "    </tr>\n",
       "    <tr>\n",
       "      <th>base</th>\n",
       "      <td>4</td>\n",
       "      <td>3.92</td>\n",
       "    </tr>\n",
       "  </tbody>\n",
       "</table>\n",
       "</div>"
      ],
      "text/plain": [
       "             Frequencia  Porcentagem (%)\n",
       "desodorante          46            45.10\n",
       "antissinais          20            19.61\n",
       "batom                15            14.71\n",
       "sombra                9             8.82\n",
       "perfume               8             7.84\n",
       "base                  4             3.92"
      ]
     },
     "execution_count": 13,
     "metadata": {},
     "output_type": "execute_result"
    }
   ],
   "source": [
    "#produtos vendidos pós pandemia\n",
    "pos_pandemia = dados_consumidor[(dados_consumidor['pre-pandemia'] == 0)]\n",
    "frequencia_pos = pos_pandemia['produto'].value_counts()\n",
    "porcentagem_pos =  pos_pandemia['produto'].value_counts(normalize = True) * 100 # percentual\n",
    "\n",
    "dist_freq_qualitativas_pos = pd.DataFrame({'Frequencia':frequencia_pos,'Porcentagem (%)':round(porcentagem_pos,2)})\n",
    "dist_freq_qualitativas_pos"
   ]
  },
  {
   "cell_type": "code",
   "execution_count": 33,
   "metadata": {},
   "outputs": [
    {
     "data": {
      "image/png": "[encoded data removed]",
      "text/plain": [
       "<Figure size 432x288 with 1 Axes>"
      ]
     },
     "metadata": {
      "needs_background": "light"
     },
     "output_type": "display_data"
    }
   ],
   "source": [
    "\n",
    "# Quantidade de vendas para o Produto A\n",
    "valores_produto_pre = [20, 9, 61, 4, 4, 3]\n",
    "\n",
    "# Quantidade de vendas para o Produto B\n",
    "valores_produto_pos = [46, 20, 15, 9, 8, 4] \n",
    "\n",
    "# Cria eixo x para produto A e produto B com uma separação de 0.25 entre as barras\n",
    "x1 =  np.arange(len(valores_produto_pre))\n",
    "x2 = [x + 0.25 for x in x1]\n",
    "\n",
    "# Plota as barras\n",
    "plt.bar(x1, valores_produto_pre, width=0.25, label = 'Pré-pandemia', color = 'b')\n",
    "plt.bar(x2, valores_produto_pos, width=0.25, label = 'Pós-pandemia', color = 'y')\n",
    "\n",
    "# coloca o nome dos produtos como label do eixo x\n",
    "meses = ['desodorante', 'antissinais', 'batom', 'sombra', 'perfume', 'base']\n",
    "plt.xticks([x + 0.25 for x in range(len(valores_produto_pre))], meses)\n",
    "\n",
    "# inseri uma legenda no gráfico\n",
    "plt.legend()\n",
    "\n",
    "plt.title(\"Quantidade de Vendas\")\n",
    "plt.show()"
   ]
  },
  {
   "cell_type": "markdown",
   "metadata": {},
   "source": [
    "2. Você notou diferenças nítidas pré e pós pandemia? Como você poderia\n",
    "provar estatisticamente que essas diferenças são significativas ? (pergunta\n",
    "extra)\n"
   ]
  },
  {
   "cell_type": "code",
   "execution_count": null,
   "metadata": {},
   "outputs": [],
   "source": []
  },
  {
   "cell_type": "markdown",
   "metadata": {},
   "source": [
    "### Amostragem"
   ]
  },
  {
   "cell_type": "markdown",
   "metadata": {},
   "source": [
    "3. Suponha agora que os dados recebidos são somente uma amostra da sua\n",
    "população total de clientes. Suponha que a sua \"população\" de clientes\n",
    "verdadeira é de 100000. Qual o tamanho da amostra necessária para\n",
    "chegarmos a conclusões com 95% de confiança e 2% de margem de erro? A\n",
    "base informada é suficiente? E com uma margem de erro de 10%?"
   ]
  },
  {
   "cell_type": "markdown",
   "metadata": {},
   "source": [
    "#### Fórmula usada"
   ]
  },
  {
   "cell_type": "markdown",
   "metadata": {},
   "source": [
    "![imagem](https://media-exp1.licdn.com/dms/image/C4E12AQET0yMpgxEXhg/article-inline_image-shrink_1000_1488/0/1586443913114?e=1651104000&v=beta&t=yZ85NwQSS4K_e3YdV6OtFjtPY7iebfbj8mmfmtug0Us)"
   ]
  },
  {
   "cell_type": "code",
   "execution_count": 39,
   "metadata": {},
   "outputs": [
    {
     "name": "stdout",
     "output_type": "stream",
     "text": [
      "2494\n"
     ]
    }
   ],
   "source": [
    "#Amostragem quantitativa\n",
    "\n",
    "N = 1000000 #total de clientes\n",
    "e = 0.02 # margem de erro\n",
    "\n",
    "def tamanhoAmostra(e,N):\n",
    "\n",
    "    n = (N / (1 + (N*(e**2))))\n",
    "\n",
    "    return (n)\n",
    "\n",
    "\n",
    "\n",
    "print(round(tamanhoAmostra(e, N)))"
   ]
  }
 ],
 "metadata": {
  "interpreter": {
   "hash": "9b3b2c27a951c579d12686a5b7f91f89e4fb43206bf36eb61e8d65e3da68b17f"
  },
  "kernelspec": {
   "display_name": "Python 3.8.5 ('base')",
   "language": "python",
   "name": "python3"
  },
  "language_info": {
   "codemirror_mode": {
    "name": "ipython",
    "version": 3
   },
   "file_extension": ".py",
   "mimetype": "text/x-python",
   "name": "python",
   "nbconvert_exporter": "python",
   "pygments_lexer": "ipython3",
   "version": "3.8.5"
  },
  "orig_nbformat": 4
 },
 "nbformat": 4,
 "nbformat_minor": 2
}
