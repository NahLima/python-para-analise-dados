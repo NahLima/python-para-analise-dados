{
  "cells": [
    {
      "cell_type": "markdown",
      "metadata": {
        "id": "nDCMq6wUUpwK"
      },
      "source": [
        "# **Frequência e Medidas - Aula de exercícios**"
      ]
    },
    {
      "cell_type": "code",
      "execution_count": 4,
      "metadata": {
        "id": "XvOYPsnCXAJ7"
      },
      "outputs": [],
      "source": [
        "# importação de pacotes\n",
        "import pandas as pd\n",
        "import numpy as np\n",
        "import matplotlib as mpl\n",
        "import matplotlib.pyplot as plt\n",
        "import seaborn as sns\n",
        "import statistics\n",
        "import warnings\n",
        "warnings.filterwarnings(\"ignore\")"
      ]
    },
    {
      "cell_type": "markdown",
      "metadata": {
        "id": "rOu1W0F_VwId"
      },
      "source": [
        "Os dados utilizado nesse script foram baixados do kaggle, e podem ser acessados através do link: https://www.kaggle.com/sanjeetsinghnaik/top-1000-highest-grossing-movies\n",
        "\n",
        "\n",
        "Primeiro, vamos ler os dados. \n",
        "\n",
        "Esse dataset contém informações sobre os 1000 filmes de Holywood com maior bilheteria.\n",
        "\n",
        "Variáveis:\n",
        "*   ***Title*** - título do filme\n",
        "*   ***Movie Info*** - descrição do filme\n",
        "*   ***Distributor*** - distribuidora do filme\n",
        "*   ***Release Date*** - data de lançamento\n",
        "*   ***Domestic Sales*** - quantidade de bilheteria vendida nacionalmente\n",
        "*   ***International Sales*** - quantidade de bilheteria vendida internacionalmente\n",
        "*   ***World Sales*** - quantidade de bilheteria vendida mundialmente\n",
        "*   ***Genre*** - gênero do filme\n",
        "*   ***Movie Runtime*** - duração do filme\n",
        "*   ***License*** - licença do filme\n",
        "\n",
        "Como os dados são arquivos em .csv vamos utilizar a função read_csv do pandas.\n"
      ]
    },
    {
      "cell_type": "code",
      "execution_count": 5,
      "metadata": {
        "id": "jVM3qqL3W7oN"
      },
      "outputs": [],
      "source": [
        "# lendo a base de dados\n",
        "data = pd.read_csv(\"../dados/Highest Holywood Grossing Movies.csv\")"
      ]
    },
    {
      "cell_type": "markdown",
      "metadata": {
        "id": "kJvTIcM_UtE5"
      },
      "source": [
        "## **Qual o seu tipo de dado?**"
      ]
    },
    {
      "cell_type": "code",
      "execution_count": 6,
      "metadata": {
        "colab": {
          "base_uri": "https://localhost:8080/",
          "height": 372
        },
        "id": "awyIGzcnX5F7",
        "outputId": "3a20a625-63b7-462a-8116-bca0b1684fef"
      },
      "outputs": [
        {
          "data": {
            "text/html": [
              "<div>\n",
              "<style scoped>\n",
              "    .dataframe tbody tr th:only-of-type {\n",
              "        vertical-align: middle;\n",
              "    }\n",
              "\n",
              "    .dataframe tbody tr th {\n",
              "        vertical-align: top;\n",
              "    }\n",
              "\n",
              "    .dataframe thead th {\n",
              "        text-align: right;\n",
              "    }\n",
              "</style>\n",
              "<table border=\"1\" class=\"dataframe\">\n",
              "  <thead>\n",
              "    <tr style=\"text-align: right;\">\n",
              "      <th></th>\n",
              "      <th>Unnamed: 0</th>\n",
              "      <th>Title</th>\n",
              "      <th>Movie Info</th>\n",
              "      <th>Distributor</th>\n",
              "      <th>Release Date</th>\n",
              "      <th>Domestic Sales (in $)</th>\n",
              "      <th>International Sales (in $)</th>\n",
              "      <th>World Sales (in $)</th>\n",
              "      <th>Genre</th>\n",
              "      <th>Movie Runtime</th>\n",
              "      <th>License</th>\n",
              "    </tr>\n",
              "  </thead>\n",
              "  <tbody>\n",
              "    <tr>\n",
              "      <th>0</th>\n",
              "      <td>0</td>\n",
              "      <td>Star Wars: Episode VII - The Force Awakens (2015)</td>\n",
              "      <td>As a new threat to the galaxy rises, Rey, a de...</td>\n",
              "      <td>Walt Disney Studios Motion Pictures</td>\n",
              "      <td>December 16, 2015</td>\n",
              "      <td>936662225</td>\n",
              "      <td>1132859475</td>\n",
              "      <td>2069521700</td>\n",
              "      <td>['Action', 'Adventure', 'Sci-Fi']</td>\n",
              "      <td>2 hr 18 min</td>\n",
              "      <td>PG-13</td>\n",
              "    </tr>\n",
              "    <tr>\n",
              "      <th>1</th>\n",
              "      <td>1</td>\n",
              "      <td>Avengers: Endgame (2019)</td>\n",
              "      <td>After the devastating events of Avengers: Infi...</td>\n",
              "      <td>Walt Disney Studios Motion Pictures</td>\n",
              "      <td>April 24, 2019</td>\n",
              "      <td>858373000</td>\n",
              "      <td>1939128328</td>\n",
              "      <td>2797501328</td>\n",
              "      <td>['Action', 'Adventure', 'Drama', 'Sci-Fi']</td>\n",
              "      <td>3 hr 1 min</td>\n",
              "      <td>PG-13</td>\n",
              "    </tr>\n",
              "    <tr>\n",
              "      <th>2</th>\n",
              "      <td>2</td>\n",
              "      <td>Avatar (2009)</td>\n",
              "      <td>A paraplegic Marine dispatched to the moon Pan...</td>\n",
              "      <td>Twentieth Century Fox</td>\n",
              "      <td>December 16, 2009</td>\n",
              "      <td>760507625</td>\n",
              "      <td>2086738578</td>\n",
              "      <td>2847246203</td>\n",
              "      <td>['Action', 'Adventure', 'Fantasy', 'Sci-Fi']</td>\n",
              "      <td>2 hr 42 min</td>\n",
              "      <td>PG-13</td>\n",
              "    </tr>\n",
              "    <tr>\n",
              "      <th>3</th>\n",
              "      <td>3</td>\n",
              "      <td>Black Panther (2018)</td>\n",
              "      <td>T'Challa, heir to the hidden but advanced king...</td>\n",
              "      <td>Walt Disney Studios Motion Pictures</td>\n",
              "      <td>NaN</td>\n",
              "      <td>700426566</td>\n",
              "      <td>647171407</td>\n",
              "      <td>1347597973</td>\n",
              "      <td>['Action', 'Adventure', 'Sci-Fi']</td>\n",
              "      <td>2 hr 14 min</td>\n",
              "      <td>NaN</td>\n",
              "    </tr>\n",
              "    <tr>\n",
              "      <th>4</th>\n",
              "      <td>4</td>\n",
              "      <td>Avengers: Infinity War (2018)</td>\n",
              "      <td>The Avengers and their allies must be willing ...</td>\n",
              "      <td>Walt Disney Studios Motion Pictures</td>\n",
              "      <td>NaN</td>\n",
              "      <td>678815482</td>\n",
              "      <td>1369544272</td>\n",
              "      <td>2048359754</td>\n",
              "      <td>['Action', 'Adventure', 'Sci-Fi']</td>\n",
              "      <td>2 hr 29 min</td>\n",
              "      <td>NaN</td>\n",
              "    </tr>\n",
              "  </tbody>\n",
              "</table>\n",
              "</div>"
            ],
            "text/plain": [
              "   Unnamed: 0                                              Title  \\\n",
              "0           0  Star Wars: Episode VII - The Force Awakens (2015)   \n",
              "1           1                           Avengers: Endgame (2019)   \n",
              "2           2                                      Avatar (2009)   \n",
              "3           3                               Black Panther (2018)   \n",
              "4           4                      Avengers: Infinity War (2018)   \n",
              "\n",
              "                                          Movie Info  \\\n",
              "0  As a new threat to the galaxy rises, Rey, a de...   \n",
              "1  After the devastating events of Avengers: Infi...   \n",
              "2  A paraplegic Marine dispatched to the moon Pan...   \n",
              "3  T'Challa, heir to the hidden but advanced king...   \n",
              "4  The Avengers and their allies must be willing ...   \n",
              "\n",
              "                           Distributor       Release Date  \\\n",
              "0  Walt Disney Studios Motion Pictures  December 16, 2015   \n",
              "1  Walt Disney Studios Motion Pictures     April 24, 2019   \n",
              "2                Twentieth Century Fox  December 16, 2009   \n",
              "3  Walt Disney Studios Motion Pictures                NaN   \n",
              "4  Walt Disney Studios Motion Pictures                NaN   \n",
              "\n",
              "   Domestic Sales (in $)  International Sales (in $)  World Sales (in $)  \\\n",
              "0              936662225                  1132859475          2069521700   \n",
              "1              858373000                  1939128328          2797501328   \n",
              "2              760507625                  2086738578          2847246203   \n",
              "3              700426566                   647171407          1347597973   \n",
              "4              678815482                  1369544272          2048359754   \n",
              "\n",
              "                                          Genre Movie Runtime License  \n",
              "0             ['Action', 'Adventure', 'Sci-Fi']   2 hr 18 min   PG-13  \n",
              "1    ['Action', 'Adventure', 'Drama', 'Sci-Fi']    3 hr 1 min   PG-13  \n",
              "2  ['Action', 'Adventure', 'Fantasy', 'Sci-Fi']   2 hr 42 min   PG-13  \n",
              "3             ['Action', 'Adventure', 'Sci-Fi']   2 hr 14 min     NaN  \n",
              "4             ['Action', 'Adventure', 'Sci-Fi']   2 hr 29 min     NaN  "
            ]
          },
          "execution_count": 6,
          "metadata": {},
          "output_type": "execute_result"
        }
      ],
      "source": [
        "# verificando as primeiras colunas da base de dados\n",
        "data.head()"
      ]
    },
    {
      "cell_type": "code",
      "execution_count": 7,
      "metadata": {
        "id": "ybdypSCnajQ9"
      },
      "outputs": [],
      "source": [
        "# podemos ver que a coluna \"Unnamed: 0\" é desnecessária, então podemos excluí-la\n",
        "data.drop('Unnamed: 0', axis = 1, inplace = True)"
      ]
    },
    {
      "cell_type": "code",
      "execution_count": 8,
      "metadata": {
        "colab": {
          "base_uri": "https://localhost:8080/"
        },
        "id": "DrhmKGKgayPM",
        "outputId": "fa4afc0a-dc71-41f9-e0c7-a880919c9398"
      },
      "outputs": [
        {
          "data": {
            "text/plain": [
              "Index(['Title', 'Movie Info', 'Distributor', 'Release Date',\n",
              "       'Domestic Sales (in $)', 'International Sales (in $)',\n",
              "       'World Sales (in $)', 'Genre', 'Movie Runtime', 'License'],\n",
              "      dtype='object')"
            ]
          },
          "execution_count": 8,
          "metadata": {},
          "output_type": "execute_result"
        }
      ],
      "source": [
        "# vamos verificar agora o nome das colunas que restaram\n",
        "data.columns"
      ]
    },
    {
      "cell_type": "code",
      "execution_count": 9,
      "metadata": {
        "colab": {
          "base_uri": "https://localhost:8080/"
        },
        "id": "USLDqhSiX5RA",
        "outputId": "39009dd2-8b21-4f30-a5d0-f633f49625d4"
      },
      "outputs": [
        {
          "data": {
            "text/plain": [
              "(918, 10)"
            ]
          },
          "execution_count": 9,
          "metadata": {},
          "output_type": "execute_result"
        }
      ],
      "source": [
        "# verificando a dimensão da base de dados\n",
        "data.shape"
      ]
    },
    {
      "cell_type": "code",
      "execution_count": 10,
      "metadata": {
        "colab": {
          "base_uri": "https://localhost:8080/"
        },
        "id": "6SGSGFiuZBJQ",
        "outputId": "df173766-8adf-4da2-fe1d-b9aeb443b6e5"
      },
      "outputs": [
        {
          "data": {
            "text/plain": [
              "Title                         object\n",
              "Movie Info                    object\n",
              "Distributor                   object\n",
              "Release Date                  object\n",
              "Domestic Sales (in $)          int64\n",
              "International Sales (in $)     int64\n",
              "World Sales (in $)             int64\n",
              "Genre                         object\n",
              "Movie Runtime                 object\n",
              "License                       object\n",
              "dtype: object"
            ]
          },
          "execution_count": 10,
          "metadata": {},
          "output_type": "execute_result"
        }
      ],
      "source": [
        "# verificando o tipo das colunas\n",
        "data.dtypes"
      ]
    },
    {
      "cell_type": "code",
      "execution_count": 11,
      "metadata": {
        "id": "awCkzI5SZZMT"
      },
      "outputs": [],
      "source": [
        "# queremos mudar a coluna \"Movie Runtime\" para valores numéricos de hora \n",
        "runtime = data['Movie Runtime'].str.split(expand=True).iloc[:,[0,2]]\n",
        "runtime[2].fillna(0, inplace=True)\n",
        "runtime = runtime.astype('int64')\n",
        "runtime['hour'] = runtime[0] + runtime[2]/60\n",
        "data['Movie Runtime'] = runtime['hour']"
      ]
    },
    {
      "cell_type": "code",
      "execution_count": 12,
      "metadata": {
        "colab": {
          "base_uri": "https://localhost:8080/"
        },
        "id": "i2CjSVfJbnYm",
        "outputId": "d5b74952-da32-4bcd-bdbe-cc0bc057c58c"
      },
      "outputs": [
        {
          "data": {
            "text/plain": [
              "0      2.300000\n",
              "1      3.016667\n",
              "2      2.700000\n",
              "3      2.233333\n",
              "4      2.483333\n",
              "         ...   \n",
              "913    2.050000\n",
              "914    1.366667\n",
              "915    2.216667\n",
              "916    1.633333\n",
              "917    1.700000\n",
              "Name: Movie Runtime, Length: 918, dtype: float64"
            ]
          },
          "execution_count": 12,
          "metadata": {},
          "output_type": "execute_result"
        }
      ],
      "source": [
        "# verificando o resultado\n",
        "data['Movie Runtime']"
      ]
    },
    {
      "cell_type": "code",
      "execution_count": 13,
      "metadata": {
        "id": "RxsuTH_Fb1Sz"
      },
      "outputs": [],
      "source": [
        "# queremos mudar o tipo da variável Release Date para Datetime\n",
        "data['Release Date'] = pd.to_datetime( data['Release Date'])"
      ]
    },
    {
      "cell_type": "code",
      "execution_count": 14,
      "metadata": {
        "id": "ZJxaNeVZlfmG"
      },
      "outputs": [],
      "source": [
        "# queremos transformar o valor arrecadado pra milhões de dólares, com o intuito de uma melhor visualização dos valores\n",
        "data[['Domestic Sales (in $)','International Sales (in $)','World Sales (in $)']]= data[['Domestic Sales (in $)',\n",
        "                                            'International Sales (in $)','World Sales (in $)']].apply(lambda x: x/(10**6))"
      ]
    },
    {
      "cell_type": "code",
      "execution_count": 15,
      "metadata": {
        "colab": {
          "base_uri": "https://localhost:8080/",
          "height": 206
        },
        "id": "DmtGzno5mDdb",
        "outputId": "579911e7-af78-47b4-9350-99e64ca0e58b"
      },
      "outputs": [
        {
          "data": {
            "text/html": [
              "<div>\n",
              "<style scoped>\n",
              "    .dataframe tbody tr th:only-of-type {\n",
              "        vertical-align: middle;\n",
              "    }\n",
              "\n",
              "    .dataframe tbody tr th {\n",
              "        vertical-align: top;\n",
              "    }\n",
              "\n",
              "    .dataframe thead th {\n",
              "        text-align: right;\n",
              "    }\n",
              "</style>\n",
              "<table border=\"1\" class=\"dataframe\">\n",
              "  <thead>\n",
              "    <tr style=\"text-align: right;\">\n",
              "      <th></th>\n",
              "      <th>Domestic Sales (in $)</th>\n",
              "      <th>International Sales (in $)</th>\n",
              "      <th>World Sales (in $)</th>\n",
              "    </tr>\n",
              "  </thead>\n",
              "  <tbody>\n",
              "    <tr>\n",
              "      <th>0</th>\n",
              "      <td>936.662225</td>\n",
              "      <td>1132.859475</td>\n",
              "      <td>2069.521700</td>\n",
              "    </tr>\n",
              "    <tr>\n",
              "      <th>1</th>\n",
              "      <td>858.373000</td>\n",
              "      <td>1939.128328</td>\n",
              "      <td>2797.501328</td>\n",
              "    </tr>\n",
              "    <tr>\n",
              "      <th>2</th>\n",
              "      <td>760.507625</td>\n",
              "      <td>2086.738578</td>\n",
              "      <td>2847.246203</td>\n",
              "    </tr>\n",
              "    <tr>\n",
              "      <th>3</th>\n",
              "      <td>700.426566</td>\n",
              "      <td>647.171407</td>\n",
              "      <td>1347.597973</td>\n",
              "    </tr>\n",
              "    <tr>\n",
              "      <th>4</th>\n",
              "      <td>678.815482</td>\n",
              "      <td>1369.544272</td>\n",
              "      <td>2048.359754</td>\n",
              "    </tr>\n",
              "  </tbody>\n",
              "</table>\n",
              "</div>"
            ],
            "text/plain": [
              "   Domestic Sales (in $)  International Sales (in $)  World Sales (in $)\n",
              "0             936.662225                 1132.859475         2069.521700\n",
              "1             858.373000                 1939.128328         2797.501328\n",
              "2             760.507625                 2086.738578         2847.246203\n",
              "3             700.426566                  647.171407         1347.597973\n",
              "4             678.815482                 1369.544272         2048.359754"
            ]
          },
          "execution_count": 15,
          "metadata": {},
          "output_type": "execute_result"
        }
      ],
      "source": [
        "# vamos verificar somente essas colunas\n",
        "data[['Domestic Sales (in $)','International Sales (in $)','World Sales (in $)']].head()"
      ]
    },
    {
      "cell_type": "code",
      "execution_count": 16,
      "metadata": {
        "colab": {
          "base_uri": "https://localhost:8080/"
        },
        "id": "6BZh10xDcB-y",
        "outputId": "12c2c1b4-498d-40b6-bb5a-ed7cccd622d0"
      },
      "outputs": [
        {
          "name": "stdout",
          "output_type": "stream",
          "text": [
            "<class 'pandas.core.frame.DataFrame'>\n",
            "RangeIndex: 918 entries, 0 to 917\n",
            "Data columns (total 10 columns):\n",
            " #   Column                      Non-Null Count  Dtype         \n",
            "---  ------                      --------------  -----         \n",
            " 0   Title                       918 non-null    object        \n",
            " 1   Movie Info                  918 non-null    object        \n",
            " 2   Distributor                 918 non-null    object        \n",
            " 3   Release Date                800 non-null    datetime64[ns]\n",
            " 4   Domestic Sales (in $)       918 non-null    float64       \n",
            " 5   International Sales (in $)  918 non-null    float64       \n",
            " 6   World Sales (in $)          918 non-null    float64       \n",
            " 7   Genre                       918 non-null    object        \n",
            " 8   Movie Runtime               918 non-null    float64       \n",
            " 9   License                     744 non-null    object        \n",
            "dtypes: datetime64[ns](1), float64(4), object(5)\n",
            "memory usage: 71.8+ KB\n"
          ]
        }
      ],
      "source": [
        "# verificando novamente o tipo das colunas\n",
        "data.info()"
      ]
    },
    {
      "cell_type": "markdown",
      "metadata": {
        "id": "J9wCNUtzhrKH"
      },
      "source": [
        "As variáveis qualitativas na base de dados são: 'Title', 'Movie Info', 'Distributor', 'Genre', 'License'.\n",
        "\n"
      ]
    },
    {
      "cell_type": "markdown",
      "metadata": {
        "id": "fZgOREoNjsAq"
      },
      "source": [
        "As variáveis quantitativas na base de dados são: \n",
        "       'Domestic Sales (in $)', 'International Sales (in $)',\n",
        "       'World Sales (in $)', 'Movie Runtime'"
      ]
    },
    {
      "cell_type": "markdown",
      "metadata": {
        "id": "f8DJsgZxVBUs"
      },
      "source": [
        "## **Distribuição de frequência**"
      ]
    },
    {
      "cell_type": "markdown",
      "metadata": {
        "id": "lURsqDWLhRoA"
      },
      "source": [
        "### **Variáveis Qualitativas**"
      ]
    },
    {
      "cell_type": "markdown",
      "metadata": {
        "id": "O9HtgUCWaIkF"
      },
      "source": [
        "Vamos verificar quantos filmes de cada distribuidora estão na base de dados."
      ]
    },
    {
      "cell_type": "code",
      "execution_count": 17,
      "metadata": {
        "colab": {
          "base_uri": "https://localhost:8080/",
          "height": 1000
        },
        "id": "kD60hUO6Z2je",
        "outputId": "00b5dadd-3568-4e54-b3a9-4508c6aea88e"
      },
      "outputs": [
        {
          "data": {
            "text/html": [
              "<div>\n",
              "<style scoped>\n",
              "    .dataframe tbody tr th:only-of-type {\n",
              "        vertical-align: middle;\n",
              "    }\n",
              "\n",
              "    .dataframe tbody tr th {\n",
              "        vertical-align: top;\n",
              "    }\n",
              "\n",
              "    .dataframe thead th {\n",
              "        text-align: right;\n",
              "    }\n",
              "</style>\n",
              "<table border=\"1\" class=\"dataframe\">\n",
              "  <thead>\n",
              "    <tr style=\"text-align: right;\">\n",
              "      <th>col_0</th>\n",
              "      <th>count</th>\n",
              "    </tr>\n",
              "    <tr>\n",
              "      <th>Distributor</th>\n",
              "      <th></th>\n",
              "    </tr>\n",
              "  </thead>\n",
              "  <tbody>\n",
              "    <tr>\n",
              "      <th>Warner Bros.</th>\n",
              "      <td>158</td>\n",
              "    </tr>\n",
              "    <tr>\n",
              "      <th>Walt Disney Studios Motion Pictures</th>\n",
              "      <td>155</td>\n",
              "    </tr>\n",
              "    <tr>\n",
              "      <th>Universal Pictures</th>\n",
              "      <td>119</td>\n",
              "    </tr>\n",
              "    <tr>\n",
              "      <th>Twentieth Century Fox</th>\n",
              "      <td>117</td>\n",
              "    </tr>\n",
              "    <tr>\n",
              "      <th>Sony Pictures Entertainment (SPE)</th>\n",
              "      <td>101</td>\n",
              "    </tr>\n",
              "    <tr>\n",
              "      <th>Paramount Pictures</th>\n",
              "      <td>99</td>\n",
              "    </tr>\n",
              "    <tr>\n",
              "      <th>New Line Cinema</th>\n",
              "      <td>21</td>\n",
              "    </tr>\n",
              "    <tr>\n",
              "      <th>DreamWorks</th>\n",
              "      <td>21</td>\n",
              "    </tr>\n",
              "    <tr>\n",
              "      <th>Lionsgate</th>\n",
              "      <td>19</td>\n",
              "    </tr>\n",
              "    <tr>\n",
              "      <th>DreamWorks Distribution</th>\n",
              "      <td>17</td>\n",
              "    </tr>\n",
              "    <tr>\n",
              "      <th>Metro-Goldwyn-Mayer (MGM)</th>\n",
              "      <td>12</td>\n",
              "    </tr>\n",
              "    <tr>\n",
              "      <th>TriStar Pictures</th>\n",
              "      <td>9</td>\n",
              "    </tr>\n",
              "    <tr>\n",
              "      <th>Miramax</th>\n",
              "      <td>9</td>\n",
              "    </tr>\n",
              "    <tr>\n",
              "      <th>Revolution Studios</th>\n",
              "      <td>8</td>\n",
              "    </tr>\n",
              "    <tr>\n",
              "      <th>Columbia Pictures</th>\n",
              "      <td>7</td>\n",
              "    </tr>\n",
              "    <tr>\n",
              "      <th>Dimension Films</th>\n",
              "      <td>7</td>\n",
              "    </tr>\n",
              "    <tr>\n",
              "      <th>The Weinstein Company</th>\n",
              "      <td>6</td>\n",
              "    </tr>\n",
              "    <tr>\n",
              "      <th>Summit Entertainment</th>\n",
              "      <td>5</td>\n",
              "    </tr>\n",
              "    <tr>\n",
              "      <th>Fox Searchlight Pictures</th>\n",
              "      <td>4</td>\n",
              "    </tr>\n",
              "    <tr>\n",
              "      <th>Orion Pictures</th>\n",
              "      <td>3</td>\n",
              "    </tr>\n",
              "    <tr>\n",
              "      <th>STX Entertainment</th>\n",
              "      <td>3</td>\n",
              "    </tr>\n",
              "    <tr>\n",
              "      <th>Screen Gems</th>\n",
              "      <td>3</td>\n",
              "    </tr>\n",
              "    <tr>\n",
              "      <th>Focus Features</th>\n",
              "      <td>2</td>\n",
              "    </tr>\n",
              "    <tr>\n",
              "      <th>United Artists</th>\n",
              "      <td>2</td>\n",
              "    </tr>\n",
              "    <tr>\n",
              "      <th>FilmDistrict</th>\n",
              "      <td>2</td>\n",
              "    </tr>\n",
              "    <tr>\n",
              "      <th>USA Films</th>\n",
              "      <td>1</td>\n",
              "    </tr>\n",
              "    <tr>\n",
              "      <th>United Artists Releasing</th>\n",
              "      <td>1</td>\n",
              "    </tr>\n",
              "    <tr>\n",
              "      <th>20th Century Studios</th>\n",
              "      <td>1</td>\n",
              "    </tr>\n",
              "    <tr>\n",
              "      <th>Sony Pictures Classics</th>\n",
              "      <td>1</td>\n",
              "    </tr>\n",
              "    <tr>\n",
              "      <th>Roadside Attractions</th>\n",
              "      <td>1</td>\n",
              "    </tr>\n",
              "    <tr>\n",
              "      <th>Artisan Entertainment</th>\n",
              "      <td>1</td>\n",
              "    </tr>\n",
              "    <tr>\n",
              "      <th>Newmarket Films</th>\n",
              "      <td>1</td>\n",
              "    </tr>\n",
              "    <tr>\n",
              "      <th>IFC Films</th>\n",
              "      <td>1</td>\n",
              "    </tr>\n",
              "    <tr>\n",
              "      <th>Relativity Media</th>\n",
              "      <td>1</td>\n",
              "    </tr>\n",
              "  </tbody>\n",
              "</table>\n",
              "</div>"
            ],
            "text/plain": [
              "col_0                                count\n",
              "Distributor                               \n",
              "Warner Bros.                           158\n",
              "Walt Disney Studios Motion Pictures    155\n",
              "Universal Pictures                     119\n",
              "Twentieth Century Fox                  117\n",
              "Sony Pictures Entertainment (SPE)      101\n",
              "Paramount Pictures                      99\n",
              "New Line Cinema                         21\n",
              "DreamWorks                              21\n",
              "Lionsgate                               19\n",
              "DreamWorks Distribution                 17\n",
              "Metro-Goldwyn-Mayer (MGM)               12\n",
              "TriStar Pictures                         9\n",
              "Miramax                                  9\n",
              "Revolution Studios                       8\n",
              "Columbia Pictures                        7\n",
              "Dimension Films                          7\n",
              "The Weinstein Company                    6\n",
              "Summit Entertainment                     5\n",
              "Fox Searchlight Pictures                 4\n",
              "Orion Pictures                           3\n",
              "STX Entertainment                        3\n",
              "Screen Gems                              3\n",
              "Focus Features                           2\n",
              "United Artists                           2\n",
              "FilmDistrict                             2\n",
              "USA Films                                1\n",
              "United Artists Releasing                 1\n",
              "20th Century Studios                     1\n",
              "Sony Pictures Classics                   1\n",
              "Roadside Attractions                     1\n",
              "Artisan Entertainment                    1\n",
              "Newmarket Films                          1\n",
              "IFC Films                                1\n",
              "Relativity Media                         1"
            ]
          },
          "execution_count": 17,
          "metadata": {},
          "output_type": "execute_result"
        }
      ],
      "source": [
        "# vamos fazer uma tabela de frequência\n",
        "pd.crosstab(index = data[\"Distributor\"], columns=\"count\").sort_values('count', ascending = False)"
      ]
    },
    {
      "cell_type": "code",
      "execution_count": 18,
      "metadata": {
        "colab": {
          "base_uri": "https://localhost:8080/",
          "height": 629
        },
        "id": "kFn_FUBLZ2m2",
        "outputId": "5b5afe74-2d57-41c9-d383-7084b708c8e2"
      },
      "outputs": [
        {
          "data": {
            "image/png": "[encoded data removed]",
            "text/plain": [
              "<Figure size 1440x504 with 1 Axes>"
            ]
          },
          "metadata": {
            "needs_background": "light"
          },
          "output_type": "display_data"
        }
      ],
      "source": [
        "# vamos fazer um gráfico de barras\n",
        "fig,ax=plt.subplots(figsize=(20,7))\n",
        "sns.barplot(x='Distributor', y='Title', color = \"steelblue\", edgecolor='black',\n",
        "            data= data.groupby('Distributor', as_index=False)['Title'].count().sort_values('Title',ascending=False))\n",
        "ax.tick_params(axis='x', labelrotation=90)\n",
        "ax.set_title('Filmes por Distribuidora', fontsize=14)\n",
        "plt.show()"
      ]
    },
    {
      "cell_type": "markdown",
      "metadata": {
        "id": "YqMDabYQi5cO"
      },
      "source": [
        "### **Variáveis Quantitativas**"
      ]
    },
    {
      "cell_type": "markdown",
      "metadata": {
        "id": "JkaCgSBxkGgK"
      },
      "source": [
        "Vamos verificar a distribuição de tempo do filme."
      ]
    },
    {
      "cell_type": "code",
      "execution_count": 19,
      "metadata": {
        "colab": {
          "base_uri": "https://localhost:8080/",
          "height": 279
        },
        "id": "jdHQwLSQkVfZ",
        "outputId": "6319c263-389e-45e3-e32d-66469273df43"
      },
      "outputs": [
        {
          "data": {
            "image/png": "[encoded data removed]",
            "text/plain": [
              "<Figure size 432x288 with 1 Axes>"
            ]
          },
          "metadata": {
            "needs_background": "light"
          },
          "output_type": "display_data"
        }
      ],
      "source": [
        "# com a quantidade de bins default\n",
        "sns.histplot(data = data, x = \"Movie Runtime\")\n",
        "plt.show()"
      ]
    },
    {
      "cell_type": "code",
      "execution_count": 34,
      "metadata": {
        "colab": {
          "base_uri": "https://localhost:8080/",
          "height": 279
        },
        "id": "nMKWedR9ki3-",
        "outputId": "7c27f37a-4b4e-4c0b-e916-7b533c27e977"
      },
      "outputs": [
        {
          "data": {
            "image/png": "[encoded data removed]",
            "text/plain": [
              "<Figure size 432x288 with 1 Axes>"
            ]
          },
          "metadata": {
            "needs_background": "light"
          },
          "output_type": "display_data"
        }
      ],
      "source": [
        "# com a quantidade de bins escolhida\n",
        "sns.histplot(data = data, x = \"Movie Runtime\", bins =10)\n",
        "plt.show()"
      ]
    },
    {
      "cell_type": "markdown",
      "metadata": {
        "id": "N7YHVQwwVC-3"
      },
      "source": [
        "## **Medidas de tendência central e Medidas separatrizes**"
      ]
    },
    {
      "cell_type": "markdown",
      "metadata": {
        "id": "OJSd6Gbfutlt"
      },
      "source": [
        "### **Variáveis Quantitativas**"
      ]
    },
    {
      "cell_type": "code",
      "execution_count": 21,
      "metadata": {
        "colab": {
          "base_uri": "https://localhost:8080/",
          "height": 300
        },
        "id": "t7ZTf91-lF2C",
        "outputId": "5b1d3d33-4ec0-4438-b3f2-3636b5df6ee5"
      },
      "outputs": [
        {
          "data": {
            "text/html": [
              "<div>\n",
              "<style scoped>\n",
              "    .dataframe tbody tr th:only-of-type {\n",
              "        vertical-align: middle;\n",
              "    }\n",
              "\n",
              "    .dataframe tbody tr th {\n",
              "        vertical-align: top;\n",
              "    }\n",
              "\n",
              "    .dataframe thead th {\n",
              "        text-align: right;\n",
              "    }\n",
              "</style>\n",
              "<table border=\"1\" class=\"dataframe\">\n",
              "  <thead>\n",
              "    <tr style=\"text-align: right;\">\n",
              "      <th></th>\n",
              "      <th>Domestic Sales (in $)</th>\n",
              "      <th>International Sales (in $)</th>\n",
              "      <th>World Sales (in $)</th>\n",
              "      <th>Movie Runtime</th>\n",
              "    </tr>\n",
              "  </thead>\n",
              "  <tbody>\n",
              "    <tr>\n",
              "      <th>count</th>\n",
              "      <td>918.000000</td>\n",
              "      <td>918.000000</td>\n",
              "      <td>918.000000</td>\n",
              "      <td>918.000000</td>\n",
              "    </tr>\n",
              "    <tr>\n",
              "      <th>mean</th>\n",
              "      <td>167.746918</td>\n",
              "      <td>230.143436</td>\n",
              "      <td>396.866826</td>\n",
              "      <td>1.942847</td>\n",
              "    </tr>\n",
              "    <tr>\n",
              "      <th>std</th>\n",
              "      <td>104.036045</td>\n",
              "      <td>217.601104</td>\n",
              "      <td>308.262916</td>\n",
              "      <td>0.347929</td>\n",
              "    </tr>\n",
              "    <tr>\n",
              "      <th>min</th>\n",
              "      <td>80.360843</td>\n",
              "      <td>0.000260</td>\n",
              "      <td>81.600000</td>\n",
              "      <td>1.266667</td>\n",
              "    </tr>\n",
              "    <tr>\n",
              "      <th>25%</th>\n",
              "      <td>101.607072</td>\n",
              "      <td>88.456200</td>\n",
              "      <td>200.556355</td>\n",
              "      <td>1.666667</td>\n",
              "    </tr>\n",
              "    <tr>\n",
              "      <th>50%</th>\n",
              "      <td>132.135096</td>\n",
              "      <td>163.881928</td>\n",
              "      <td>301.941607</td>\n",
              "      <td>1.916667</td>\n",
              "    </tr>\n",
              "    <tr>\n",
              "      <th>75%</th>\n",
              "      <td>191.390485</td>\n",
              "      <td>288.557651</td>\n",
              "      <td>475.071823</td>\n",
              "      <td>2.166667</td>\n",
              "    </tr>\n",
              "    <tr>\n",
              "      <th>max</th>\n",
              "      <td>936.662225</td>\n",
              "      <td>2086.738578</td>\n",
              "      <td>2847.246203</td>\n",
              "      <td>3.350000</td>\n",
              "    </tr>\n",
              "  </tbody>\n",
              "</table>\n",
              "</div>"
            ],
            "text/plain": [
              "       Domestic Sales (in $)  International Sales (in $)  World Sales (in $)  \\\n",
              "count             918.000000                  918.000000          918.000000   \n",
              "mean              167.746918                  230.143436          396.866826   \n",
              "std               104.036045                  217.601104          308.262916   \n",
              "min                80.360843                    0.000260           81.600000   \n",
              "25%               101.607072                   88.456200          200.556355   \n",
              "50%               132.135096                  163.881928          301.941607   \n",
              "75%               191.390485                  288.557651          475.071823   \n",
              "max               936.662225                 2086.738578         2847.246203   \n",
              "\n",
              "       Movie Runtime  \n",
              "count     918.000000  \n",
              "mean        1.942847  \n",
              "std         0.347929  \n",
              "min         1.266667  \n",
              "25%         1.666667  \n",
              "50%         1.916667  \n",
              "75%         2.166667  \n",
              "max         3.350000  "
            ]
          },
          "execution_count": 21,
          "metadata": {},
          "output_type": "execute_result"
        }
      ],
      "source": [
        "# vamos verificar a \"distribuição\" de todas as variáveis numéricas da base de dados ao mesmo tempo\n",
        "data.describe()"
      ]
    },
    {
      "cell_type": "markdown",
      "metadata": {
        "id": "bnIViK27wF5R"
      },
      "source": [
        "Agora iremos focar as análises nos dados de tempo de duração do filme."
      ]
    },
    {
      "cell_type": "code",
      "execution_count": 22,
      "metadata": {
        "colab": {
          "base_uri": "https://localhost:8080/",
          "height": 300
        },
        "id": "JikUs2MxpYdd",
        "outputId": "9d791f0e-60aa-47db-b6f1-a7d70c87d3fc"
      },
      "outputs": [
        {
          "data": {
            "image/png": "[encoded data removed]",
            "text/plain": [
              "<Figure size 432x288 with 1 Axes>"
            ]
          },
          "metadata": {
            "needs_background": "light"
          },
          "output_type": "display_data"
        },
        {
          "name": "stdout",
          "output_type": "stream",
          "text": [
            "the most frequent bin:(1.6833333333333333,1.8916666666666666)\n",
            "the mode:1.7875\n"
          ]
        }
      ],
      "source": [
        "# calculando a moda de variável quantitativa\n",
        "\n",
        "# create the histogram\n",
        "n, bins, patches = plt.hist(data['Movie Runtime'], bins=10, color = \"steelblue\")  \n",
        "\n",
        "# show the histogram\n",
        "plt.show()\n",
        "\n",
        "mode_index = n.argmax()\n",
        "# the most frequent bin\n",
        "print('the most frequent bin:(' + str(bins[mode_index]) + ',' + str(bins[mode_index+1]) + ')')\n",
        "# the mode         \n",
        "print('the mode:'+ str((bins[mode_index] + bins[mode_index+1])/2))"
      ]
    },
    {
      "cell_type": "code",
      "execution_count": 23,
      "metadata": {
        "colab": {
          "base_uri": "https://localhost:8080/"
        },
        "id": "19dwoSdmrkRR",
        "outputId": "b6e0060f-93ff-47bd-fe76-4df2b3d099ed"
      },
      "outputs": [
        {
          "data": {
            "text/plain": [
              "0.05    1.466667\n",
              "0.95    2.566667\n",
              "Name: Movie Runtime, dtype: float64"
            ]
          },
          "execution_count": 23,
          "metadata": {},
          "output_type": "execute_result"
        }
      ],
      "source": [
        "# calculando os quantis\n",
        "data[\"Movie Runtime\"].quantile([0.05, 0.95])"
      ]
    },
    {
      "cell_type": "markdown",
      "metadata": {
        "id": "gUp26Vvft8Hl"
      },
      "source": [
        "Verificando graficamente o tempo de duração dos filmes."
      ]
    },
    {
      "cell_type": "code",
      "execution_count": 24,
      "metadata": {
        "colab": {
          "base_uri": "https://localhost:8080/",
          "height": 279
        },
        "id": "TK55gS2XZ2u-",
        "outputId": "bb42daf2-9d9f-455e-cf71-a8f00bba3cc0"
      },
      "outputs": [
        {
          "data": {
            "image/png": "[encoded data removed]",
            "text/plain": [
              "<Figure size 432x288 with 2 Axes>"
            ]
          },
          "metadata": {
            "needs_background": "light"
          },
          "output_type": "display_data"
        }
      ],
      "source": [
        "# creando uma figura de dois axes \n",
        "f, (ax_box, ax_hist) = plt.subplots(2, sharex=True, gridspec_kw={\"height_ratios\": (.15, .85)})\n",
        " \n",
        "# adicionando um gráfico em cada ax \n",
        "sns.boxplot(data[\"Movie Runtime\"], ax=ax_box)\n",
        "sns.histplot(data=data, x=\"Movie Runtime\", ax=ax_hist)\n",
        " \n",
        "# removendo o nome do eixo x do boxplot\n",
        "ax_box.set(xlabel='')\n",
        "plt.show()"
      ]
    },
    {
      "cell_type": "markdown",
      "metadata": {
        "id": "3x7TeW4tuNJy"
      },
      "source": [
        "### **Variáveis Qualitativas**"
      ]
    },
    {
      "cell_type": "code",
      "execution_count": 25,
      "metadata": {
        "colab": {
          "base_uri": "https://localhost:8080/",
          "height": 35
        },
        "id": "58hr79uAmf89",
        "outputId": "d1d9dc34-9c83-4371-b002-6f993b1d8b18"
      },
      "outputs": [
        {
          "data": {
            "text/plain": [
              "'Warner Bros.'"
            ]
          },
          "execution_count": 25,
          "metadata": {},
          "output_type": "execute_result"
        }
      ],
      "source": [
        "# calculando a moda de variável qualitativa\n",
        "statistics.mode(data['Distributor'])"
      ]
    },
    {
      "cell_type": "markdown",
      "metadata": {
        "id": "9RyrMs9Vqezc"
      },
      "source": [
        "### **Variáveis Quantitativas VS Variáveis Qualitativas**\n",
        "\n",
        "Vamos verificar quanto cada distribuidora arrecadou."
      ]
    },
    {
      "cell_type": "code",
      "execution_count": 26,
      "metadata": {
        "colab": {
          "base_uri": "https://localhost:8080/"
        },
        "id": "gZsR1SIcqoPj",
        "outputId": "23f8d06a-7d4e-46be-c729-146c9f1e89a9"
      },
      "outputs": [
        {
          "data": {
            "text/plain": [
              "Distributor\n",
              "20th Century Studios                   331.503757\n",
              "Artisan Entertainment                  248.639099\n",
              "Columbia Pictures                      196.315661\n",
              "Dimension Films                        174.715016\n",
              "DreamWorks                             495.855995\n",
              "DreamWorks Distribution                342.037644\n",
              "FilmDistrict                           166.094760\n",
              "Focus Features                         207.961405\n",
              "Fox Searchlight Pictures               279.356113\n",
              "IFC Films                              368.744044\n",
              "Lionsgate                              394.658207\n",
              "Metro-Goldwyn-Mayer (MGM)              309.823696\n",
              "Miramax                                228.732351\n",
              "New Line Cinema                        336.492666\n",
              "Newmarket Films                        612.054506\n",
              "Orion Pictures                         278.499134\n",
              "Paramount Pictures                     327.712358\n",
              "Relativity Media                       226.904017\n",
              "Revolution Studios                     180.304510\n",
              "Roadside Attractions                    86.086881\n",
              "STX Entertainment                      155.785284\n",
              "Screen Gems                            149.982026\n",
              "Sony Pictures Classics                 213.525736\n",
              "Sony Pictures Entertainment (SPE)      370.856318\n",
              "Summit Entertainment                   545.831897\n",
              "The Weinstein Company                  303.698065\n",
              "TriStar Pictures                       275.949781\n",
              "Twentieth Century Fox                  415.289694\n",
              "USA Films                              207.515725\n",
              "United Artists                         251.009616\n",
              "United Artists Releasing               203.783845\n",
              "Universal Pictures                     383.215503\n",
              "Walt Disney Studios Motion Pictures    531.432894\n",
              "Warner Bros.                           402.515784\n",
              "Name: World Sales (in $), dtype: float64"
            ]
          },
          "execution_count": 26,
          "metadata": {},
          "output_type": "execute_result"
        }
      ],
      "source": [
        "# quanto cada distribuidora arecadou em média\n",
        "data.groupby(['Distributor'])['World Sales (in $)'].mean()"
      ]
    },
    {
      "cell_type": "code",
      "execution_count": 27,
      "metadata": {
        "colab": {
          "base_uri": "https://localhost:8080/"
        },
        "id": "heY_dTnErHAd",
        "outputId": "b95952ed-0512-4fb5-bafb-c17f30a77750"
      },
      "outputs": [
        {
          "data": {
            "text/plain": [
              "Distributor\n",
              "20th Century Studios                     331.503757\n",
              "Artisan Entertainment                    248.639099\n",
              "Columbia Pictures                       1374.209626\n",
              "Dimension Films                         1223.005113\n",
              "DreamWorks                             10412.975902\n",
              "DreamWorks Distribution                 5814.639953\n",
              "FilmDistrict                             332.189519\n",
              "Focus Features                           415.922809\n",
              "Fox Searchlight Pictures                1117.424454\n",
              "IFC Films                                368.744044\n",
              "Lionsgate                               7498.505934\n",
              "Metro-Goldwyn-Mayer (MGM)               3717.884355\n",
              "Miramax                                 2058.591162\n",
              "New Line Cinema                         7066.345995\n",
              "Newmarket Films                          612.054506\n",
              "Orion Pictures                           835.497402\n",
              "Paramount Pictures                     32443.523480\n",
              "Relativity Media                         226.904017\n",
              "Revolution Studios                      1442.436078\n",
              "Roadside Attractions                      86.086881\n",
              "STX Entertainment                        467.355852\n",
              "Screen Gems                              449.946079\n",
              "Sony Pictures Classics                   213.525736\n",
              "Sony Pictures Entertainment (SPE)      37456.488081\n",
              "Summit Entertainment                    2729.159486\n",
              "The Weinstein Company                   1822.188393\n",
              "TriStar Pictures                        2483.548026\n",
              "Twentieth Century Fox                  48588.894179\n",
              "USA Films                                207.515725\n",
              "United Artists                           502.019233\n",
              "United Artists Releasing                 203.783845\n",
              "Universal Pictures                     45602.644818\n",
              "Walt Disney Studios Motion Pictures    82372.098598\n",
              "Warner Bros.                           63597.493931\n",
              "Name: World Sales (in $), dtype: float64"
            ]
          },
          "execution_count": 27,
          "metadata": {},
          "output_type": "execute_result"
        }
      ],
      "source": [
        "# quanto cada distribuidora arecadou no total\n",
        "data.groupby(['Distributor'])['World Sales (in $)'].sum()"
      ]
    },
    {
      "cell_type": "markdown",
      "metadata": {
        "id": "LxU4ZTGXVWTC"
      },
      "source": [
        "## **Medidas de dispersão**"
      ]
    },
    {
      "cell_type": "markdown",
      "metadata": {
        "id": "qgircEUjvt0e"
      },
      "source": [
        "Vamos verificar as medidas de disperção para o tempo de duração dos filmes."
      ]
    },
    {
      "cell_type": "code",
      "execution_count": 28,
      "metadata": {
        "colab": {
          "base_uri": "https://localhost:8080/"
        },
        "id": "36_7C__KTRK7",
        "outputId": "52458ef7-6756-4f24-afce-720e61b53e0f"
      },
      "outputs": [
        {
          "data": {
            "text/plain": [
              "0.12105443402504765"
            ]
          },
          "execution_count": 28,
          "metadata": {},
          "output_type": "execute_result"
        }
      ],
      "source": [
        "# variância\n",
        "data[\"Movie Runtime\"].var()"
      ]
    },
    {
      "cell_type": "code",
      "execution_count": 29,
      "metadata": {
        "colab": {
          "base_uri": "https://localhost:8080/"
        },
        "id": "ly3xGMX9UGUe",
        "outputId": "8df86f6e-2909-4bd8-8290-794da4c42672"
      },
      "outputs": [
        {
          "data": {
            "text/plain": [
              "0.3479287772304091"
            ]
          },
          "execution_count": 29,
          "metadata": {},
          "output_type": "execute_result"
        }
      ],
      "source": [
        "# desvio padrão\n",
        "data[\"Movie Runtime\"].std()"
      ]
    },
    {
      "cell_type": "code",
      "execution_count": 30,
      "metadata": {
        "colab": {
          "base_uri": "https://localhost:8080/"
        },
        "id": "0PLgGOzps8Da",
        "outputId": "92ac9bb8-993d-46f1-faab-66dae1f15b02"
      },
      "outputs": [
        {
          "data": {
            "text/plain": [
              "0.27727393547590895"
            ]
          },
          "execution_count": 30,
          "metadata": {},
          "output_type": "execute_result"
        }
      ],
      "source": [
        "# desvio médio absoluto\n",
        "data[\"Movie Runtime\"].mad()"
      ]
    },
    {
      "cell_type": "markdown",
      "metadata": {
        "id": "GdMROlixvgxH"
      },
      "source": [
        "Vamos verificar a relação entre o valor arrecadado nacionalmente e internacionalmente."
      ]
    },
    {
      "cell_type": "code",
      "execution_count": 31,
      "metadata": {
        "colab": {
          "base_uri": "https://localhost:8080/",
          "height": 279
        },
        "id": "fv_G5Tt1u4tH",
        "outputId": "b4e721fa-b8c2-4305-f0cd-93bd486967b7"
      },
      "outputs": [
        {
          "data": {
            "image/png": "[encoded data removed]",
            "text/plain": [
              "<Figure size 432x288 with 1 Axes>"
            ]
          },
          "metadata": {
            "needs_background": "light"
          },
          "output_type": "display_data"
        }
      ],
      "source": [
        "sns.scatterplot(data = data, x = 'Domestic Sales (in $)', y ='International Sales (in $)')\n",
        "plt.show()"
      ]
    },
    {
      "cell_type": "code",
      "execution_count": null,
      "metadata": {
        "id": "Mv_qrD_x3wm8"
      },
      "outputs": [],
      "source": []
    }
  ],
  "metadata": {
    "colab": {
      "collapsed_sections": [],
      "name": "Análise de Dados.ipynb",
      "provenance": []
    },
    "kernelspec": {
      "display_name": "Python 3",
      "name": "python3"
    },
    "language_info": {
      "codemirror_mode": {
        "name": "ipython",
        "version": 3
      },
      "file_extension": ".py",
      "mimetype": "text/x-python",
      "name": "python",
      "nbconvert_exporter": "python",
      "pygments_lexer": "ipython3",
      "version": "3.8.5"
    }
  },
  "nbformat": 4,
  "nbformat_minor": 0
}
