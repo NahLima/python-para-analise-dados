{
  "cells": [
    {
      "cell_type": "code",
      "execution_count": 1,
      "metadata": {
        "id": "mV6-zEmBjzRx"
      },
      "outputs": [],
      "source": [
        "import pandas as pd\n",
        "import numpy as np\n",
        "from scipy.stats import binom\n",
        "from scipy.stats import norm\n",
        "from scipy.special import comb\n",
        "import numpy as np\n",
        "import seaborn as sns\n",
        "from matplotlib import pyplot as plt"
      ]
    },
    {
      "cell_type": "markdown",
      "metadata": {
        "id": "BA-Rz_TrjzRz"
      },
      "source": [
        "### Desafio 1: Entendendo o consumidor.\n",
        "-- Dificuldade: Média."
      ]
    },
    {
      "cell_type": "markdown",
      "metadata": {
        "id": "vsgEMxYIjzR0"
      },
      "source": [
        "\n",
        "Suponha que você trabalha em uma empresa de produtos de beleza populares e, com\n",
        "a pandemia, você suspeita que o perfil de seus clientes mudou. O time de marketing,\n",
        "pediu a sua ajuda e gostaria de entender se : \n",
        "\n",
        "1. isso de fato aconteceu \n",
        "\n",
        "2. quais as diferenças do novo perfil de clientes para o antigo, pois assim poderiam personalizar\n",
        "melhor os seus anúncios. Para isso, eles te enviaram a base de dados\n",
        "(desafio_01_consumidor.csv). Como você poderia ajudá-los?\n",
        "Para responder esse desafio:\n",
        "A base de dados: desafio_01_consumidor.csv contém informações de seus clientes\n",
        "(anonimizados) no período pré e pós pandemia. A coluna \"pré-pandemia\" indica se o\n",
        "dado é pré-pandemia ou não, sendo 1, caso positivo ou 0 caso negativo.\n",
        "\n"
      ]
    },
    {
      "cell_type": "markdown",
      "metadata": {
        "id": "_txAaqO_jzR0"
      },
      "source": [
        "1. Entenda a distribuição de variáveis como de idade / renda / regiao /\n",
        "produtos mais comprados antes e depois da pandemia\n",
        "\n",
        "a. Identifique as distribuições\n",
        "\n",
        "b. Plote histogramas / boxplots\n"
      ]
    },
    {
      "cell_type": "code",
      "execution_count": 2,
      "metadata": {
        "id": "YxkR371ujzR1"
      },
      "outputs": [],
      "source": [
        "dados_consumidor = pd.read_csv('desafio-01-consumidor.csv')"
      ]
    },
    {
      "cell_type": "code",
      "execution_count": 3,
      "metadata": {
        "id": "ccDJlNd0jzR1",
        "colab": {
          "base_uri": "https://localhost:8080/",
          "height": 363
        },
        "outputId": "574aab96-7ab5-4134-d98f-67eaf51aeb04"
      },
      "outputs": [
        {
          "output_type": "execute_result",
          "data": {
            "text/html": [
              "\n",
              "  <div id=\"df-919f7512-d164-4d1c-b39a-5fd617fc091e\">\n",
              "    <div class=\"colab-df-container\">\n",
              "      <div>\n",
              "<style scoped>\n",
              "    .dataframe tbody tr th:only-of-type {\n",
              "        vertical-align: middle;\n",
              "    }\n",
              "\n",
              "    .dataframe tbody tr th {\n",
              "        vertical-align: top;\n",
              "    }\n",
              "\n",
              "    .dataframe thead th {\n",
              "        text-align: right;\n",
              "    }\n",
              "</style>\n",
              "<table border=\"1\" class=\"dataframe\">\n",
              "  <thead>\n",
              "    <tr style=\"text-align: right;\">\n",
              "      <th></th>\n",
              "      <th>id_cliente</th>\n",
              "      <th>idade</th>\n",
              "      <th>renda</th>\n",
              "      <th>produto</th>\n",
              "      <th>regiao-BR</th>\n",
              "      <th>pre-pandemia</th>\n",
              "    </tr>\n",
              "  </thead>\n",
              "  <tbody>\n",
              "    <tr>\n",
              "      <th>0</th>\n",
              "      <td>XXXXXXX72</td>\n",
              "      <td>30</td>\n",
              "      <td>7452</td>\n",
              "      <td>batom</td>\n",
              "      <td>Sudeste</td>\n",
              "      <td>1</td>\n",
              "    </tr>\n",
              "    <tr>\n",
              "      <th>1</th>\n",
              "      <td>XXXXXXX15</td>\n",
              "      <td>59</td>\n",
              "      <td>837</td>\n",
              "      <td>desodorante</td>\n",
              "      <td>Nordeste</td>\n",
              "      <td>1</td>\n",
              "    </tr>\n",
              "    <tr>\n",
              "      <th>2</th>\n",
              "      <td>XXXXXXX70</td>\n",
              "      <td>28</td>\n",
              "      <td>3231</td>\n",
              "      <td>sombra</td>\n",
              "      <td>Centro-Oeste</td>\n",
              "      <td>1</td>\n",
              "    </tr>\n",
              "    <tr>\n",
              "      <th>3</th>\n",
              "      <td>XXXXXXX99</td>\n",
              "      <td>27</td>\n",
              "      <td>5409</td>\n",
              "      <td>batom</td>\n",
              "      <td>Sul</td>\n",
              "      <td>1</td>\n",
              "    </tr>\n",
              "    <tr>\n",
              "      <th>4</th>\n",
              "      <td>XXXXXXX98</td>\n",
              "      <td>24</td>\n",
              "      <td>1142</td>\n",
              "      <td>batom</td>\n",
              "      <td>Sudeste</td>\n",
              "      <td>1</td>\n",
              "    </tr>\n",
              "    <tr>\n",
              "      <th>5</th>\n",
              "      <td>XXXXXXX60</td>\n",
              "      <td>29</td>\n",
              "      <td>8055</td>\n",
              "      <td>batom</td>\n",
              "      <td>Nordeste</td>\n",
              "      <td>1</td>\n",
              "    </tr>\n",
              "    <tr>\n",
              "      <th>6</th>\n",
              "      <td>XXXXXXX73</td>\n",
              "      <td>22</td>\n",
              "      <td>9343</td>\n",
              "      <td>batom</td>\n",
              "      <td>Nordeste</td>\n",
              "      <td>1</td>\n",
              "    </tr>\n",
              "    <tr>\n",
              "      <th>7</th>\n",
              "      <td>XXXXXXX31</td>\n",
              "      <td>31</td>\n",
              "      <td>3748</td>\n",
              "      <td>batom</td>\n",
              "      <td>Sudeste</td>\n",
              "      <td>1</td>\n",
              "    </tr>\n",
              "    <tr>\n",
              "      <th>8</th>\n",
              "      <td>XXXXXXX13</td>\n",
              "      <td>34</td>\n",
              "      <td>3118</td>\n",
              "      <td>desodorante</td>\n",
              "      <td>Nordeste</td>\n",
              "      <td>1</td>\n",
              "    </tr>\n",
              "    <tr>\n",
              "      <th>9</th>\n",
              "      <td>XXXXXXX65</td>\n",
              "      <td>47</td>\n",
              "      <td>7404</td>\n",
              "      <td>batom</td>\n",
              "      <td>Sul</td>\n",
              "      <td>1</td>\n",
              "    </tr>\n",
              "  </tbody>\n",
              "</table>\n",
              "</div>\n",
              "      <button class=\"colab-df-convert\" onclick=\"convertToInteractive('df-919f7512-d164-4d1c-b39a-5fd617fc091e')\"\n",
              "              title=\"Convert this dataframe to an interactive table.\"\n",
              "              style=\"display:none;\">\n",
              "        \n",
              "  <svg xmlns=\"http://www.w3.org/2000/svg\" height=\"24px\"viewBox=\"0 0 24 24\"\n",
              "       width=\"24px\">\n",
              "    <path d=\"M0 0h24v24H0V0z\" fill=\"none\"/>\n",
              "    <path d=\"M18.56 5.44l.94 2.06.94-2.06 2.06-.94-2.06-.94-.94-2.06-.94 2.06-2.06.94zm-11 1L8.5 8.5l.94-2.06 2.06-.94-2.06-.94L8.5 2.5l-.94 2.06-2.06.94zm10 10l.94 2.06.94-2.06 2.06-.94-2.06-.94-.94-2.06-.94 2.06-2.06.94z\"/><path d=\"M17.41 7.96l-1.37-1.37c-.4-.4-.92-.59-1.43-.59-.52 0-1.04.2-1.43.59L10.3 9.45l-7.72 7.72c-.78.78-.78 2.05 0 2.83L4 21.41c.39.39.9.59 1.41.59.51 0 1.02-.2 1.41-.59l7.78-7.78 2.81-2.81c.8-.78.8-2.07 0-2.86zM5.41 20L4 18.59l7.72-7.72 1.47 1.35L5.41 20z\"/>\n",
              "  </svg>\n",
              "      </button>\n",
              "      \n",
              "  <style>\n",
              "    .colab-df-container {\n",
              "      display:flex;\n",
              "      flex-wrap:wrap;\n",
              "      gap: 12px;\n",
              "    }\n",
              "\n",
              "    .colab-df-convert {\n",
              "      background-color: #E8F0FE;\n",
              "      border: none;\n",
              "      border-radius: 50%;\n",
              "      cursor: pointer;\n",
              "      display: none;\n",
              "      fill: #1967D2;\n",
              "      height: 32px;\n",
              "      padding: 0 0 0 0;\n",
              "      width: 32px;\n",
              "    }\n",
              "\n",
              "    .colab-df-convert:hover {\n",
              "      background-color: #E2EBFA;\n",
              "      box-shadow: 0px 1px 2px rgba(60, 64, 67, 0.3), 0px 1px 3px 1px rgba(60, 64, 67, 0.15);\n",
              "      fill: #174EA6;\n",
              "    }\n",
              "\n",
              "    [theme=dark] .colab-df-convert {\n",
              "      background-color: #3B4455;\n",
              "      fill: #D2E3FC;\n",
              "    }\n",
              "\n",
              "    [theme=dark] .colab-df-convert:hover {\n",
              "      background-color: #434B5C;\n",
              "      box-shadow: 0px 1px 3px 1px rgba(0, 0, 0, 0.15);\n",
              "      filter: drop-shadow(0px 1px 2px rgba(0, 0, 0, 0.3));\n",
              "      fill: #FFFFFF;\n",
              "    }\n",
              "  </style>\n",
              "\n",
              "      <script>\n",
              "        const buttonEl =\n",
              "          document.querySelector('#df-919f7512-d164-4d1c-b39a-5fd617fc091e button.colab-df-convert');\n",
              "        buttonEl.style.display =\n",
              "          google.colab.kernel.accessAllowed ? 'block' : 'none';\n",
              "\n",
              "        async function convertToInteractive(key) {\n",
              "          const element = document.querySelector('#df-919f7512-d164-4d1c-b39a-5fd617fc091e');\n",
              "          const dataTable =\n",
              "            await google.colab.kernel.invokeFunction('convertToInteractive',\n",
              "                                                     [key], {});\n",
              "          if (!dataTable) return;\n",
              "\n",
              "          const docLinkHtml = 'Like what you see? Visit the ' +\n",
              "            '<a target=\"_blank\" href=https://colab.research.google.com/notebooks/data_table.ipynb>data table notebook</a>'\n",
              "            + ' to learn more about interactive tables.';\n",
              "          element.innerHTML = '';\n",
              "          dataTable['output_type'] = 'display_data';\n",
              "          await google.colab.output.renderOutput(dataTable, element);\n",
              "          const docLink = document.createElement('div');\n",
              "          docLink.innerHTML = docLinkHtml;\n",
              "          element.appendChild(docLink);\n",
              "        }\n",
              "      </script>\n",
              "    </div>\n",
              "  </div>\n",
              "  "
            ],
            "text/plain": [
              "  id_cliente  idade  renda      produto     regiao-BR  pre-pandemia\n",
              "0  XXXXXXX72     30   7452        batom       Sudeste             1\n",
              "1  XXXXXXX15     59    837  desodorante      Nordeste             1\n",
              "2  XXXXXXX70     28   3231       sombra  Centro-Oeste             1\n",
              "3  XXXXXXX99     27   5409        batom           Sul             1\n",
              "4  XXXXXXX98     24   1142        batom       Sudeste             1\n",
              "5  XXXXXXX60     29   8055        batom      Nordeste             1\n",
              "6  XXXXXXX73     22   9343        batom      Nordeste             1\n",
              "7  XXXXXXX31     31   3748        batom       Sudeste             1\n",
              "8  XXXXXXX13     34   3118  desodorante      Nordeste             1\n",
              "9  XXXXXXX65     47   7404        batom           Sul             1"
            ]
          },
          "metadata": {},
          "execution_count": 3
        }
      ],
      "source": [
        "dados_consumidor.head(10)"
      ]
    },
    {
      "cell_type": "code",
      "execution_count": 4,
      "metadata": {
        "id": "exgUgns6jzR2",
        "colab": {
          "base_uri": "https://localhost:8080/"
        },
        "outputId": "46ab0942-4020-4a69-f94e-c778986aba92"
      },
      "outputs": [
        {
          "output_type": "execute_result",
          "data": {
            "text/plain": [
              "(203, 6)"
            ]
          },
          "metadata": {},
          "execution_count": 4
        }
      ],
      "source": [
        "#quantidade de linhas e colunas\n",
        "dados_consumidor.shape\n"
      ]
    },
    {
      "cell_type": "markdown",
      "source": [
        "### Idade dos consumidores"
      ],
      "metadata": {
        "id": "uPw_ziz_1Ntv"
      }
    },
    {
      "cell_type": "code",
      "execution_count": 5,
      "metadata": {
        "id": "55nzHPChjzR2",
        "colab": {
          "base_uri": "https://localhost:8080/"
        },
        "outputId": "caa6e4dc-5d34-4b5f-8a4a-797722dc55a3"
      },
      "outputs": [
        {
          "output_type": "stream",
          "name": "stdout",
          "text": [
            "De 15 até 80 anos\n"
          ]
        }
      ],
      "source": [
        "#idade dos consumidores no geral\n",
        "print('De %s até %s anos' % (dados_consumidor.idade.min(), dados_consumidor.idade.max()))"
      ]
    },
    {
      "cell_type": "code",
      "execution_count": 6,
      "metadata": {
        "id": "vDsaFZ95jzR3",
        "colab": {
          "base_uri": "https://localhost:8080/"
        },
        "outputId": "713e4a6e-c9a8-40a5-a229-51adcc74aabc"
      },
      "outputs": [
        {
          "output_type": "stream",
          "name": "stdout",
          "text": [
            "A idade média dos cliente pré-pandemia é de 40.\n"
          ]
        }
      ],
      "source": [
        "# idade média pré \n",
        "pre_pandemia = dados_consumidor[(dados_consumidor['pre-pandemia'] == 1)]\n",
        "idade_pre = pre_pandemia['idade'].mean()\n",
        "print(f'A idade média dos cliente pré-pandemia é de {round(idade_pre)}.')"
      ]
    },
    {
      "cell_type": "code",
      "execution_count": 7,
      "metadata": {
        "id": "zx7qi0O_jzR4",
        "colab": {
          "base_uri": "https://localhost:8080/"
        },
        "outputId": "4cbf288c-8f38-4a5e-fde9-e642b15dfa2f"
      },
      "outputs": [
        {
          "output_type": "stream",
          "name": "stdout",
          "text": [
            "A idade média dos cliente pós-pandemia é de 40.\n"
          ]
        }
      ],
      "source": [
        "# idade média pós pandemia\n",
        "pos_pandemia = dados_consumidor[(dados_consumidor['pre-pandemia'] == 0)]\n",
        "idade_pos = pre_pandemia['idade'].mean()\n",
        "print(f'A idade média dos cliente pós-pandemia é de {round(idade_pos)}.')"
      ]
    },
    {
      "cell_type": "markdown",
      "source": [
        "### Região que mais comprou "
      ],
      "metadata": {
        "id": "7mJ6TTPj1TYx"
      }
    },
    {
      "cell_type": "code",
      "execution_count": 8,
      "metadata": {
        "id": "pLdBSq8YjzR4",
        "colab": {
          "base_uri": "https://localhost:8080/"
        },
        "outputId": "f3e1e1e0-ef25-48b8-bcf2-a9f8ff9175fa"
      },
      "outputs": [
        {
          "output_type": "execute_result",
          "data": {
            "text/plain": [
              "['Centro-Oeste', 'Nordeste', 'Norte', 'Sudeste', 'Sul']"
            ]
          },
          "metadata": {},
          "execution_count": 8
        }
      ],
      "source": [
        "#regiões\n",
        "labels = sorted(dados_consumidor['regiao-BR'].unique())\n",
        "labels"
      ]
    },
    {
      "cell_type": "code",
      "source": [
        "centro_oeste = dados_consumidor[(dados_consumidor['regiao-BR'] == 'Centro-Oeste')]\n",
        "#centro_oeste['regiao-BR'].count()\n",
        "nordeste = dados_consumidor[(dados_consumidor['regiao-BR'] == 'Nordeste')]\n",
        "norte = dados_consumidor[(dados_consumidor['regiao-BR'] == 'Norte')]\n",
        "sudeste = dados_consumidor[(dados_consumidor['regiao-BR'] == 'Sudeste')]\n",
        "sul = dados_consumidor[(dados_consumidor['regiao-BR'] == 'Sul')]\n",
        "\n",
        "\n",
        "classes = [centro_oeste['regiao-BR'].count(),nordeste['regiao-BR'].count(), norte['regiao-BR'].count(), sudeste['regiao-BR'].count(), sul['regiao-BR'].count()]\n",
        "classes\n",
        "\n"
      ],
      "metadata": {
        "id": "WvbTXYhp3xKM",
        "colab": {
          "base_uri": "https://localhost:8080/"
        },
        "outputId": "605167db-7ecd-4af1-b749-cd7b56fa2769"
      },
      "execution_count": 9,
      "outputs": [
        {
          "output_type": "execute_result",
          "data": {
            "text/plain": [
              "[25, 51, 17, 39, 71]"
            ]
          },
          "metadata": {},
          "execution_count": 9
        }
      ]
    },
    {
      "cell_type": "code",
      "source": [
        "regioes = {'Centro-Oeste': 25, 'Nordeste': 51, 'Norte': 17, 'Sudeste': 39, 'Sul': 71 }\n",
        "\n",
        "dist_frequencia = pd.DataFrame(data = regioes, index = [0])\n",
        "dist_frequencia\n"
      ],
      "metadata": {
        "id": "7Zn2iUhP2II9",
        "colab": {
          "base_uri": "https://localhost:8080/",
          "height": 81
        },
        "outputId": "90b5f91d-4ca5-4411-ec91-27869a7abe36"
      },
      "execution_count": 10,
      "outputs": [
        {
          "output_type": "execute_result",
          "data": {
            "text/html": [
              "\n",
              "  <div id=\"df-fb7452b8-c287-4444-a987-9f7ad11c1ddf\">\n",
              "    <div class=\"colab-df-container\">\n",
              "      <div>\n",
              "<style scoped>\n",
              "    .dataframe tbody tr th:only-of-type {\n",
              "        vertical-align: middle;\n",
              "    }\n",
              "\n",
              "    .dataframe tbody tr th {\n",
              "        vertical-align: top;\n",
              "    }\n",
              "\n",
              "    .dataframe thead th {\n",
              "        text-align: right;\n",
              "    }\n",
              "</style>\n",
              "<table border=\"1\" class=\"dataframe\">\n",
              "  <thead>\n",
              "    <tr style=\"text-align: right;\">\n",
              "      <th></th>\n",
              "      <th>Centro-Oeste</th>\n",
              "      <th>Nordeste</th>\n",
              "      <th>Norte</th>\n",
              "      <th>Sudeste</th>\n",
              "      <th>Sul</th>\n",
              "    </tr>\n",
              "  </thead>\n",
              "  <tbody>\n",
              "    <tr>\n",
              "      <th>0</th>\n",
              "      <td>25</td>\n",
              "      <td>51</td>\n",
              "      <td>17</td>\n",
              "      <td>39</td>\n",
              "      <td>71</td>\n",
              "    </tr>\n",
              "  </tbody>\n",
              "</table>\n",
              "</div>\n",
              "      <button class=\"colab-df-convert\" onclick=\"convertToInteractive('df-fb7452b8-c287-4444-a987-9f7ad11c1ddf')\"\n",
              "              title=\"Convert this dataframe to an interactive table.\"\n",
              "              style=\"display:none;\">\n",
              "        \n",
              "  <svg xmlns=\"http://www.w3.org/2000/svg\" height=\"24px\"viewBox=\"0 0 24 24\"\n",
              "       width=\"24px\">\n",
              "    <path d=\"M0 0h24v24H0V0z\" fill=\"none\"/>\n",
              "    <path d=\"M18.56 5.44l.94 2.06.94-2.06 2.06-.94-2.06-.94-.94-2.06-.94 2.06-2.06.94zm-11 1L8.5 8.5l.94-2.06 2.06-.94-2.06-.94L8.5 2.5l-.94 2.06-2.06.94zm10 10l.94 2.06.94-2.06 2.06-.94-2.06-.94-.94-2.06-.94 2.06-2.06.94z\"/><path d=\"M17.41 7.96l-1.37-1.37c-.4-.4-.92-.59-1.43-.59-.52 0-1.04.2-1.43.59L10.3 9.45l-7.72 7.72c-.78.78-.78 2.05 0 2.83L4 21.41c.39.39.9.59 1.41.59.51 0 1.02-.2 1.41-.59l7.78-7.78 2.81-2.81c.8-.78.8-2.07 0-2.86zM5.41 20L4 18.59l7.72-7.72 1.47 1.35L5.41 20z\"/>\n",
              "  </svg>\n",
              "      </button>\n",
              "      \n",
              "  <style>\n",
              "    .colab-df-container {\n",
              "      display:flex;\n",
              "      flex-wrap:wrap;\n",
              "      gap: 12px;\n",
              "    }\n",
              "\n",
              "    .colab-df-convert {\n",
              "      background-color: #E8F0FE;\n",
              "      border: none;\n",
              "      border-radius: 50%;\n",
              "      cursor: pointer;\n",
              "      display: none;\n",
              "      fill: #1967D2;\n",
              "      height: 32px;\n",
              "      padding: 0 0 0 0;\n",
              "      width: 32px;\n",
              "    }\n",
              "\n",
              "    .colab-df-convert:hover {\n",
              "      background-color: #E2EBFA;\n",
              "      box-shadow: 0px 1px 2px rgba(60, 64, 67, 0.3), 0px 1px 3px 1px rgba(60, 64, 67, 0.15);\n",
              "      fill: #174EA6;\n",
              "    }\n",
              "\n",
              "    [theme=dark] .colab-df-convert {\n",
              "      background-color: #3B4455;\n",
              "      fill: #D2E3FC;\n",
              "    }\n",
              "\n",
              "    [theme=dark] .colab-df-convert:hover {\n",
              "      background-color: #434B5C;\n",
              "      box-shadow: 0px 1px 3px 1px rgba(0, 0, 0, 0.15);\n",
              "      filter: drop-shadow(0px 1px 2px rgba(0, 0, 0, 0.3));\n",
              "      fill: #FFFFFF;\n",
              "    }\n",
              "  </style>\n",
              "\n",
              "      <script>\n",
              "        const buttonEl =\n",
              "          document.querySelector('#df-fb7452b8-c287-4444-a987-9f7ad11c1ddf button.colab-df-convert');\n",
              "        buttonEl.style.display =\n",
              "          google.colab.kernel.accessAllowed ? 'block' : 'none';\n",
              "\n",
              "        async function convertToInteractive(key) {\n",
              "          const element = document.querySelector('#df-fb7452b8-c287-4444-a987-9f7ad11c1ddf');\n",
              "          const dataTable =\n",
              "            await google.colab.kernel.invokeFunction('convertToInteractive',\n",
              "                                                     [key], {});\n",
              "          if (!dataTable) return;\n",
              "\n",
              "          const docLinkHtml = 'Like what you see? Visit the ' +\n",
              "            '<a target=\"_blank\" href=https://colab.research.google.com/notebooks/data_table.ipynb>data table notebook</a>'\n",
              "            + ' to learn more about interactive tables.';\n",
              "          element.innerHTML = '';\n",
              "          dataTable['output_type'] = 'display_data';\n",
              "          await google.colab.output.renderOutput(dataTable, element);\n",
              "          const docLink = document.createElement('div');\n",
              "          docLink.innerHTML = docLinkHtml;\n",
              "          element.appendChild(docLink);\n",
              "        }\n",
              "      </script>\n",
              "    </div>\n",
              "  </div>\n",
              "  "
            ],
            "text/plain": [
              "   Centro-Oeste  Nordeste  Norte  Sudeste  Sul\n",
              "0            25        51     17       39   71"
            ]
          },
          "metadata": {},
          "execution_count": 10
        }
      ]
    },
    {
      "cell_type": "code",
      "source": [
        "ax = sns.distplot(dist_frequencia)\n",
        "ax.figure.set_size_inches(6, 3)\n",
        "ax.set_title('Distribuição de Frequências - Região', fontsize=18)\n",
        "ax.set_xlabel('contagem', fontsize=14)\n",
        "ax"
      ],
      "metadata": {
        "id": "Y0HhttX-_7zk",
        "colab": {
          "base_uri": "https://localhost:8080/",
          "height": 321
        },
        "outputId": "11cd5dde-d36b-4abb-b33a-3569f0e7bcca"
      },
      "execution_count": 11,
      "outputs": [
        {
          "output_type": "stream",
          "name": "stderr",
          "text": [
            "/usr/local/lib/python3.7/dist-packages/seaborn/distributions.py:2619: FutureWarning: `distplot` is a deprecated function and will be removed in a future version. Please adapt your code to use either `displot` (a figure-level function with similar flexibility) or `histplot` (an axes-level function for histograms).\n",
            "  warnings.warn(msg, FutureWarning)\n"
          ]
        },
        {
          "output_type": "execute_result",
          "data": {
            "text/plain": [
              "<matplotlib.axes._subplots.AxesSubplot at 0x7efc80f8d8d0>"
            ]
          },
          "metadata": {},
          "execution_count": 11
        },
        {
          "output_type": "display_data",
          "data": {
            "image/png": "[encoded data removed]",
            "text/plain": [
              "<Figure size 432x216 with 1 Axes>"
            ]
          },
          "metadata": {
            "needs_background": "light"
          }
        }
      ]
    },
    {
      "cell_type": "markdown",
      "metadata": {
        "id": "2B6vPKc8jzR5"
      },
      "source": [
        "### Analisando a renda dos consumidores\n"
      ]
    },
    {
      "cell_type": "code",
      "execution_count": 12,
      "metadata": {
        "id": "luKZKeamjzR6",
        "colab": {
          "base_uri": "https://localhost:8080/"
        },
        "outputId": "e22171a2-8e14-46ad-e683-6cac300fb4b2"
      },
      "outputs": [
        {
          "output_type": "execute_result",
          "data": {
            "text/plain": [
              "110"
            ]
          },
          "metadata": {},
          "execution_count": 12
        }
      ],
      "source": [
        "# menor salário\n",
        "dados_consumidor.renda.min()"
      ]
    },
    {
      "cell_type": "code",
      "execution_count": 13,
      "metadata": {
        "id": "HnhdFlDCjzR6",
        "colab": {
          "base_uri": "https://localhost:8080/"
        },
        "outputId": "cf53add2-2201-47ac-a06d-8c2d71b8391b"
      },
      "outputs": [
        {
          "output_type": "execute_result",
          "data": {
            "text/plain": [
              "30000"
            ]
          },
          "metadata": {},
          "execution_count": 13
        }
      ],
      "source": [
        "# maior salario\n",
        "dados_consumidor.renda.max()"
      ]
    },
    {
      "cell_type": "code",
      "source": [
        "# salario minimo em 2021 = R$ 1.212\n",
        "\n",
        "classes = [ dados_consumidor.renda.min(),\n",
        "           2 * 1212,\n",
        "           5 * 1212,\n",
        "           10 * 1212,\n",
        "           15 * 1212,\n",
        "           20 * 1212,\n",
        "           dados_consumidor.renda.max()\n",
        "           ]\n",
        "classes"
      ],
      "metadata": {
        "id": "m-SwuTF4sfVX",
        "colab": {
          "base_uri": "https://localhost:8080/"
        },
        "outputId": "e218c34c-3b3e-4b42-8bce-a99ea9dfc776"
      },
      "execution_count": 14,
      "outputs": [
        {
          "output_type": "execute_result",
          "data": {
            "text/plain": [
              "[110, 2424, 6060, 12120, 18180, 24240, 30000]"
            ]
          },
          "metadata": {},
          "execution_count": 14
        }
      ]
    },
    {
      "cell_type": "code",
      "execution_count": 15,
      "metadata": {
        "id": "2_rdlTS9jzR7"
      },
      "outputs": [],
      "source": [
        "# categorias \n",
        "\n",
        "labels = ['F', 'E', 'D', 'C', 'B', 'A']"
      ]
    },
    {
      "cell_type": "code",
      "execution_count": 16,
      "metadata": {
        "id": "pA3GlhqejzR7",
        "colab": {
          "base_uri": "https://localhost:8080/",
          "height": 238
        },
        "outputId": "69927d9e-7dab-4118-83d1-77a6652486e7"
      },
      "outputs": [
        {
          "output_type": "execute_result",
          "data": {
            "text/html": [
              "\n",
              "  <div id=\"df-788b7fb7-87c3-4a60-9de4-0b494e27f87c\">\n",
              "    <div class=\"colab-df-container\">\n",
              "      <div>\n",
              "<style scoped>\n",
              "    .dataframe tbody tr th:only-of-type {\n",
              "        vertical-align: middle;\n",
              "    }\n",
              "\n",
              "    .dataframe tbody tr th {\n",
              "        vertical-align: top;\n",
              "    }\n",
              "\n",
              "    .dataframe thead th {\n",
              "        text-align: right;\n",
              "    }\n",
              "</style>\n",
              "<table border=\"1\" class=\"dataframe\">\n",
              "  <thead>\n",
              "    <tr style=\"text-align: right;\">\n",
              "      <th></th>\n",
              "      <th>Frequência</th>\n",
              "      <th>Porcentagem (%)</th>\n",
              "    </tr>\n",
              "  </thead>\n",
              "  <tbody>\n",
              "    <tr>\n",
              "      <th>A</th>\n",
              "      <td>7</td>\n",
              "      <td>3.45</td>\n",
              "    </tr>\n",
              "    <tr>\n",
              "      <th>B</th>\n",
              "      <td>22</td>\n",
              "      <td>10.84</td>\n",
              "    </tr>\n",
              "    <tr>\n",
              "      <th>C</th>\n",
              "      <td>60</td>\n",
              "      <td>29.56</td>\n",
              "    </tr>\n",
              "    <tr>\n",
              "      <th>D</th>\n",
              "      <td>69</td>\n",
              "      <td>33.99</td>\n",
              "    </tr>\n",
              "    <tr>\n",
              "      <th>E</th>\n",
              "      <td>34</td>\n",
              "      <td>16.75</td>\n",
              "    </tr>\n",
              "    <tr>\n",
              "      <th>F</th>\n",
              "      <td>11</td>\n",
              "      <td>5.42</td>\n",
              "    </tr>\n",
              "  </tbody>\n",
              "</table>\n",
              "</div>\n",
              "      <button class=\"colab-df-convert\" onclick=\"convertToInteractive('df-788b7fb7-87c3-4a60-9de4-0b494e27f87c')\"\n",
              "              title=\"Convert this dataframe to an interactive table.\"\n",
              "              style=\"display:none;\">\n",
              "        \n",
              "  <svg xmlns=\"http://www.w3.org/2000/svg\" height=\"24px\"viewBox=\"0 0 24 24\"\n",
              "       width=\"24px\">\n",
              "    <path d=\"M0 0h24v24H0V0z\" fill=\"none\"/>\n",
              "    <path d=\"M18.56 5.44l.94 2.06.94-2.06 2.06-.94-2.06-.94-.94-2.06-.94 2.06-2.06.94zm-11 1L8.5 8.5l.94-2.06 2.06-.94-2.06-.94L8.5 2.5l-.94 2.06-2.06.94zm10 10l.94 2.06.94-2.06 2.06-.94-2.06-.94-.94-2.06-.94 2.06-2.06.94z\"/><path d=\"M17.41 7.96l-1.37-1.37c-.4-.4-.92-.59-1.43-.59-.52 0-1.04.2-1.43.59L10.3 9.45l-7.72 7.72c-.78.78-.78 2.05 0 2.83L4 21.41c.39.39.9.59 1.41.59.51 0 1.02-.2 1.41-.59l7.78-7.78 2.81-2.81c.8-.78.8-2.07 0-2.86zM5.41 20L4 18.59l7.72-7.72 1.47 1.35L5.41 20z\"/>\n",
              "  </svg>\n",
              "      </button>\n",
              "      \n",
              "  <style>\n",
              "    .colab-df-container {\n",
              "      display:flex;\n",
              "      flex-wrap:wrap;\n",
              "      gap: 12px;\n",
              "    }\n",
              "\n",
              "    .colab-df-convert {\n",
              "      background-color: #E8F0FE;\n",
              "      border: none;\n",
              "      border-radius: 50%;\n",
              "      cursor: pointer;\n",
              "      display: none;\n",
              "      fill: #1967D2;\n",
              "      height: 32px;\n",
              "      padding: 0 0 0 0;\n",
              "      width: 32px;\n",
              "    }\n",
              "\n",
              "    .colab-df-convert:hover {\n",
              "      background-color: #E2EBFA;\n",
              "      box-shadow: 0px 1px 2px rgba(60, 64, 67, 0.3), 0px 1px 3px 1px rgba(60, 64, 67, 0.15);\n",
              "      fill: #174EA6;\n",
              "    }\n",
              "\n",
              "    [theme=dark] .colab-df-convert {\n",
              "      background-color: #3B4455;\n",
              "      fill: #D2E3FC;\n",
              "    }\n",
              "\n",
              "    [theme=dark] .colab-df-convert:hover {\n",
              "      background-color: #434B5C;\n",
              "      box-shadow: 0px 1px 3px 1px rgba(0, 0, 0, 0.15);\n",
              "      filter: drop-shadow(0px 1px 2px rgba(0, 0, 0, 0.3));\n",
              "      fill: #FFFFFF;\n",
              "    }\n",
              "  </style>\n",
              "\n",
              "      <script>\n",
              "        const buttonEl =\n",
              "          document.querySelector('#df-788b7fb7-87c3-4a60-9de4-0b494e27f87c button.colab-df-convert');\n",
              "        buttonEl.style.display =\n",
              "          google.colab.kernel.accessAllowed ? 'block' : 'none';\n",
              "\n",
              "        async function convertToInteractive(key) {\n",
              "          const element = document.querySelector('#df-788b7fb7-87c3-4a60-9de4-0b494e27f87c');\n",
              "          const dataTable =\n",
              "            await google.colab.kernel.invokeFunction('convertToInteractive',\n",
              "                                                     [key], {});\n",
              "          if (!dataTable) return;\n",
              "\n",
              "          const docLinkHtml = 'Like what you see? Visit the ' +\n",
              "            '<a target=\"_blank\" href=https://colab.research.google.com/notebooks/data_table.ipynb>data table notebook</a>'\n",
              "            + ' to learn more about interactive tables.';\n",
              "          element.innerHTML = '';\n",
              "          dataTable['output_type'] = 'display_data';\n",
              "          await google.colab.output.renderOutput(dataTable, element);\n",
              "          const docLink = document.createElement('div');\n",
              "          docLink.innerHTML = docLinkHtml;\n",
              "          element.appendChild(docLink);\n",
              "        }\n",
              "      </script>\n",
              "    </div>\n",
              "  </div>\n",
              "  "
            ],
            "text/plain": [
              "   Frequência  Porcentagem (%)\n",
              "A           7             3.45\n",
              "B          22            10.84\n",
              "C          60            29.56\n",
              "D          69            33.99\n",
              "E          34            16.75\n",
              "F          11             5.42"
            ]
          },
          "metadata": {},
          "execution_count": 16
        }
      ],
      "source": [
        "frequencia = pd.value_counts(\n",
        "    pd.cut(x = dados_consumidor.renda,\n",
        "               bins = classes,\n",
        "               labels = labels,\n",
        "               include_lowest = True)\n",
        ")\n",
        "\n",
        "percentual = pd.value_counts(\n",
        "    pd.cut(x = dados_consumidor.renda,\n",
        "               bins = classes,\n",
        "               labels = labels,\n",
        "               include_lowest = True),\n",
        "    normalize = True\n",
        ") * 100\n",
        "\n",
        "\n",
        "#renomeando as colunas\n",
        "dist_freq_quantitativas_personalizadas = pd.DataFrame(\n",
        "    {'Frequência': frequencia, 'Porcentagem (%)': round(percentual, 2)}\n",
        ")\n",
        "# ordenando as \"categorias\"\n",
        "dist_freq_quantitativas_personalizadas.sort_index(ascending = False)"
      ]
    },
    {
      "cell_type": "code",
      "execution_count": 17,
      "metadata": {
        "id": "1Y9kHnc6jzR8",
        "colab": {
          "base_uri": "https://localhost:8080/",
          "height": 321
        },
        "outputId": "156bd2ae-d043-4e0b-fa63-96771e98d617"
      },
      "outputs": [
        {
          "output_type": "stream",
          "name": "stderr",
          "text": [
            "/usr/local/lib/python3.7/dist-packages/seaborn/distributions.py:2619: FutureWarning: `distplot` is a deprecated function and will be removed in a future version. Please adapt your code to use either `displot` (a figure-level function with similar flexibility) or `histplot` (an axes-level function for histograms).\n",
            "  warnings.warn(msg, FutureWarning)\n"
          ]
        },
        {
          "output_type": "execute_result",
          "data": {
            "text/plain": [
              "<matplotlib.axes._subplots.AxesSubplot at 0x7efc7ee513d0>"
            ]
          },
          "metadata": {},
          "execution_count": 17
        },
        {
          "output_type": "display_data",
          "data": {
            "image/png": "[encoded data removed]",
            "text/plain": [
              "<Figure size 432x216 with 1 Axes>"
            ]
          },
          "metadata": {
            "needs_background": "light"
          }
        }
      ],
      "source": [
        "ax = sns.distplot(dados_consumidor.renda, kde = True)\n",
        "\n",
        "ax.figure.set_size_inches(6, 3)\n",
        "ax.set_title('Distribuição de Frequências - Renda', fontsize=18)\n",
        "ax.set_xlabel('R$', fontsize=14)\n",
        "ax\n"
      ]
    },
    {
      "cell_type": "code",
      "source": [
        "renda_pos_pandemia = dados_consumidor[(dados_consumidor['pre-pandemia'] == 0)]\n",
        "\n",
        "ax = sns.distplot(renda_pos_pandemia.renda, kde = True)\n",
        "\n",
        "ax.figure.set_size_inches(6, 3)\n",
        "ax.set_title('Distribuição de Frequências - Renda', fontsize=18)\n",
        "ax.set_xlabel('R$', fontsize=14)\n",
        "ax"
      ],
      "metadata": {
        "id": "CUhi723awrtO",
        "colab": {
          "base_uri": "https://localhost:8080/",
          "height": 321
        },
        "outputId": "c6fd8c5f-111d-4d60-da01-fa1df571d2c8"
      },
      "execution_count": 18,
      "outputs": [
        {
          "output_type": "stream",
          "name": "stderr",
          "text": [
            "/usr/local/lib/python3.7/dist-packages/seaborn/distributions.py:2619: FutureWarning: `distplot` is a deprecated function and will be removed in a future version. Please adapt your code to use either `displot` (a figure-level function with similar flexibility) or `histplot` (an axes-level function for histograms).\n",
            "  warnings.warn(msg, FutureWarning)\n"
          ]
        },
        {
          "output_type": "execute_result",
          "data": {
            "text/plain": [
              "<matplotlib.axes._subplots.AxesSubplot at 0x7efc7e94fc90>"
            ]
          },
          "metadata": {},
          "execution_count": 18
        },
        {
          "output_type": "display_data",
          "data": {
            "image/png": "[encoded data removed]",
            "text/plain": [
              "<Figure size 432x216 with 1 Axes>"
            ]
          },
          "metadata": {
            "needs_background": "light"
          }
        }
      ]
    },
    {
      "cell_type": "code",
      "source": [
        "renda_pre_pandemia = dados_consumidor[(dados_consumidor['pre-pandemia'] == 1)]\n",
        "\n",
        "ax = sns.distplot(renda_pre_pandemia.renda, kde = True)\n",
        "\n",
        "ax.figure.set_size_inches(6, 3)\n",
        "ax.set_title('Distribuição de Frequências - Renda', fontsize=18)\n",
        "ax.set_xlabel('R$', fontsize=14)\n",
        "ax\n",
        "\n",
        "\n"
      ],
      "metadata": {
        "id": "jl01TimXxC1V",
        "colab": {
          "base_uri": "https://localhost:8080/",
          "height": 321
        },
        "outputId": "7a377d62-4288-451a-d001-f25ca9a26f22"
      },
      "execution_count": 19,
      "outputs": [
        {
          "output_type": "stream",
          "name": "stderr",
          "text": [
            "/usr/local/lib/python3.7/dist-packages/seaborn/distributions.py:2619: FutureWarning: `distplot` is a deprecated function and will be removed in a future version. Please adapt your code to use either `displot` (a figure-level function with similar flexibility) or `histplot` (an axes-level function for histograms).\n",
            "  warnings.warn(msg, FutureWarning)\n"
          ]
        },
        {
          "output_type": "execute_result",
          "data": {
            "text/plain": [
              "<matplotlib.axes._subplots.AxesSubplot at 0x7efc7e86a450>"
            ]
          },
          "metadata": {},
          "execution_count": 19
        },
        {
          "output_type": "display_data",
          "data": {
            "image/png": "[encoded data removed]",
            "text/plain": [
              "<Figure size 432x216 with 1 Axes>"
            ]
          },
          "metadata": {
            "needs_background": "light"
          }
        }
      ]
    },
    {
      "cell_type": "markdown",
      "metadata": {
        "id": "kfnNlCeQjzR8"
      },
      "source": [
        "### Distribuição produtos mais vendidos "
      ]
    },
    {
      "cell_type": "code",
      "source": [
        "#produtos que foram vendidos\n",
        "qualitativaNominal2 = sorted(dados_consumidor['produto'].unique())\n",
        "qualitativaNominal2"
      ],
      "metadata": {
        "id": "QmImWPXa16Eh",
        "colab": {
          "base_uri": "https://localhost:8080/"
        },
        "outputId": "0af42ac2-2905-4b9d-ce5b-e39c73e94159"
      },
      "execution_count": 20,
      "outputs": [
        {
          "output_type": "execute_result",
          "data": {
            "text/plain": [
              "['antissinais', 'base', 'batom', 'desodorante', 'perfume', 'sombra']"
            ]
          },
          "metadata": {},
          "execution_count": 20
        }
      ]
    },
    {
      "cell_type": "code",
      "source": [
        "# totais dos produtos mais comprados -- visão geral\n",
        "\n",
        "frequencia = dados_consumidor['produto'].value_counts() # contagem\n",
        "percentual = dados_consumidor['produto'].value_counts(normalize = True) * 100 # percentual\n",
        "\n",
        "dist_freq_qualitativas = pd.DataFrame({'Frequencia':frequencia,'Porcentagem (%)':round(percentual,2)})\n",
        "dist_freq_qualitativas"
      ],
      "metadata": {
        "id": "RNzmCFhk1o0g",
        "colab": {
          "base_uri": "https://localhost:8080/",
          "height": 238
        },
        "outputId": "709c267d-7e00-4fe8-9031-17f35fef210c"
      },
      "execution_count": 21,
      "outputs": [
        {
          "output_type": "execute_result",
          "data": {
            "text/html": [
              "\n",
              "  <div id=\"df-695e2f78-cdbc-43fd-8e96-8cb77a7a6473\">\n",
              "    <div class=\"colab-df-container\">\n",
              "      <div>\n",
              "<style scoped>\n",
              "    .dataframe tbody tr th:only-of-type {\n",
              "        vertical-align: middle;\n",
              "    }\n",
              "\n",
              "    .dataframe tbody tr th {\n",
              "        vertical-align: top;\n",
              "    }\n",
              "\n",
              "    .dataframe thead th {\n",
              "        text-align: right;\n",
              "    }\n",
              "</style>\n",
              "<table border=\"1\" class=\"dataframe\">\n",
              "  <thead>\n",
              "    <tr style=\"text-align: right;\">\n",
              "      <th></th>\n",
              "      <th>Frequencia</th>\n",
              "      <th>Porcentagem (%)</th>\n",
              "    </tr>\n",
              "  </thead>\n",
              "  <tbody>\n",
              "    <tr>\n",
              "      <th>batom</th>\n",
              "      <td>76</td>\n",
              "      <td>37.44</td>\n",
              "    </tr>\n",
              "    <tr>\n",
              "      <th>desodorante</th>\n",
              "      <td>66</td>\n",
              "      <td>32.51</td>\n",
              "    </tr>\n",
              "    <tr>\n",
              "      <th>antissinais</th>\n",
              "      <td>29</td>\n",
              "      <td>14.29</td>\n",
              "    </tr>\n",
              "    <tr>\n",
              "      <th>sombra</th>\n",
              "      <td>13</td>\n",
              "      <td>6.40</td>\n",
              "    </tr>\n",
              "    <tr>\n",
              "      <th>perfume</th>\n",
              "      <td>12</td>\n",
              "      <td>5.91</td>\n",
              "    </tr>\n",
              "    <tr>\n",
              "      <th>base</th>\n",
              "      <td>7</td>\n",
              "      <td>3.45</td>\n",
              "    </tr>\n",
              "  </tbody>\n",
              "</table>\n",
              "</div>\n",
              "      <button class=\"colab-df-convert\" onclick=\"convertToInteractive('df-695e2f78-cdbc-43fd-8e96-8cb77a7a6473')\"\n",
              "              title=\"Convert this dataframe to an interactive table.\"\n",
              "              style=\"display:none;\">\n",
              "        \n",
              "  <svg xmlns=\"http://www.w3.org/2000/svg\" height=\"24px\"viewBox=\"0 0 24 24\"\n",
              "       width=\"24px\">\n",
              "    <path d=\"M0 0h24v24H0V0z\" fill=\"none\"/>\n",
              "    <path d=\"M18.56 5.44l.94 2.06.94-2.06 2.06-.94-2.06-.94-.94-2.06-.94 2.06-2.06.94zm-11 1L8.5 8.5l.94-2.06 2.06-.94-2.06-.94L8.5 2.5l-.94 2.06-2.06.94zm10 10l.94 2.06.94-2.06 2.06-.94-2.06-.94-.94-2.06-.94 2.06-2.06.94z\"/><path d=\"M17.41 7.96l-1.37-1.37c-.4-.4-.92-.59-1.43-.59-.52 0-1.04.2-1.43.59L10.3 9.45l-7.72 7.72c-.78.78-.78 2.05 0 2.83L4 21.41c.39.39.9.59 1.41.59.51 0 1.02-.2 1.41-.59l7.78-7.78 2.81-2.81c.8-.78.8-2.07 0-2.86zM5.41 20L4 18.59l7.72-7.72 1.47 1.35L5.41 20z\"/>\n",
              "  </svg>\n",
              "      </button>\n",
              "      \n",
              "  <style>\n",
              "    .colab-df-container {\n",
              "      display:flex;\n",
              "      flex-wrap:wrap;\n",
              "      gap: 12px;\n",
              "    }\n",
              "\n",
              "    .colab-df-convert {\n",
              "      background-color: #E8F0FE;\n",
              "      border: none;\n",
              "      border-radius: 50%;\n",
              "      cursor: pointer;\n",
              "      display: none;\n",
              "      fill: #1967D2;\n",
              "      height: 32px;\n",
              "      padding: 0 0 0 0;\n",
              "      width: 32px;\n",
              "    }\n",
              "\n",
              "    .colab-df-convert:hover {\n",
              "      background-color: #E2EBFA;\n",
              "      box-shadow: 0px 1px 2px rgba(60, 64, 67, 0.3), 0px 1px 3px 1px rgba(60, 64, 67, 0.15);\n",
              "      fill: #174EA6;\n",
              "    }\n",
              "\n",
              "    [theme=dark] .colab-df-convert {\n",
              "      background-color: #3B4455;\n",
              "      fill: #D2E3FC;\n",
              "    }\n",
              "\n",
              "    [theme=dark] .colab-df-convert:hover {\n",
              "      background-color: #434B5C;\n",
              "      box-shadow: 0px 1px 3px 1px rgba(0, 0, 0, 0.15);\n",
              "      filter: drop-shadow(0px 1px 2px rgba(0, 0, 0, 0.3));\n",
              "      fill: #FFFFFF;\n",
              "    }\n",
              "  </style>\n",
              "\n",
              "      <script>\n",
              "        const buttonEl =\n",
              "          document.querySelector('#df-695e2f78-cdbc-43fd-8e96-8cb77a7a6473 button.colab-df-convert');\n",
              "        buttonEl.style.display =\n",
              "          google.colab.kernel.accessAllowed ? 'block' : 'none';\n",
              "\n",
              "        async function convertToInteractive(key) {\n",
              "          const element = document.querySelector('#df-695e2f78-cdbc-43fd-8e96-8cb77a7a6473');\n",
              "          const dataTable =\n",
              "            await google.colab.kernel.invokeFunction('convertToInteractive',\n",
              "                                                     [key], {});\n",
              "          if (!dataTable) return;\n",
              "\n",
              "          const docLinkHtml = 'Like what you see? Visit the ' +\n",
              "            '<a target=\"_blank\" href=https://colab.research.google.com/notebooks/data_table.ipynb>data table notebook</a>'\n",
              "            + ' to learn more about interactive tables.';\n",
              "          element.innerHTML = '';\n",
              "          dataTable['output_type'] = 'display_data';\n",
              "          await google.colab.output.renderOutput(dataTable, element);\n",
              "          const docLink = document.createElement('div');\n",
              "          docLink.innerHTML = docLinkHtml;\n",
              "          element.appendChild(docLink);\n",
              "        }\n",
              "      </script>\n",
              "    </div>\n",
              "  </div>\n",
              "  "
            ],
            "text/plain": [
              "             Frequencia  Porcentagem (%)\n",
              "batom                76            37.44\n",
              "desodorante          66            32.51\n",
              "antissinais          29            14.29\n",
              "sombra               13             6.40\n",
              "perfume              12             5.91\n",
              "base                  7             3.45"
            ]
          },
          "metadata": {},
          "execution_count": 21
        }
      ]
    },
    {
      "cell_type": "code",
      "execution_count": 22,
      "metadata": {
        "id": "dZF_EWWwjzR_",
        "colab": {
          "base_uri": "https://localhost:8080/",
          "height": 269
        },
        "outputId": "5aaa7cb7-5888-4f4d-a978-301174826b82"
      },
      "outputs": [
        {
          "output_type": "execute_result",
          "data": {
            "text/html": [
              "\n",
              "  <div id=\"df-10e2d506-4936-43a5-96bd-5ea6054407a1\">\n",
              "    <div class=\"colab-df-container\">\n",
              "      <div>\n",
              "<style scoped>\n",
              "    .dataframe tbody tr th:only-of-type {\n",
              "        vertical-align: middle;\n",
              "    }\n",
              "\n",
              "    .dataframe tbody tr th {\n",
              "        vertical-align: top;\n",
              "    }\n",
              "\n",
              "    .dataframe thead th {\n",
              "        text-align: right;\n",
              "    }\n",
              "</style>\n",
              "<table border=\"1\" class=\"dataframe\">\n",
              "  <thead>\n",
              "    <tr style=\"text-align: right;\">\n",
              "      <th>Categoria</th>\n",
              "      <th>Pós-Pandemia</th>\n",
              "      <th>Pré-Pandemia</th>\n",
              "    </tr>\n",
              "    <tr>\n",
              "      <th>Produtos</th>\n",
              "      <th></th>\n",
              "      <th></th>\n",
              "    </tr>\n",
              "  </thead>\n",
              "  <tbody>\n",
              "    <tr>\n",
              "      <th>antissinais</th>\n",
              "      <td>20</td>\n",
              "      <td>9</td>\n",
              "    </tr>\n",
              "    <tr>\n",
              "      <th>base</th>\n",
              "      <td>4</td>\n",
              "      <td>3</td>\n",
              "    </tr>\n",
              "    <tr>\n",
              "      <th>batom</th>\n",
              "      <td>15</td>\n",
              "      <td>61</td>\n",
              "    </tr>\n",
              "    <tr>\n",
              "      <th>desodorante</th>\n",
              "      <td>46</td>\n",
              "      <td>20</td>\n",
              "    </tr>\n",
              "    <tr>\n",
              "      <th>perfume</th>\n",
              "      <td>8</td>\n",
              "      <td>4</td>\n",
              "    </tr>\n",
              "    <tr>\n",
              "      <th>sombra</th>\n",
              "      <td>9</td>\n",
              "      <td>4</td>\n",
              "    </tr>\n",
              "  </tbody>\n",
              "</table>\n",
              "</div>\n",
              "      <button class=\"colab-df-convert\" onclick=\"convertToInteractive('df-10e2d506-4936-43a5-96bd-5ea6054407a1')\"\n",
              "              title=\"Convert this dataframe to an interactive table.\"\n",
              "              style=\"display:none;\">\n",
              "        \n",
              "  <svg xmlns=\"http://www.w3.org/2000/svg\" height=\"24px\"viewBox=\"0 0 24 24\"\n",
              "       width=\"24px\">\n",
              "    <path d=\"M0 0h24v24H0V0z\" fill=\"none\"/>\n",
              "    <path d=\"M18.56 5.44l.94 2.06.94-2.06 2.06-.94-2.06-.94-.94-2.06-.94 2.06-2.06.94zm-11 1L8.5 8.5l.94-2.06 2.06-.94-2.06-.94L8.5 2.5l-.94 2.06-2.06.94zm10 10l.94 2.06.94-2.06 2.06-.94-2.06-.94-.94-2.06-.94 2.06-2.06.94z\"/><path d=\"M17.41 7.96l-1.37-1.37c-.4-.4-.92-.59-1.43-.59-.52 0-1.04.2-1.43.59L10.3 9.45l-7.72 7.72c-.78.78-.78 2.05 0 2.83L4 21.41c.39.39.9.59 1.41.59.51 0 1.02-.2 1.41-.59l7.78-7.78 2.81-2.81c.8-.78.8-2.07 0-2.86zM5.41 20L4 18.59l7.72-7.72 1.47 1.35L5.41 20z\"/>\n",
              "  </svg>\n",
              "      </button>\n",
              "      \n",
              "  <style>\n",
              "    .colab-df-container {\n",
              "      display:flex;\n",
              "      flex-wrap:wrap;\n",
              "      gap: 12px;\n",
              "    }\n",
              "\n",
              "    .colab-df-convert {\n",
              "      background-color: #E8F0FE;\n",
              "      border: none;\n",
              "      border-radius: 50%;\n",
              "      cursor: pointer;\n",
              "      display: none;\n",
              "      fill: #1967D2;\n",
              "      height: 32px;\n",
              "      padding: 0 0 0 0;\n",
              "      width: 32px;\n",
              "    }\n",
              "\n",
              "    .colab-df-convert:hover {\n",
              "      background-color: #E2EBFA;\n",
              "      box-shadow: 0px 1px 2px rgba(60, 64, 67, 0.3), 0px 1px 3px 1px rgba(60, 64, 67, 0.15);\n",
              "      fill: #174EA6;\n",
              "    }\n",
              "\n",
              "    [theme=dark] .colab-df-convert {\n",
              "      background-color: #3B4455;\n",
              "      fill: #D2E3FC;\n",
              "    }\n",
              "\n",
              "    [theme=dark] .colab-df-convert:hover {\n",
              "      background-color: #434B5C;\n",
              "      box-shadow: 0px 1px 3px 1px rgba(0, 0, 0, 0.15);\n",
              "      filter: drop-shadow(0px 1px 2px rgba(0, 0, 0, 0.3));\n",
              "      fill: #FFFFFF;\n",
              "    }\n",
              "  </style>\n",
              "\n",
              "      <script>\n",
              "        const buttonEl =\n",
              "          document.querySelector('#df-10e2d506-4936-43a5-96bd-5ea6054407a1 button.colab-df-convert');\n",
              "        buttonEl.style.display =\n",
              "          google.colab.kernel.accessAllowed ? 'block' : 'none';\n",
              "\n",
              "        async function convertToInteractive(key) {\n",
              "          const element = document.querySelector('#df-10e2d506-4936-43a5-96bd-5ea6054407a1');\n",
              "          const dataTable =\n",
              "            await google.colab.kernel.invokeFunction('convertToInteractive',\n",
              "                                                     [key], {});\n",
              "          if (!dataTable) return;\n",
              "\n",
              "          const docLinkHtml = 'Like what you see? Visit the ' +\n",
              "            '<a target=\"_blank\" href=https://colab.research.google.com/notebooks/data_table.ipynb>data table notebook</a>'\n",
              "            + ' to learn more about interactive tables.';\n",
              "          element.innerHTML = '';\n",
              "          dataTable['output_type'] = 'display_data';\n",
              "          await google.colab.output.renderOutput(dataTable, element);\n",
              "          const docLink = document.createElement('div');\n",
              "          docLink.innerHTML = docLinkHtml;\n",
              "          element.appendChild(docLink);\n",
              "        }\n",
              "      </script>\n",
              "    </div>\n",
              "  </div>\n",
              "  "
            ],
            "text/plain": [
              "Categoria    Pós-Pandemia  Pré-Pandemia\n",
              "Produtos                               \n",
              "antissinais            20             9\n",
              "base                    4             3\n",
              "batom                  15            61\n",
              "desodorante            46            20\n",
              "perfume                 8             4\n",
              "sombra                  9             4"
            ]
          },
          "metadata": {},
          "execution_count": 22
        }
      ],
      "source": [
        "# Produtos mais comprados pré e pós pandemia\n",
        "\n",
        "labels = {1: 'Pré-Pandemia', 0: 'Pós-Pandemia'}\n",
        "\n",
        "status_prod = pd.crosstab(\n",
        "    dados_consumidor['produto'],\n",
        "    dados_consumidor['pre-pandemia'],\n",
        "    rownames = [ 'Produtos'],\n",
        "    colnames = [ 'Categoria']\n",
        ")\n",
        "status_prod.rename(columns = labels, inplace = True)\n",
        "status_prod"
      ]
    },
    {
      "cell_type": "markdown",
      "metadata": {
        "id": "YC8jN2HrjzR_"
      },
      "source": [
        "### Você notou diferenças nítidas pré e pós pandemia? Como você poderia provar estatisticamente que essas diferenças são significativas ? (pergunta extra)\n"
      ]
    },
    {
      "cell_type": "markdown",
      "source": [
        "![calculo](https://calculadorajuroscompostos.com.br/wp-content/uploads/2018/09/formula-variacao-percentual-menor-para-maior.png)"
      ],
      "metadata": {
        "id": "PVqOKgzFqBBc"
      }
    },
    {
      "cell_type": "code",
      "source": [
        "# percentual de crescimento dos produtos \n",
        "\n",
        "porcentagem = round((status_prod['Pós-Pandemia'] - status_prod['Pré-Pandemia'])  / status_prod['Pré-Pandemia'] * 100, 2)\n",
        "porcentagem"
      ],
      "metadata": {
        "id": "Qzk-nWMTm7vG",
        "colab": {
          "base_uri": "https://localhost:8080/"
        },
        "outputId": "ff199885-aaf4-47f1-8564-9ecd7bd23be2"
      },
      "execution_count": 23,
      "outputs": [
        {
          "output_type": "execute_result",
          "data": {
            "text/plain": [
              "Produtos\n",
              "antissinais    122.22\n",
              "base            33.33\n",
              "batom          -75.41\n",
              "desodorante    130.00\n",
              "perfume        100.00\n",
              "sombra         125.00\n",
              "dtype: float64"
            ]
          },
          "metadata": {},
          "execution_count": 23
        }
      ]
    },
    {
      "cell_type": "code",
      "execution_count": 24,
      "metadata": {
        "id": "NXGNO4gTjzR-",
        "colab": {
          "base_uri": "https://localhost:8080/",
          "height": 281
        },
        "outputId": "5884e8a1-59da-4a9c-dba9-4d8de69e07c1"
      },
      "outputs": [
        {
          "output_type": "display_data",
          "data": {
            "image/png": "[encoded data removed]",
            "text/plain": [
              "<Figure size 432x288 with 1 Axes>"
            ]
          },
          "metadata": {
            "needs_background": "light"
          }
        }
      ],
      "source": [
        "#gráfico ilustrativo dos produtos\n",
        "\n",
        "\n",
        "# Quantidade de vendas para o Produto A\n",
        "valores_produto_pre = [20, 9, 61, 4, 4, 3]\n",
        "\n",
        "# Quantidade de vendas para o Produto B\n",
        "valores_produto_pos = [46, 20, 15, 9, 8, 4] \n",
        "\n",
        "# Cria eixo x para produto A e produto B com uma separação de 0.25 entre as barras\n",
        "x1 =  np.arange(len(valores_produto_pre))\n",
        "x2 = [x + 0.25 for x in x1]\n",
        "\n",
        "# Plota as barras\n",
        "plt.bar(x1, valores_produto_pre, width=0.25, label = 'Pré-pandemia', color = 'b')\n",
        "plt.bar(x2, valores_produto_pos, width=0.25, label = 'Pós-pandemia', color = 'y')\n",
        "\n",
        "# coloca o nome dos produtos como label do eixo x\n",
        "meses = ['desodorante', 'antissinais', 'batom', 'sombra', 'perfume', 'base']\n",
        "plt.xticks([x + 0.25 for x in range(len(valores_produto_pre))], meses)\n",
        "\n",
        "# inseri uma legenda no gráfico\n",
        "plt.legend()\n",
        "\n",
        "plt.title(\"Quantidade de Vendas\")\n",
        "plt.show()"
      ]
    },
    {
      "cell_type": "markdown",
      "metadata": {
        "id": "IlLskz-QjzR_"
      },
      "source": [
        "### Amostragem"
      ]
    },
    {
      "cell_type": "markdown",
      "metadata": {
        "id": "hqptvDuSjzR_"
      },
      "source": [
        "3. Suponha agora que os dados recebidos são somente uma amostra da sua\n",
        "população total de clientes. Suponha que a sua \"população\" de clientes\n",
        "verdadeira é de 100000. Qual o tamanho da amostra necessária para\n",
        "chegarmos a conclusões com 95% de confiança e 2% de margem de erro? A\n",
        "base informada é suficiente? E com uma margem de erro de 10%?"
      ]
    },
    {
      "cell_type": "markdown",
      "metadata": {
        "id": "M2F01UrDjzSA"
      },
      "source": [
        "#### Fórmula usada"
      ]
    },
    {
      "cell_type": "markdown",
      "metadata": {
        "id": "-HjTo415jzSA"
      },
      "source": [
        "![imagem](https://media-exp1.licdn.com/dms/image/C4E12AQET0yMpgxEXhg/article-inline_image-shrink_1000_1488/0/1586443913114?e=1651104000&v=beta&t=yZ85NwQSS4K_e3YdV6OtFjtPY7iebfbj8mmfmtug0Us)"
      ]
    },
    {
      "cell_type": "code",
      "execution_count": 25,
      "metadata": {
        "id": "StQy7BBYjzSA",
        "colab": {
          "base_uri": "https://localhost:8080/"
        },
        "outputId": "48a341da-ac76-4624-9e19-97df4de95692"
      },
      "outputs": [
        {
          "output_type": "stream",
          "name": "stdout",
          "text": [
            "2494\n"
          ]
        }
      ],
      "source": [
        "#Amostragem quantitativa\n",
        "\n",
        "N = 1000000 #total de clientes\n",
        "e = 0.02 # margem de erro\n",
        "\n",
        "def tamanhoAmostra(e,N):\n",
        "\n",
        "    n = (N / (1 + (N*(e**2))))\n",
        "\n",
        "    return round(n)\n",
        "\n",
        "\n",
        "\n",
        "print(round(tamanhoAmostra(e, N)))"
      ]
    }
  ],
  "metadata": {
    "interpreter": {
      "hash": "9b3b2c27a951c579d12686a5b7f91f89e4fb43206bf36eb61e8d65e3da68b17f"
    },
    "kernelspec": {
      "display_name": "Python 3.8.5 ('base')",
      "language": "python",
      "name": "python3"
    },
    "language_info": {
      "codemirror_mode": {
        "name": "ipython",
        "version": 3
      },
      "file_extension": ".py",
      "mimetype": "text/x-python",
      "name": "python",
      "nbconvert_exporter": "python",
      "pygments_lexer": "ipython3",
      "version": "3.8.5"
    },
    "orig_nbformat": 4,
    "colab": {
      "name": "Womaker-Challenge-02.ipynb",
      "provenance": []
    }
  },
  "nbformat": 4,
  "nbformat_minor": 0
}