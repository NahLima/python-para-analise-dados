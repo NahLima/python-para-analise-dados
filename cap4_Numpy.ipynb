{
  "nbformat": 4,
  "nbformat_minor": 0,
  "metadata": {
    "colab": {
      "name": "cap4-Numpy.ipynb",
      "provenance": [],
      "authorship_tag": "ABX9TyO6Lk0REX27uzTOhRScq7hE",
      "include_colab_link": true
    },
    "kernelspec": {
      "name": "python3",
      "display_name": "Python 3"
    },
    "language_info": {
      "name": "python"
    }
  },
  "cells": [
    {
      "cell_type": "markdown",
      "metadata": {
        "id": "view-in-github",
        "colab_type": "text"
      },
      "source": [
        "<a href=\"https://colab.research.google.com/github/NahLima/python-para-analise-dados/blob/main/cap4_Numpy.ipynb\" target=\"_parent\"><img src=\"https://colab.research.google.com/assets/colab-badge.svg\" alt=\"Open In Colab\"/></a>"
      ]
    },
    {
      "cell_type": "code",
      "execution_count": 1,
      "metadata": {
        "id": "_QM1x1pU2M7o"
      },
      "outputs": [],
      "source": [
        "import numpy as np"
      ]
    },
    {
      "cell_type": "code",
      "source": [
        "my_arr = np.arange(100000)"
      ],
      "metadata": {
        "id": "0F2dTewj2PJn"
      },
      "execution_count": 2,
      "outputs": []
    },
    {
      "cell_type": "code",
      "source": [
        "my_list = list(range(100000))"
      ],
      "metadata": {
        "id": "23wtrEdA2ShC"
      },
      "execution_count": 4,
      "outputs": []
    },
    {
      "cell_type": "markdown",
      "source": [
        "Multiplicando cada sequencia por 2"
      ],
      "metadata": {
        "id": "twr6c6Nd2hrz"
      }
    },
    {
      "cell_type": "code",
      "source": [
        "%time for _ in range(10) : my_arr2 = my_arr * 2"
      ],
      "metadata": {
        "colab": {
          "base_uri": "https://localhost:8080/"
        },
        "id": "6bPap-8F2qha",
        "outputId": "e027369e-3a1f-4015-d58c-20313a5cc29f"
      },
      "execution_count": 5,
      "outputs": [
        {
          "output_type": "stream",
          "name": "stdout",
          "text": [
            "CPU times: user 1.45 ms, sys: 1.68 ms, total: 3.13 ms\n",
            "Wall time: 7.4 ms\n"
          ]
        }
      ]
    },
    {
      "cell_type": "code",
      "source": [
        "%time for _ in range(10): my_list2 = [x * 2 for x in my_list]"
      ],
      "metadata": {
        "colab": {
          "base_uri": "https://localhost:8080/"
        },
        "id": "tvd7xqvz21--",
        "outputId": "b979063f-0e4d-475a-cbb4-4405ae5fdc0c"
      },
      "execution_count": 6,
      "outputs": [
        {
          "output_type": "stream",
          "name": "stdout",
          "text": [
            "CPU times: user 75.5 ms, sys: 12.7 ms, total: 88.2 ms\n",
            "Wall time: 89.8 ms\n"
          ]
        }
      ]
    },
    {
      "cell_type": "code",
      "source": [
        ""
      ],
      "metadata": {
        "id": "4JUVaUx-3CTg"
      },
      "execution_count": null,
      "outputs": []
    }
  ]
}